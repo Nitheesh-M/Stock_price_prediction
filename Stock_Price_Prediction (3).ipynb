{
  "cells": [
    {
      "cell_type": "markdown",
      "metadata": {
        "id": "msE9MqR8i8qz"
      },
      "source": [
        "#Stock_Price_Prediction"
      ],
      "id": "msE9MqR8i8qz"
    },
    {
      "cell_type": "markdown",
      "metadata": {
        "id": "AohmxglUiC4y"
      },
      "source": [
        "PROJECT BY:\n",
        "\n",
        "CB.EN.U4CSE20218\n",
        "\n",
        "CB.EN.U4CSE20219\n",
        "\n",
        "CB.EN.U4CSE20221\n",
        "\n",
        "CB.EN.U4CSE20244\n",
        "\n",
        "CB.EN.U4CSE20265"
      ],
      "id": "AohmxglUiC4y"
    },
    {
      "cell_type": "markdown",
      "metadata": {
        "id": "BmO8vTrIhsHw"
      },
      "source": [
        "#IMPORTING MODULES"
      ],
      "id": "BmO8vTrIhsHw"
    },
    {
      "cell_type": "code",
      "execution_count": 677,
      "metadata": {
        "id": "59df9209"
      },
      "outputs": [],
      "source": [
        "import numpy as np\n",
        "import pandas as pd\n",
        "import matplotlib.pyplot as plt\n",
        "from sklearn.datasets import load_boston\n",
        "import seaborn as sns"
      ],
      "id": "59df9209"
    },
    {
      "cell_type": "code",
      "execution_count": 678,
      "metadata": {
        "id": "NFN7jm5we5WJ",
        "colab": {
          "base_uri": "https://localhost:8080/"
        },
        "outputId": "266c3de7-c85b-4808-f453-ae2705ec854a"
      },
      "outputs": [
        {
          "output_type": "stream",
          "name": "stdout",
          "text": [
            "Drive already mounted at /content/drive; to attempt to forcibly remount, call drive.mount(\"/content/drive\", force_remount=True).\n"
          ]
        }
      ],
      "source": [
        "from google.colab import drive\n",
        "drive.mount('/content/drive')"
      ],
      "id": "NFN7jm5we5WJ"
    },
    {
      "cell_type": "code",
      "execution_count": 679,
      "metadata": {
        "id": "295a4dd1",
        "colab": {
          "base_uri": "https://localhost:8080/",
          "height": 424
        },
        "outputId": "4966226e-7a8a-467e-9d17-868bb4dd1b86"
      },
      "outputs": [
        {
          "output_type": "execute_result",
          "data": {
            "text/plain": [
              "          Date   Open     High      Low  Close   Volume  OpenInt\n",
              "0   2015-08-05  18.00  22.2500  15.5000  16.25  1535500        0\n",
              "1   2015-08-06  16.48  19.5000  16.4600  19.32   331692        0\n",
              "2   2015-08-07  19.31  24.9000  19.3100  24.54   269300        0\n",
              "3   2015-08-10  29.70  42.8500  27.5000  35.14   539200        0\n",
              "4   2015-08-11  35.98  37.6880  28.1600  29.73   243632        0\n",
              "..         ...    ...      ...      ...    ...      ...      ...\n",
              "569 2017-11-06  10.42  11.5400  10.4200  11.19   977948        0\n",
              "570 2017-11-07  11.30  11.4200  10.6700  10.83   451210        0\n",
              "571 2017-11-08  10.70  11.0600  10.3500  10.90   336449        0\n",
              "572 2017-11-09  11.00  11.8563  10.9700  11.60   463067        0\n",
              "573 2017-11-10  11.68  13.1500  11.3043  12.46   885587        0\n",
              "\n",
              "[574 rows x 7 columns]"
            ],
            "text/html": [
              "\n",
              "  <div id=\"df-cc261122-128b-4d7b-96e3-b6c608688295\">\n",
              "    <div class=\"colab-df-container\">\n",
              "      <div>\n",
              "<style scoped>\n",
              "    .dataframe tbody tr th:only-of-type {\n",
              "        vertical-align: middle;\n",
              "    }\n",
              "\n",
              "    .dataframe tbody tr th {\n",
              "        vertical-align: top;\n",
              "    }\n",
              "\n",
              "    .dataframe thead th {\n",
              "        text-align: right;\n",
              "    }\n",
              "</style>\n",
              "<table border=\"1\" class=\"dataframe\">\n",
              "  <thead>\n",
              "    <tr style=\"text-align: right;\">\n",
              "      <th></th>\n",
              "      <th>Date</th>\n",
              "      <th>Open</th>\n",
              "      <th>High</th>\n",
              "      <th>Low</th>\n",
              "      <th>Close</th>\n",
              "      <th>Volume</th>\n",
              "      <th>OpenInt</th>\n",
              "    </tr>\n",
              "  </thead>\n",
              "  <tbody>\n",
              "    <tr>\n",
              "      <th>0</th>\n",
              "      <td>2015-08-05</td>\n",
              "      <td>18.00</td>\n",
              "      <td>22.2500</td>\n",
              "      <td>15.5000</td>\n",
              "      <td>16.25</td>\n",
              "      <td>1535500</td>\n",
              "      <td>0</td>\n",
              "    </tr>\n",
              "    <tr>\n",
              "      <th>1</th>\n",
              "      <td>2015-08-06</td>\n",
              "      <td>16.48</td>\n",
              "      <td>19.5000</td>\n",
              "      <td>16.4600</td>\n",
              "      <td>19.32</td>\n",
              "      <td>331692</td>\n",
              "      <td>0</td>\n",
              "    </tr>\n",
              "    <tr>\n",
              "      <th>2</th>\n",
              "      <td>2015-08-07</td>\n",
              "      <td>19.31</td>\n",
              "      <td>24.9000</td>\n",
              "      <td>19.3100</td>\n",
              "      <td>24.54</td>\n",
              "      <td>269300</td>\n",
              "      <td>0</td>\n",
              "    </tr>\n",
              "    <tr>\n",
              "      <th>3</th>\n",
              "      <td>2015-08-10</td>\n",
              "      <td>29.70</td>\n",
              "      <td>42.8500</td>\n",
              "      <td>27.5000</td>\n",
              "      <td>35.14</td>\n",
              "      <td>539200</td>\n",
              "      <td>0</td>\n",
              "    </tr>\n",
              "    <tr>\n",
              "      <th>4</th>\n",
              "      <td>2015-08-11</td>\n",
              "      <td>35.98</td>\n",
              "      <td>37.6880</td>\n",
              "      <td>28.1600</td>\n",
              "      <td>29.73</td>\n",
              "      <td>243632</td>\n",
              "      <td>0</td>\n",
              "    </tr>\n",
              "    <tr>\n",
              "      <th>...</th>\n",
              "      <td>...</td>\n",
              "      <td>...</td>\n",
              "      <td>...</td>\n",
              "      <td>...</td>\n",
              "      <td>...</td>\n",
              "      <td>...</td>\n",
              "      <td>...</td>\n",
              "    </tr>\n",
              "    <tr>\n",
              "      <th>569</th>\n",
              "      <td>2017-11-06</td>\n",
              "      <td>10.42</td>\n",
              "      <td>11.5400</td>\n",
              "      <td>10.4200</td>\n",
              "      <td>11.19</td>\n",
              "      <td>977948</td>\n",
              "      <td>0</td>\n",
              "    </tr>\n",
              "    <tr>\n",
              "      <th>570</th>\n",
              "      <td>2017-11-07</td>\n",
              "      <td>11.30</td>\n",
              "      <td>11.4200</td>\n",
              "      <td>10.6700</td>\n",
              "      <td>10.83</td>\n",
              "      <td>451210</td>\n",
              "      <td>0</td>\n",
              "    </tr>\n",
              "    <tr>\n",
              "      <th>571</th>\n",
              "      <td>2017-11-08</td>\n",
              "      <td>10.70</td>\n",
              "      <td>11.0600</td>\n",
              "      <td>10.3500</td>\n",
              "      <td>10.90</td>\n",
              "      <td>336449</td>\n",
              "      <td>0</td>\n",
              "    </tr>\n",
              "    <tr>\n",
              "      <th>572</th>\n",
              "      <td>2017-11-09</td>\n",
              "      <td>11.00</td>\n",
              "      <td>11.8563</td>\n",
              "      <td>10.9700</td>\n",
              "      <td>11.60</td>\n",
              "      <td>463067</td>\n",
              "      <td>0</td>\n",
              "    </tr>\n",
              "    <tr>\n",
              "      <th>573</th>\n",
              "      <td>2017-11-10</td>\n",
              "      <td>11.68</td>\n",
              "      <td>13.1500</td>\n",
              "      <td>11.3043</td>\n",
              "      <td>12.46</td>\n",
              "      <td>885587</td>\n",
              "      <td>0</td>\n",
              "    </tr>\n",
              "  </tbody>\n",
              "</table>\n",
              "<p>574 rows × 7 columns</p>\n",
              "</div>\n",
              "      <button class=\"colab-df-convert\" onclick=\"convertToInteractive('df-cc261122-128b-4d7b-96e3-b6c608688295')\"\n",
              "              title=\"Convert this dataframe to an interactive table.\"\n",
              "              style=\"display:none;\">\n",
              "        \n",
              "  <svg xmlns=\"http://www.w3.org/2000/svg\" height=\"24px\"viewBox=\"0 0 24 24\"\n",
              "       width=\"24px\">\n",
              "    <path d=\"M0 0h24v24H0V0z\" fill=\"none\"/>\n",
              "    <path d=\"M18.56 5.44l.94 2.06.94-2.06 2.06-.94-2.06-.94-.94-2.06-.94 2.06-2.06.94zm-11 1L8.5 8.5l.94-2.06 2.06-.94-2.06-.94L8.5 2.5l-.94 2.06-2.06.94zm10 10l.94 2.06.94-2.06 2.06-.94-2.06-.94-.94-2.06-.94 2.06-2.06.94z\"/><path d=\"M17.41 7.96l-1.37-1.37c-.4-.4-.92-.59-1.43-.59-.52 0-1.04.2-1.43.59L10.3 9.45l-7.72 7.72c-.78.78-.78 2.05 0 2.83L4 21.41c.39.39.9.59 1.41.59.51 0 1.02-.2 1.41-.59l7.78-7.78 2.81-2.81c.8-.78.8-2.07 0-2.86zM5.41 20L4 18.59l7.72-7.72 1.47 1.35L5.41 20z\"/>\n",
              "  </svg>\n",
              "      </button>\n",
              "      \n",
              "  <style>\n",
              "    .colab-df-container {\n",
              "      display:flex;\n",
              "      flex-wrap:wrap;\n",
              "      gap: 12px;\n",
              "    }\n",
              "\n",
              "    .colab-df-convert {\n",
              "      background-color: #E8F0FE;\n",
              "      border: none;\n",
              "      border-radius: 50%;\n",
              "      cursor: pointer;\n",
              "      display: none;\n",
              "      fill: #1967D2;\n",
              "      height: 32px;\n",
              "      padding: 0 0 0 0;\n",
              "      width: 32px;\n",
              "    }\n",
              "\n",
              "    .colab-df-convert:hover {\n",
              "      background-color: #E2EBFA;\n",
              "      box-shadow: 0px 1px 2px rgba(60, 64, 67, 0.3), 0px 1px 3px 1px rgba(60, 64, 67, 0.15);\n",
              "      fill: #174EA6;\n",
              "    }\n",
              "\n",
              "    [theme=dark] .colab-df-convert {\n",
              "      background-color: #3B4455;\n",
              "      fill: #D2E3FC;\n",
              "    }\n",
              "\n",
              "    [theme=dark] .colab-df-convert:hover {\n",
              "      background-color: #434B5C;\n",
              "      box-shadow: 0px 1px 3px 1px rgba(0, 0, 0, 0.15);\n",
              "      filter: drop-shadow(0px 1px 2px rgba(0, 0, 0, 0.3));\n",
              "      fill: #FFFFFF;\n",
              "    }\n",
              "  </style>\n",
              "\n",
              "      <script>\n",
              "        const buttonEl =\n",
              "          document.querySelector('#df-cc261122-128b-4d7b-96e3-b6c608688295 button.colab-df-convert');\n",
              "        buttonEl.style.display =\n",
              "          google.colab.kernel.accessAllowed ? 'block' : 'none';\n",
              "\n",
              "        async function convertToInteractive(key) {\n",
              "          const element = document.querySelector('#df-cc261122-128b-4d7b-96e3-b6c608688295');\n",
              "          const dataTable =\n",
              "            await google.colab.kernel.invokeFunction('convertToInteractive',\n",
              "                                                     [key], {});\n",
              "          if (!dataTable) return;\n",
              "\n",
              "          const docLinkHtml = 'Like what you see? Visit the ' +\n",
              "            '<a target=\"_blank\" href=https://colab.research.google.com/notebooks/data_table.ipynb>data table notebook</a>'\n",
              "            + ' to learn more about interactive tables.';\n",
              "          element.innerHTML = '';\n",
              "          dataTable['output_type'] = 'display_data';\n",
              "          await google.colab.output.renderOutput(dataTable, element);\n",
              "          const docLink = document.createElement('div');\n",
              "          docLink.innerHTML = docLinkHtml;\n",
              "          element.appendChild(docLink);\n",
              "        }\n",
              "      </script>\n",
              "    </div>\n",
              "  </div>\n",
              "  "
            ]
          },
          "metadata": {},
          "execution_count": 679
        }
      ],
      "source": [
        "df = pd.read_csv(\"/content/drive/MyDrive/zyne.us.txt\",parse_dates=['Date'])\n",
        "df"
      ],
      "id": "295a4dd1"
    },
    {
      "cell_type": "markdown",
      "metadata": {
        "id": "c2a-2UW0hlki"
      },
      "source": [
        "#EXPOLARATORY DATA ANALYSIS"
      ],
      "id": "c2a-2UW0hlki"
    },
    {
      "cell_type": "code",
      "execution_count": 680,
      "metadata": {
        "id": "5c018e1d",
        "colab": {
          "base_uri": "https://localhost:8080/"
        },
        "outputId": "61fd06db-140a-4056-c4eb-22480d06fb4c"
      },
      "outputs": [
        {
          "output_type": "execute_result",
          "data": {
            "text/plain": [
              "(574, 7)"
            ]
          },
          "metadata": {},
          "execution_count": 680
        }
      ],
      "source": [
        "df.shape"
      ],
      "id": "5c018e1d"
    },
    {
      "cell_type": "code",
      "execution_count": 681,
      "metadata": {
        "id": "63987a0f",
        "colab": {
          "base_uri": "https://localhost:8080/",
          "height": 300
        },
        "outputId": "8cd58e50-eaf5-4b35-a9d2-2686bec639cf"
      },
      "outputs": [
        {
          "output_type": "execute_result",
          "data": {
            "text/plain": [
              "             Open       High         Low       Close        Volume  OpenInt\n",
              "count  574.000000  574.00000  574.000000  574.000000  5.740000e+02    574.0\n",
              "mean    13.584548   14.16217   12.998530   13.526147  3.639375e+05      0.0\n",
              "std      5.985249    6.36847    5.647351    5.944354  8.045633e+05      0.0\n",
              "min      4.750000    5.40000    4.640000    4.990000  1.265400e+04      0.0\n",
              "25%      8.910000    9.36875    8.602500    8.860000  1.091920e+05      0.0\n",
              "50%     12.805000   13.38500   12.355000   12.795000  2.144885e+05      0.0\n",
              "75%     18.220000   18.80000   17.810000   18.167500  3.817345e+05      0.0\n",
              "max     37.980000   43.00000   33.680000   36.490000  1.363256e+07      0.0"
            ],
            "text/html": [
              "\n",
              "  <div id=\"df-7893f305-76b9-45c3-818f-ab05de480e98\">\n",
              "    <div class=\"colab-df-container\">\n",
              "      <div>\n",
              "<style scoped>\n",
              "    .dataframe tbody tr th:only-of-type {\n",
              "        vertical-align: middle;\n",
              "    }\n",
              "\n",
              "    .dataframe tbody tr th {\n",
              "        vertical-align: top;\n",
              "    }\n",
              "\n",
              "    .dataframe thead th {\n",
              "        text-align: right;\n",
              "    }\n",
              "</style>\n",
              "<table border=\"1\" class=\"dataframe\">\n",
              "  <thead>\n",
              "    <tr style=\"text-align: right;\">\n",
              "      <th></th>\n",
              "      <th>Open</th>\n",
              "      <th>High</th>\n",
              "      <th>Low</th>\n",
              "      <th>Close</th>\n",
              "      <th>Volume</th>\n",
              "      <th>OpenInt</th>\n",
              "    </tr>\n",
              "  </thead>\n",
              "  <tbody>\n",
              "    <tr>\n",
              "      <th>count</th>\n",
              "      <td>574.000000</td>\n",
              "      <td>574.00000</td>\n",
              "      <td>574.000000</td>\n",
              "      <td>574.000000</td>\n",
              "      <td>5.740000e+02</td>\n",
              "      <td>574.0</td>\n",
              "    </tr>\n",
              "    <tr>\n",
              "      <th>mean</th>\n",
              "      <td>13.584548</td>\n",
              "      <td>14.16217</td>\n",
              "      <td>12.998530</td>\n",
              "      <td>13.526147</td>\n",
              "      <td>3.639375e+05</td>\n",
              "      <td>0.0</td>\n",
              "    </tr>\n",
              "    <tr>\n",
              "      <th>std</th>\n",
              "      <td>5.985249</td>\n",
              "      <td>6.36847</td>\n",
              "      <td>5.647351</td>\n",
              "      <td>5.944354</td>\n",
              "      <td>8.045633e+05</td>\n",
              "      <td>0.0</td>\n",
              "    </tr>\n",
              "    <tr>\n",
              "      <th>min</th>\n",
              "      <td>4.750000</td>\n",
              "      <td>5.40000</td>\n",
              "      <td>4.640000</td>\n",
              "      <td>4.990000</td>\n",
              "      <td>1.265400e+04</td>\n",
              "      <td>0.0</td>\n",
              "    </tr>\n",
              "    <tr>\n",
              "      <th>25%</th>\n",
              "      <td>8.910000</td>\n",
              "      <td>9.36875</td>\n",
              "      <td>8.602500</td>\n",
              "      <td>8.860000</td>\n",
              "      <td>1.091920e+05</td>\n",
              "      <td>0.0</td>\n",
              "    </tr>\n",
              "    <tr>\n",
              "      <th>50%</th>\n",
              "      <td>12.805000</td>\n",
              "      <td>13.38500</td>\n",
              "      <td>12.355000</td>\n",
              "      <td>12.795000</td>\n",
              "      <td>2.144885e+05</td>\n",
              "      <td>0.0</td>\n",
              "    </tr>\n",
              "    <tr>\n",
              "      <th>75%</th>\n",
              "      <td>18.220000</td>\n",
              "      <td>18.80000</td>\n",
              "      <td>17.810000</td>\n",
              "      <td>18.167500</td>\n",
              "      <td>3.817345e+05</td>\n",
              "      <td>0.0</td>\n",
              "    </tr>\n",
              "    <tr>\n",
              "      <th>max</th>\n",
              "      <td>37.980000</td>\n",
              "      <td>43.00000</td>\n",
              "      <td>33.680000</td>\n",
              "      <td>36.490000</td>\n",
              "      <td>1.363256e+07</td>\n",
              "      <td>0.0</td>\n",
              "    </tr>\n",
              "  </tbody>\n",
              "</table>\n",
              "</div>\n",
              "      <button class=\"colab-df-convert\" onclick=\"convertToInteractive('df-7893f305-76b9-45c3-818f-ab05de480e98')\"\n",
              "              title=\"Convert this dataframe to an interactive table.\"\n",
              "              style=\"display:none;\">\n",
              "        \n",
              "  <svg xmlns=\"http://www.w3.org/2000/svg\" height=\"24px\"viewBox=\"0 0 24 24\"\n",
              "       width=\"24px\">\n",
              "    <path d=\"M0 0h24v24H0V0z\" fill=\"none\"/>\n",
              "    <path d=\"M18.56 5.44l.94 2.06.94-2.06 2.06-.94-2.06-.94-.94-2.06-.94 2.06-2.06.94zm-11 1L8.5 8.5l.94-2.06 2.06-.94-2.06-.94L8.5 2.5l-.94 2.06-2.06.94zm10 10l.94 2.06.94-2.06 2.06-.94-2.06-.94-.94-2.06-.94 2.06-2.06.94z\"/><path d=\"M17.41 7.96l-1.37-1.37c-.4-.4-.92-.59-1.43-.59-.52 0-1.04.2-1.43.59L10.3 9.45l-7.72 7.72c-.78.78-.78 2.05 0 2.83L4 21.41c.39.39.9.59 1.41.59.51 0 1.02-.2 1.41-.59l7.78-7.78 2.81-2.81c.8-.78.8-2.07 0-2.86zM5.41 20L4 18.59l7.72-7.72 1.47 1.35L5.41 20z\"/>\n",
              "  </svg>\n",
              "      </button>\n",
              "      \n",
              "  <style>\n",
              "    .colab-df-container {\n",
              "      display:flex;\n",
              "      flex-wrap:wrap;\n",
              "      gap: 12px;\n",
              "    }\n",
              "\n",
              "    .colab-df-convert {\n",
              "      background-color: #E8F0FE;\n",
              "      border: none;\n",
              "      border-radius: 50%;\n",
              "      cursor: pointer;\n",
              "      display: none;\n",
              "      fill: #1967D2;\n",
              "      height: 32px;\n",
              "      padding: 0 0 0 0;\n",
              "      width: 32px;\n",
              "    }\n",
              "\n",
              "    .colab-df-convert:hover {\n",
              "      background-color: #E2EBFA;\n",
              "      box-shadow: 0px 1px 2px rgba(60, 64, 67, 0.3), 0px 1px 3px 1px rgba(60, 64, 67, 0.15);\n",
              "      fill: #174EA6;\n",
              "    }\n",
              "\n",
              "    [theme=dark] .colab-df-convert {\n",
              "      background-color: #3B4455;\n",
              "      fill: #D2E3FC;\n",
              "    }\n",
              "\n",
              "    [theme=dark] .colab-df-convert:hover {\n",
              "      background-color: #434B5C;\n",
              "      box-shadow: 0px 1px 3px 1px rgba(0, 0, 0, 0.15);\n",
              "      filter: drop-shadow(0px 1px 2px rgba(0, 0, 0, 0.3));\n",
              "      fill: #FFFFFF;\n",
              "    }\n",
              "  </style>\n",
              "\n",
              "      <script>\n",
              "        const buttonEl =\n",
              "          document.querySelector('#df-7893f305-76b9-45c3-818f-ab05de480e98 button.colab-df-convert');\n",
              "        buttonEl.style.display =\n",
              "          google.colab.kernel.accessAllowed ? 'block' : 'none';\n",
              "\n",
              "        async function convertToInteractive(key) {\n",
              "          const element = document.querySelector('#df-7893f305-76b9-45c3-818f-ab05de480e98');\n",
              "          const dataTable =\n",
              "            await google.colab.kernel.invokeFunction('convertToInteractive',\n",
              "                                                     [key], {});\n",
              "          if (!dataTable) return;\n",
              "\n",
              "          const docLinkHtml = 'Like what you see? Visit the ' +\n",
              "            '<a target=\"_blank\" href=https://colab.research.google.com/notebooks/data_table.ipynb>data table notebook</a>'\n",
              "            + ' to learn more about interactive tables.';\n",
              "          element.innerHTML = '';\n",
              "          dataTable['output_type'] = 'display_data';\n",
              "          await google.colab.output.renderOutput(dataTable, element);\n",
              "          const docLink = document.createElement('div');\n",
              "          docLink.innerHTML = docLinkHtml;\n",
              "          element.appendChild(docLink);\n",
              "        }\n",
              "      </script>\n",
              "    </div>\n",
              "  </div>\n",
              "  "
            ]
          },
          "metadata": {},
          "execution_count": 681
        }
      ],
      "source": [
        "df.describe()"
      ],
      "id": "63987a0f"
    },
    {
      "cell_type": "code",
      "execution_count": 682,
      "metadata": {
        "id": "538e5f53",
        "colab": {
          "base_uri": "https://localhost:8080/"
        },
        "outputId": "65c04cd6-c26c-423c-8535-6f08ca4c27e5"
      },
      "outputs": [
        {
          "output_type": "execute_result",
          "data": {
            "text/plain": [
              "Date       datetime64[ns]\n",
              "Open              float64\n",
              "High              float64\n",
              "Low               float64\n",
              "Close             float64\n",
              "Volume              int64\n",
              "OpenInt             int64\n",
              "dtype: object"
            ]
          },
          "metadata": {},
          "execution_count": 682
        }
      ],
      "source": [
        "df.dtypes"
      ],
      "id": "538e5f53"
    },
    {
      "cell_type": "code",
      "execution_count": 683,
      "metadata": {
        "id": "XSnHclw6vL9G",
        "colab": {
          "base_uri": "https://localhost:8080/"
        },
        "outputId": "09ac0161-6195-4f3f-d508-7d4623cb7d18"
      },
      "outputs": [
        {
          "output_type": "execute_result",
          "data": {
            "text/plain": [
              "6.26     4\n",
              "14.50    4\n",
              "6.20     4\n",
              "9.95     4\n",
              "9.60     4\n",
              "        ..\n",
              "7.67     1\n",
              "8.13     1\n",
              "8.94     1\n",
              "9.34     1\n",
              "11.68    1\n",
              "Name: Open, Length: 459, dtype: int64"
            ]
          },
          "metadata": {},
          "execution_count": 683
        }
      ],
      "source": [
        "df.Open.value_counts() "
      ],
      "id": "XSnHclw6vL9G"
    },
    {
      "cell_type": "code",
      "execution_count": 684,
      "metadata": {
        "id": "00dquM0_vdA-",
        "colab": {
          "base_uri": "https://localhost:8080/",
          "height": 265
        },
        "outputId": "cd4e123a-e62f-4cec-eb00-8b8290943357"
      },
      "outputs": [
        {
          "output_type": "display_data",
          "data": {
            "text/plain": [
              "<Figure size 432x288 with 1 Axes>"
            ],
            "image/png": "[encoded data removed]"
          },
          "metadata": {
            "needs_background": "light"
          }
        }
      ],
      "source": [
        "df.Open.plot(kind=\"line\");"
      ],
      "id": "00dquM0_vdA-"
    },
    {
      "cell_type": "code",
      "execution_count": 685,
      "metadata": {
        "id": "jj9g-sciwF-w",
        "colab": {
          "base_uri": "https://localhost:8080/"
        },
        "outputId": "1f0918be-820a-425e-dc84-f45e649a9928"
      },
      "outputs": [
        {
          "output_type": "display_data",
          "data": {
            "text/plain": [
              "<Figure size 432x288 with 1 Axes>"
            ],
            "image/png": "[encoded data removed]"
          },
          "metadata": {
            "needs_background": "light"
          }
        }
      ],
      "source": [
        "df.Close.plot(kind=\"line\",x=None);"
      ],
      "id": "jj9g-sciwF-w"
    },
    {
      "cell_type": "code",
      "execution_count": 686,
      "metadata": {
        "id": "TDTca9-8gzjz",
        "colab": {
          "base_uri": "https://localhost:8080/"
        },
        "outputId": "bcc26dc1-b8c5-474b-977d-b4b9e324d9c6"
      },
      "outputs": [
        {
          "output_type": "execute_result",
          "data": {
            "text/plain": [
              "<bound method DataFrame.info of           Date   Open     High      Low  Close   Volume  OpenInt\n",
              "0   2015-08-05  18.00  22.2500  15.5000  16.25  1535500        0\n",
              "1   2015-08-06  16.48  19.5000  16.4600  19.32   331692        0\n",
              "2   2015-08-07  19.31  24.9000  19.3100  24.54   269300        0\n",
              "3   2015-08-10  29.70  42.8500  27.5000  35.14   539200        0\n",
              "4   2015-08-11  35.98  37.6880  28.1600  29.73   243632        0\n",
              "..         ...    ...      ...      ...    ...      ...      ...\n",
              "569 2017-11-06  10.42  11.5400  10.4200  11.19   977948        0\n",
              "570 2017-11-07  11.30  11.4200  10.6700  10.83   451210        0\n",
              "571 2017-11-08  10.70  11.0600  10.3500  10.90   336449        0\n",
              "572 2017-11-09  11.00  11.8563  10.9700  11.60   463067        0\n",
              "573 2017-11-10  11.68  13.1500  11.3043  12.46   885587        0\n",
              "\n",
              "[574 rows x 7 columns]>"
            ]
          },
          "metadata": {},
          "execution_count": 686
        }
      ],
      "source": [
        "df.info"
      ],
      "id": "TDTca9-8gzjz"
    },
    {
      "cell_type": "code",
      "execution_count": 687,
      "metadata": {
        "id": "ZVpoifImrghU",
        "colab": {
          "base_uri": "https://localhost:8080/"
        },
        "outputId": "6fb6f497-939e-4c18-d982-e6b986daa263"
      },
      "outputs": [
        {
          "output_type": "execute_result",
          "data": {
            "text/plain": [
              "          Date  Open  High     Low  Close  Volume  OpenInt\n",
              "209 2016-06-03  9.11  9.79  8.7966   9.51  414088        0"
            ],
            "text/html": [
              "\n",
              "  <div id=\"df-affd6323-b544-42cb-8d19-50c24348dc93\">\n",
              "    <div class=\"colab-df-container\">\n",
              "      <div>\n",
              "<style scoped>\n",
              "    .dataframe tbody tr th:only-of-type {\n",
              "        vertical-align: middle;\n",
              "    }\n",
              "\n",
              "    .dataframe tbody tr th {\n",
              "        vertical-align: top;\n",
              "    }\n",
              "\n",
              "    .dataframe thead th {\n",
              "        text-align: right;\n",
              "    }\n",
              "</style>\n",
              "<table border=\"1\" class=\"dataframe\">\n",
              "  <thead>\n",
              "    <tr style=\"text-align: right;\">\n",
              "      <th></th>\n",
              "      <th>Date</th>\n",
              "      <th>Open</th>\n",
              "      <th>High</th>\n",
              "      <th>Low</th>\n",
              "      <th>Close</th>\n",
              "      <th>Volume</th>\n",
              "      <th>OpenInt</th>\n",
              "    </tr>\n",
              "  </thead>\n",
              "  <tbody>\n",
              "    <tr>\n",
              "      <th>209</th>\n",
              "      <td>2016-06-03</td>\n",
              "      <td>9.11</td>\n",
              "      <td>9.79</td>\n",
              "      <td>8.7966</td>\n",
              "      <td>9.51</td>\n",
              "      <td>414088</td>\n",
              "      <td>0</td>\n",
              "    </tr>\n",
              "  </tbody>\n",
              "</table>\n",
              "</div>\n",
              "      <button class=\"colab-df-convert\" onclick=\"convertToInteractive('df-affd6323-b544-42cb-8d19-50c24348dc93')\"\n",
              "              title=\"Convert this dataframe to an interactive table.\"\n",
              "              style=\"display:none;\">\n",
              "        \n",
              "  <svg xmlns=\"http://www.w3.org/2000/svg\" height=\"24px\"viewBox=\"0 0 24 24\"\n",
              "       width=\"24px\">\n",
              "    <path d=\"M0 0h24v24H0V0z\" fill=\"none\"/>\n",
              "    <path d=\"M18.56 5.44l.94 2.06.94-2.06 2.06-.94-2.06-.94-.94-2.06-.94 2.06-2.06.94zm-11 1L8.5 8.5l.94-2.06 2.06-.94-2.06-.94L8.5 2.5l-.94 2.06-2.06.94zm10 10l.94 2.06.94-2.06 2.06-.94-2.06-.94-.94-2.06-.94 2.06-2.06.94z\"/><path d=\"M17.41 7.96l-1.37-1.37c-.4-.4-.92-.59-1.43-.59-.52 0-1.04.2-1.43.59L10.3 9.45l-7.72 7.72c-.78.78-.78 2.05 0 2.83L4 21.41c.39.39.9.59 1.41.59.51 0 1.02-.2 1.41-.59l7.78-7.78 2.81-2.81c.8-.78.8-2.07 0-2.86zM5.41 20L4 18.59l7.72-7.72 1.47 1.35L5.41 20z\"/>\n",
              "  </svg>\n",
              "      </button>\n",
              "      \n",
              "  <style>\n",
              "    .colab-df-container {\n",
              "      display:flex;\n",
              "      flex-wrap:wrap;\n",
              "      gap: 12px;\n",
              "    }\n",
              "\n",
              "    .colab-df-convert {\n",
              "      background-color: #E8F0FE;\n",
              "      border: none;\n",
              "      border-radius: 50%;\n",
              "      cursor: pointer;\n",
              "      display: none;\n",
              "      fill: #1967D2;\n",
              "      height: 32px;\n",
              "      padding: 0 0 0 0;\n",
              "      width: 32px;\n",
              "    }\n",
              "\n",
              "    .colab-df-convert:hover {\n",
              "      background-color: #E2EBFA;\n",
              "      box-shadow: 0px 1px 2px rgba(60, 64, 67, 0.3), 0px 1px 3px 1px rgba(60, 64, 67, 0.15);\n",
              "      fill: #174EA6;\n",
              "    }\n",
              "\n",
              "    [theme=dark] .colab-df-convert {\n",
              "      background-color: #3B4455;\n",
              "      fill: #D2E3FC;\n",
              "    }\n",
              "\n",
              "    [theme=dark] .colab-df-convert:hover {\n",
              "      background-color: #434B5C;\n",
              "      box-shadow: 0px 1px 3px 1px rgba(0, 0, 0, 0.15);\n",
              "      filter: drop-shadow(0px 1px 2px rgba(0, 0, 0, 0.3));\n",
              "      fill: #FFFFFF;\n",
              "    }\n",
              "  </style>\n",
              "\n",
              "      <script>\n",
              "        const buttonEl =\n",
              "          document.querySelector('#df-affd6323-b544-42cb-8d19-50c24348dc93 button.colab-df-convert');\n",
              "        buttonEl.style.display =\n",
              "          google.colab.kernel.accessAllowed ? 'block' : 'none';\n",
              "\n",
              "        async function convertToInteractive(key) {\n",
              "          const element = document.querySelector('#df-affd6323-b544-42cb-8d19-50c24348dc93');\n",
              "          const dataTable =\n",
              "            await google.colab.kernel.invokeFunction('convertToInteractive',\n",
              "                                                     [key], {});\n",
              "          if (!dataTable) return;\n",
              "\n",
              "          const docLinkHtml = 'Like what you see? Visit the ' +\n",
              "            '<a target=\"_blank\" href=https://colab.research.google.com/notebooks/data_table.ipynb>data table notebook</a>'\n",
              "            + ' to learn more about interactive tables.';\n",
              "          element.innerHTML = '';\n",
              "          dataTable['output_type'] = 'display_data';\n",
              "          await google.colab.output.renderOutput(dataTable, element);\n",
              "          const docLink = document.createElement('div');\n",
              "          docLink.innerHTML = docLinkHtml;\n",
              "          element.appendChild(docLink);\n",
              "        }\n",
              "      </script>\n",
              "    </div>\n",
              "  </div>\n",
              "  "
            ]
          },
          "metadata": {},
          "execution_count": 687
        }
      ],
      "source": [
        "df.sample()"
      ],
      "id": "ZVpoifImrghU"
    },
    {
      "cell_type": "code",
      "execution_count": 688,
      "metadata": {
        "id": "4HRPwFx9rj0O",
        "colab": {
          "base_uri": "https://localhost:8080/"
        },
        "outputId": "422d2598-0e7d-49e4-81ec-f1f6d1d5e7d6"
      },
      "outputs": [
        {
          "output_type": "execute_result",
          "data": {
            "text/plain": [
              "Date       2015-08-07 00:00:00\n",
              "Open                     19.31\n",
              "High                      24.9\n",
              "Low                      19.31\n",
              "Close                    24.54\n",
              "Volume                  269300\n",
              "OpenInt                      0\n",
              "Name: 2, dtype: object"
            ]
          },
          "metadata": {},
          "execution_count": 688
        }
      ],
      "source": [
        "df.loc[2]"
      ],
      "id": "4HRPwFx9rj0O"
    },
    {
      "cell_type": "code",
      "execution_count": 689,
      "metadata": {
        "id": "LSp6_pTihUQ9",
        "colab": {
          "base_uri": "https://localhost:8080/"
        },
        "outputId": "2c9ccffd-712e-4ac2-8c3e-2184c39d9220"
      },
      "outputs": [
        {
          "output_type": "execute_result",
          "data": {
            "text/plain": [
              "        Date   Open    High    Low  Close   Volume  OpenInt\n",
              "0 2015-08-05  18.00  22.250  15.50  16.25  1535500        0\n",
              "1 2015-08-06  16.48  19.500  16.46  19.32   331692        0\n",
              "2 2015-08-07  19.31  24.900  19.31  24.54   269300        0\n",
              "3 2015-08-10  29.70  42.850  27.50  35.14   539200        0\n",
              "4 2015-08-11  35.98  37.688  28.16  29.73   243632        0\n",
              "5 2015-08-12  28.91  36.000  28.00  32.05   238000        0\n",
              "6 2015-08-13  35.00  43.000  32.52  36.49   407800        0\n",
              "7 2015-08-14  37.98  39.500  33.68  34.84   233000        0\n",
              "8 2015-08-17  35.42  36.300  32.04  34.11   124000        0\n",
              "9 2015-08-18  34.72  34.720  31.45  32.22   141500        0"
            ],
            "text/html": [
              "\n",
              "  <div id=\"df-8e6668a8-dc26-4ec4-8559-a5a81ad01ce6\">\n",
              "    <div class=\"colab-df-container\">\n",
              "      <div>\n",
              "<style scoped>\n",
              "    .dataframe tbody tr th:only-of-type {\n",
              "        vertical-align: middle;\n",
              "    }\n",
              "\n",
              "    .dataframe tbody tr th {\n",
              "        vertical-align: top;\n",
              "    }\n",
              "\n",
              "    .dataframe thead th {\n",
              "        text-align: right;\n",
              "    }\n",
              "</style>\n",
              "<table border=\"1\" class=\"dataframe\">\n",
              "  <thead>\n",
              "    <tr style=\"text-align: right;\">\n",
              "      <th></th>\n",
              "      <th>Date</th>\n",
              "      <th>Open</th>\n",
              "      <th>High</th>\n",
              "      <th>Low</th>\n",
              "      <th>Close</th>\n",
              "      <th>Volume</th>\n",
              "      <th>OpenInt</th>\n",
              "    </tr>\n",
              "  </thead>\n",
              "  <tbody>\n",
              "    <tr>\n",
              "      <th>0</th>\n",
              "      <td>2015-08-05</td>\n",
              "      <td>18.00</td>\n",
              "      <td>22.250</td>\n",
              "      <td>15.50</td>\n",
              "      <td>16.25</td>\n",
              "      <td>1535500</td>\n",
              "      <td>0</td>\n",
              "    </tr>\n",
              "    <tr>\n",
              "      <th>1</th>\n",
              "      <td>2015-08-06</td>\n",
              "      <td>16.48</td>\n",
              "      <td>19.500</td>\n",
              "      <td>16.46</td>\n",
              "      <td>19.32</td>\n",
              "      <td>331692</td>\n",
              "      <td>0</td>\n",
              "    </tr>\n",
              "    <tr>\n",
              "      <th>2</th>\n",
              "      <td>2015-08-07</td>\n",
              "      <td>19.31</td>\n",
              "      <td>24.900</td>\n",
              "      <td>19.31</td>\n",
              "      <td>24.54</td>\n",
              "      <td>269300</td>\n",
              "      <td>0</td>\n",
              "    </tr>\n",
              "    <tr>\n",
              "      <th>3</th>\n",
              "      <td>2015-08-10</td>\n",
              "      <td>29.70</td>\n",
              "      <td>42.850</td>\n",
              "      <td>27.50</td>\n",
              "      <td>35.14</td>\n",
              "      <td>539200</td>\n",
              "      <td>0</td>\n",
              "    </tr>\n",
              "    <tr>\n",
              "      <th>4</th>\n",
              "      <td>2015-08-11</td>\n",
              "      <td>35.98</td>\n",
              "      <td>37.688</td>\n",
              "      <td>28.16</td>\n",
              "      <td>29.73</td>\n",
              "      <td>243632</td>\n",
              "      <td>0</td>\n",
              "    </tr>\n",
              "    <tr>\n",
              "      <th>5</th>\n",
              "      <td>2015-08-12</td>\n",
              "      <td>28.91</td>\n",
              "      <td>36.000</td>\n",
              "      <td>28.00</td>\n",
              "      <td>32.05</td>\n",
              "      <td>238000</td>\n",
              "      <td>0</td>\n",
              "    </tr>\n",
              "    <tr>\n",
              "      <th>6</th>\n",
              "      <td>2015-08-13</td>\n",
              "      <td>35.00</td>\n",
              "      <td>43.000</td>\n",
              "      <td>32.52</td>\n",
              "      <td>36.49</td>\n",
              "      <td>407800</td>\n",
              "      <td>0</td>\n",
              "    </tr>\n",
              "    <tr>\n",
              "      <th>7</th>\n",
              "      <td>2015-08-14</td>\n",
              "      <td>37.98</td>\n",
              "      <td>39.500</td>\n",
              "      <td>33.68</td>\n",
              "      <td>34.84</td>\n",
              "      <td>233000</td>\n",
              "      <td>0</td>\n",
              "    </tr>\n",
              "    <tr>\n",
              "      <th>8</th>\n",
              "      <td>2015-08-17</td>\n",
              "      <td>35.42</td>\n",
              "      <td>36.300</td>\n",
              "      <td>32.04</td>\n",
              "      <td>34.11</td>\n",
              "      <td>124000</td>\n",
              "      <td>0</td>\n",
              "    </tr>\n",
              "    <tr>\n",
              "      <th>9</th>\n",
              "      <td>2015-08-18</td>\n",
              "      <td>34.72</td>\n",
              "      <td>34.720</td>\n",
              "      <td>31.45</td>\n",
              "      <td>32.22</td>\n",
              "      <td>141500</td>\n",
              "      <td>0</td>\n",
              "    </tr>\n",
              "  </tbody>\n",
              "</table>\n",
              "</div>\n",
              "      <button class=\"colab-df-convert\" onclick=\"convertToInteractive('df-8e6668a8-dc26-4ec4-8559-a5a81ad01ce6')\"\n",
              "              title=\"Convert this dataframe to an interactive table.\"\n",
              "              style=\"display:none;\">\n",
              "        \n",
              "  <svg xmlns=\"http://www.w3.org/2000/svg\" height=\"24px\"viewBox=\"0 0 24 24\"\n",
              "       width=\"24px\">\n",
              "    <path d=\"M0 0h24v24H0V0z\" fill=\"none\"/>\n",
              "    <path d=\"M18.56 5.44l.94 2.06.94-2.06 2.06-.94-2.06-.94-.94-2.06-.94 2.06-2.06.94zm-11 1L8.5 8.5l.94-2.06 2.06-.94-2.06-.94L8.5 2.5l-.94 2.06-2.06.94zm10 10l.94 2.06.94-2.06 2.06-.94-2.06-.94-.94-2.06-.94 2.06-2.06.94z\"/><path d=\"M17.41 7.96l-1.37-1.37c-.4-.4-.92-.59-1.43-.59-.52 0-1.04.2-1.43.59L10.3 9.45l-7.72 7.72c-.78.78-.78 2.05 0 2.83L4 21.41c.39.39.9.59 1.41.59.51 0 1.02-.2 1.41-.59l7.78-7.78 2.81-2.81c.8-.78.8-2.07 0-2.86zM5.41 20L4 18.59l7.72-7.72 1.47 1.35L5.41 20z\"/>\n",
              "  </svg>\n",
              "      </button>\n",
              "      \n",
              "  <style>\n",
              "    .colab-df-container {\n",
              "      display:flex;\n",
              "      flex-wrap:wrap;\n",
              "      gap: 12px;\n",
              "    }\n",
              "\n",
              "    .colab-df-convert {\n",
              "      background-color: #E8F0FE;\n",
              "      border: none;\n",
              "      border-radius: 50%;\n",
              "      cursor: pointer;\n",
              "      display: none;\n",
              "      fill: #1967D2;\n",
              "      height: 32px;\n",
              "      padding: 0 0 0 0;\n",
              "      width: 32px;\n",
              "    }\n",
              "\n",
              "    .colab-df-convert:hover {\n",
              "      background-color: #E2EBFA;\n",
              "      box-shadow: 0px 1px 2px rgba(60, 64, 67, 0.3), 0px 1px 3px 1px rgba(60, 64, 67, 0.15);\n",
              "      fill: #174EA6;\n",
              "    }\n",
              "\n",
              "    [theme=dark] .colab-df-convert {\n",
              "      background-color: #3B4455;\n",
              "      fill: #D2E3FC;\n",
              "    }\n",
              "\n",
              "    [theme=dark] .colab-df-convert:hover {\n",
              "      background-color: #434B5C;\n",
              "      box-shadow: 0px 1px 3px 1px rgba(0, 0, 0, 0.15);\n",
              "      filter: drop-shadow(0px 1px 2px rgba(0, 0, 0, 0.3));\n",
              "      fill: #FFFFFF;\n",
              "    }\n",
              "  </style>\n",
              "\n",
              "      <script>\n",
              "        const buttonEl =\n",
              "          document.querySelector('#df-8e6668a8-dc26-4ec4-8559-a5a81ad01ce6 button.colab-df-convert');\n",
              "        buttonEl.style.display =\n",
              "          google.colab.kernel.accessAllowed ? 'block' : 'none';\n",
              "\n",
              "        async function convertToInteractive(key) {\n",
              "          const element = document.querySelector('#df-8e6668a8-dc26-4ec4-8559-a5a81ad01ce6');\n",
              "          const dataTable =\n",
              "            await google.colab.kernel.invokeFunction('convertToInteractive',\n",
              "                                                     [key], {});\n",
              "          if (!dataTable) return;\n",
              "\n",
              "          const docLinkHtml = 'Like what you see? Visit the ' +\n",
              "            '<a target=\"_blank\" href=https://colab.research.google.com/notebooks/data_table.ipynb>data table notebook</a>'\n",
              "            + ' to learn more about interactive tables.';\n",
              "          element.innerHTML = '';\n",
              "          dataTable['output_type'] = 'display_data';\n",
              "          await google.colab.output.renderOutput(dataTable, element);\n",
              "          const docLink = document.createElement('div');\n",
              "          docLink.innerHTML = docLinkHtml;\n",
              "          element.appendChild(docLink);\n",
              "        }\n",
              "      </script>\n",
              "    </div>\n",
              "  </div>\n",
              "  "
            ]
          },
          "metadata": {},
          "execution_count": 689
        }
      ],
      "source": [
        "df.head(10)"
      ],
      "id": "LSp6_pTihUQ9"
    },
    {
      "cell_type": "code",
      "execution_count": 690,
      "metadata": {
        "id": "ZI-5BNnXhZQD",
        "colab": {
          "base_uri": "https://localhost:8080/"
        },
        "outputId": "5c53896e-dbf3-44b0-b049-e0f321c8c1d6"
      },
      "outputs": [
        {
          "output_type": "execute_result",
          "data": {
            "text/plain": [
              "          Date   Open     High      Low  Close  Volume  OpenInt\n",
              "564 2017-10-30   9.80  10.2699   9.6300   9.76  256138        0\n",
              "565 2017-10-31   9.74   9.9492   9.6300   9.80  233242        0\n",
              "566 2017-11-01   9.70   9.9300   9.4100   9.69  301604        0\n",
              "567 2017-11-02   9.59  10.2000   9.5100   9.85  323496        0\n",
              "568 2017-11-03   9.83  10.5000   9.8300  10.33  531495        0\n",
              "569 2017-11-06  10.42  11.5400  10.4200  11.19  977948        0\n",
              "570 2017-11-07  11.30  11.4200  10.6700  10.83  451210        0\n",
              "571 2017-11-08  10.70  11.0600  10.3500  10.90  336449        0\n",
              "572 2017-11-09  11.00  11.8563  10.9700  11.60  463067        0\n",
              "573 2017-11-10  11.68  13.1500  11.3043  12.46  885587        0"
            ],
            "text/html": [
              "\n",
              "  <div id=\"df-f19fd9ae-e136-4df5-bf01-d14a019b41b8\">\n",
              "    <div class=\"colab-df-container\">\n",
              "      <div>\n",
              "<style scoped>\n",
              "    .dataframe tbody tr th:only-of-type {\n",
              "        vertical-align: middle;\n",
              "    }\n",
              "\n",
              "    .dataframe tbody tr th {\n",
              "        vertical-align: top;\n",
              "    }\n",
              "\n",
              "    .dataframe thead th {\n",
              "        text-align: right;\n",
              "    }\n",
              "</style>\n",
              "<table border=\"1\" class=\"dataframe\">\n",
              "  <thead>\n",
              "    <tr style=\"text-align: right;\">\n",
              "      <th></th>\n",
              "      <th>Date</th>\n",
              "      <th>Open</th>\n",
              "      <th>High</th>\n",
              "      <th>Low</th>\n",
              "      <th>Close</th>\n",
              "      <th>Volume</th>\n",
              "      <th>OpenInt</th>\n",
              "    </tr>\n",
              "  </thead>\n",
              "  <tbody>\n",
              "    <tr>\n",
              "      <th>564</th>\n",
              "      <td>2017-10-30</td>\n",
              "      <td>9.80</td>\n",
              "      <td>10.2699</td>\n",
              "      <td>9.6300</td>\n",
              "      <td>9.76</td>\n",
              "      <td>256138</td>\n",
              "      <td>0</td>\n",
              "    </tr>\n",
              "    <tr>\n",
              "      <th>565</th>\n",
              "      <td>2017-10-31</td>\n",
              "      <td>9.74</td>\n",
              "      <td>9.9492</td>\n",
              "      <td>9.6300</td>\n",
              "      <td>9.80</td>\n",
              "      <td>233242</td>\n",
              "      <td>0</td>\n",
              "    </tr>\n",
              "    <tr>\n",
              "      <th>566</th>\n",
              "      <td>2017-11-01</td>\n",
              "      <td>9.70</td>\n",
              "      <td>9.9300</td>\n",
              "      <td>9.4100</td>\n",
              "      <td>9.69</td>\n",
              "      <td>301604</td>\n",
              "      <td>0</td>\n",
              "    </tr>\n",
              "    <tr>\n",
              "      <th>567</th>\n",
              "      <td>2017-11-02</td>\n",
              "      <td>9.59</td>\n",
              "      <td>10.2000</td>\n",
              "      <td>9.5100</td>\n",
              "      <td>9.85</td>\n",
              "      <td>323496</td>\n",
              "      <td>0</td>\n",
              "    </tr>\n",
              "    <tr>\n",
              "      <th>568</th>\n",
              "      <td>2017-11-03</td>\n",
              "      <td>9.83</td>\n",
              "      <td>10.5000</td>\n",
              "      <td>9.8300</td>\n",
              "      <td>10.33</td>\n",
              "      <td>531495</td>\n",
              "      <td>0</td>\n",
              "    </tr>\n",
              "    <tr>\n",
              "      <th>569</th>\n",
              "      <td>2017-11-06</td>\n",
              "      <td>10.42</td>\n",
              "      <td>11.5400</td>\n",
              "      <td>10.4200</td>\n",
              "      <td>11.19</td>\n",
              "      <td>977948</td>\n",
              "      <td>0</td>\n",
              "    </tr>\n",
              "    <tr>\n",
              "      <th>570</th>\n",
              "      <td>2017-11-07</td>\n",
              "      <td>11.30</td>\n",
              "      <td>11.4200</td>\n",
              "      <td>10.6700</td>\n",
              "      <td>10.83</td>\n",
              "      <td>451210</td>\n",
              "      <td>0</td>\n",
              "    </tr>\n",
              "    <tr>\n",
              "      <th>571</th>\n",
              "      <td>2017-11-08</td>\n",
              "      <td>10.70</td>\n",
              "      <td>11.0600</td>\n",
              "      <td>10.3500</td>\n",
              "      <td>10.90</td>\n",
              "      <td>336449</td>\n",
              "      <td>0</td>\n",
              "    </tr>\n",
              "    <tr>\n",
              "      <th>572</th>\n",
              "      <td>2017-11-09</td>\n",
              "      <td>11.00</td>\n",
              "      <td>11.8563</td>\n",
              "      <td>10.9700</td>\n",
              "      <td>11.60</td>\n",
              "      <td>463067</td>\n",
              "      <td>0</td>\n",
              "    </tr>\n",
              "    <tr>\n",
              "      <th>573</th>\n",
              "      <td>2017-11-10</td>\n",
              "      <td>11.68</td>\n",
              "      <td>13.1500</td>\n",
              "      <td>11.3043</td>\n",
              "      <td>12.46</td>\n",
              "      <td>885587</td>\n",
              "      <td>0</td>\n",
              "    </tr>\n",
              "  </tbody>\n",
              "</table>\n",
              "</div>\n",
              "      <button class=\"colab-df-convert\" onclick=\"convertToInteractive('df-f19fd9ae-e136-4df5-bf01-d14a019b41b8')\"\n",
              "              title=\"Convert this dataframe to an interactive table.\"\n",
              "              style=\"display:none;\">\n",
              "        \n",
              "  <svg xmlns=\"http://www.w3.org/2000/svg\" height=\"24px\"viewBox=\"0 0 24 24\"\n",
              "       width=\"24px\">\n",
              "    <path d=\"M0 0h24v24H0V0z\" fill=\"none\"/>\n",
              "    <path d=\"M18.56 5.44l.94 2.06.94-2.06 2.06-.94-2.06-.94-.94-2.06-.94 2.06-2.06.94zm-11 1L8.5 8.5l.94-2.06 2.06-.94-2.06-.94L8.5 2.5l-.94 2.06-2.06.94zm10 10l.94 2.06.94-2.06 2.06-.94-2.06-.94-.94-2.06-.94 2.06-2.06.94z\"/><path d=\"M17.41 7.96l-1.37-1.37c-.4-.4-.92-.59-1.43-.59-.52 0-1.04.2-1.43.59L10.3 9.45l-7.72 7.72c-.78.78-.78 2.05 0 2.83L4 21.41c.39.39.9.59 1.41.59.51 0 1.02-.2 1.41-.59l7.78-7.78 2.81-2.81c.8-.78.8-2.07 0-2.86zM5.41 20L4 18.59l7.72-7.72 1.47 1.35L5.41 20z\"/>\n",
              "  </svg>\n",
              "      </button>\n",
              "      \n",
              "  <style>\n",
              "    .colab-df-container {\n",
              "      display:flex;\n",
              "      flex-wrap:wrap;\n",
              "      gap: 12px;\n",
              "    }\n",
              "\n",
              "    .colab-df-convert {\n",
              "      background-color: #E8F0FE;\n",
              "      border: none;\n",
              "      border-radius: 50%;\n",
              "      cursor: pointer;\n",
              "      display: none;\n",
              "      fill: #1967D2;\n",
              "      height: 32px;\n",
              "      padding: 0 0 0 0;\n",
              "      width: 32px;\n",
              "    }\n",
              "\n",
              "    .colab-df-convert:hover {\n",
              "      background-color: #E2EBFA;\n",
              "      box-shadow: 0px 1px 2px rgba(60, 64, 67, 0.3), 0px 1px 3px 1px rgba(60, 64, 67, 0.15);\n",
              "      fill: #174EA6;\n",
              "    }\n",
              "\n",
              "    [theme=dark] .colab-df-convert {\n",
              "      background-color: #3B4455;\n",
              "      fill: #D2E3FC;\n",
              "    }\n",
              "\n",
              "    [theme=dark] .colab-df-convert:hover {\n",
              "      background-color: #434B5C;\n",
              "      box-shadow: 0px 1px 3px 1px rgba(0, 0, 0, 0.15);\n",
              "      filter: drop-shadow(0px 1px 2px rgba(0, 0, 0, 0.3));\n",
              "      fill: #FFFFFF;\n",
              "    }\n",
              "  </style>\n",
              "\n",
              "      <script>\n",
              "        const buttonEl =\n",
              "          document.querySelector('#df-f19fd9ae-e136-4df5-bf01-d14a019b41b8 button.colab-df-convert');\n",
              "        buttonEl.style.display =\n",
              "          google.colab.kernel.accessAllowed ? 'block' : 'none';\n",
              "\n",
              "        async function convertToInteractive(key) {\n",
              "          const element = document.querySelector('#df-f19fd9ae-e136-4df5-bf01-d14a019b41b8');\n",
              "          const dataTable =\n",
              "            await google.colab.kernel.invokeFunction('convertToInteractive',\n",
              "                                                     [key], {});\n",
              "          if (!dataTable) return;\n",
              "\n",
              "          const docLinkHtml = 'Like what you see? Visit the ' +\n",
              "            '<a target=\"_blank\" href=https://colab.research.google.com/notebooks/data_table.ipynb>data table notebook</a>'\n",
              "            + ' to learn more about interactive tables.';\n",
              "          element.innerHTML = '';\n",
              "          dataTable['output_type'] = 'display_data';\n",
              "          await google.colab.output.renderOutput(dataTable, element);\n",
              "          const docLink = document.createElement('div');\n",
              "          docLink.innerHTML = docLinkHtml;\n",
              "          element.appendChild(docLink);\n",
              "        }\n",
              "      </script>\n",
              "    </div>\n",
              "  </div>\n",
              "  "
            ]
          },
          "metadata": {},
          "execution_count": 690
        }
      ],
      "source": [
        "df.tail(10)"
      ],
      "id": "ZI-5BNnXhZQD"
    },
    {
      "cell_type": "code",
      "execution_count": 691,
      "metadata": {
        "id": "LyrX8nwIhPKo",
        "colab": {
          "base_uri": "https://localhost:8080/"
        },
        "outputId": "9b87a2c2-80fc-4b3d-c95c-a1ce4cbe2c04"
      },
      "outputs": [
        {
          "output_type": "execute_result",
          "data": {
            "text/plain": [
              "Date       False\n",
              "Open       False\n",
              "High       False\n",
              "Low        False\n",
              "Close      False\n",
              "Volume     False\n",
              "OpenInt    False\n",
              "dtype: bool"
            ]
          },
          "metadata": {},
          "execution_count": 691
        }
      ],
      "source": [
        "df.isnull().any()"
      ],
      "id": "LyrX8nwIhPKo"
    },
    {
      "cell_type": "code",
      "execution_count": 692,
      "metadata": {
        "id": "tSpWnS88sT66",
        "colab": {
          "base_uri": "https://localhost:8080/"
        },
        "outputId": "64ac5736-73f0-4c20-e26c-81f8a3c208dc"
      },
      "outputs": [
        {
          "output_type": "execute_result",
          "data": {
            "text/plain": [
              "Date       0\n",
              "Open       0\n",
              "High       0\n",
              "Low        0\n",
              "Close      0\n",
              "Volume     0\n",
              "OpenInt    0\n",
              "dtype: int64"
            ]
          },
          "metadata": {},
          "execution_count": 692
        }
      ],
      "source": [
        "df.isnull().sum()"
      ],
      "id": "tSpWnS88sT66"
    },
    {
      "cell_type": "code",
      "execution_count": 693,
      "metadata": {
        "id": "cPaJjXMohtcm",
        "colab": {
          "base_uri": "https://localhost:8080/"
        },
        "outputId": "62c23085-4fcc-4e40-bdfe-c3b016db6b49"
      },
      "outputs": [
        {
          "output_type": "execute_result",
          "data": {
            "text/plain": [
              "['Open', 'High', 'Low', 'Close', 'Volume']"
            ]
          },
          "metadata": {},
          "execution_count": 693
        }
      ],
      "source": [
        "features=['Open','High','Low','Close','Volume']\n",
        "features"
      ],
      "id": "cPaJjXMohtcm"
    },
    {
      "cell_type": "code",
      "execution_count": 694,
      "metadata": {
        "id": "473345e9",
        "colab": {
          "base_uri": "https://localhost:8080/"
        },
        "outputId": "d74624cf-f938-4cd1-e0fb-aa8816b95e5e"
      },
      "outputs": [
        {
          "output_type": "execute_result",
          "data": {
            "text/plain": [
              "array(['2015-08-05T00:00:00.000000000', '2015-08-06T00:00:00.000000000',\n",
              "       '2015-08-07T00:00:00.000000000', '2015-08-10T00:00:00.000000000',\n",
              "       '2015-08-11T00:00:00.000000000', '2015-08-12T00:00:00.000000000',\n",
              "       '2015-08-13T00:00:00.000000000', '2015-08-14T00:00:00.000000000',\n",
              "       '2015-08-17T00:00:00.000000000', '2015-08-18T00:00:00.000000000',\n",
              "       '2015-08-19T00:00:00.000000000', '2015-08-20T00:00:00.000000000',\n",
              "       '2015-08-21T00:00:00.000000000', '2015-08-24T00:00:00.000000000',\n",
              "       '2015-08-25T00:00:00.000000000', '2015-08-26T00:00:00.000000000',\n",
              "       '2015-08-27T00:00:00.000000000', '2015-08-28T00:00:00.000000000',\n",
              "       '2015-08-31T00:00:00.000000000', '2015-09-01T00:00:00.000000000',\n",
              "       '2015-09-02T00:00:00.000000000', '2015-09-03T00:00:00.000000000',\n",
              "       '2015-09-04T00:00:00.000000000', '2015-09-08T00:00:00.000000000',\n",
              "       '2015-09-09T00:00:00.000000000', '2015-09-10T00:00:00.000000000',\n",
              "       '2015-09-11T00:00:00.000000000', '2015-09-14T00:00:00.000000000',\n",
              "       '2015-09-15T00:00:00.000000000', '2015-09-16T00:00:00.000000000',\n",
              "       '2015-09-17T00:00:00.000000000', '2015-09-18T00:00:00.000000000',\n",
              "       '2015-09-21T00:00:00.000000000', '2015-09-22T00:00:00.000000000',\n",
              "       '2015-09-23T00:00:00.000000000', '2015-09-24T00:00:00.000000000',\n",
              "       '2015-09-25T00:00:00.000000000', '2015-09-28T00:00:00.000000000',\n",
              "       '2015-09-29T00:00:00.000000000', '2015-09-30T00:00:00.000000000',\n",
              "       '2015-10-01T00:00:00.000000000', '2015-10-02T00:00:00.000000000',\n",
              "       '2015-10-05T00:00:00.000000000', '2015-10-06T00:00:00.000000000',\n",
              "       '2015-10-07T00:00:00.000000000', '2015-10-08T00:00:00.000000000',\n",
              "       '2015-10-09T00:00:00.000000000', '2015-10-12T00:00:00.000000000',\n",
              "       '2015-10-13T00:00:00.000000000', '2015-10-14T00:00:00.000000000',\n",
              "       '2015-10-15T00:00:00.000000000', '2015-10-16T00:00:00.000000000',\n",
              "       '2015-10-19T00:00:00.000000000', '2015-10-20T00:00:00.000000000',\n",
              "       '2015-10-21T00:00:00.000000000', '2015-10-22T00:00:00.000000000',\n",
              "       '2015-10-23T00:00:00.000000000', '2015-10-26T00:00:00.000000000',\n",
              "       '2015-10-27T00:00:00.000000000', '2015-10-28T00:00:00.000000000',\n",
              "       '2015-10-29T00:00:00.000000000', '2015-10-30T00:00:00.000000000',\n",
              "       '2015-11-02T00:00:00.000000000', '2015-11-03T00:00:00.000000000',\n",
              "       '2015-11-04T00:00:00.000000000', '2015-11-05T00:00:00.000000000',\n",
              "       '2015-11-06T00:00:00.000000000', '2015-11-09T00:00:00.000000000',\n",
              "       '2015-11-10T00:00:00.000000000', '2015-11-11T00:00:00.000000000',\n",
              "       '2015-11-12T00:00:00.000000000', '2015-11-13T00:00:00.000000000',\n",
              "       '2015-11-16T00:00:00.000000000', '2015-11-17T00:00:00.000000000',\n",
              "       '2015-11-18T00:00:00.000000000', '2015-11-19T00:00:00.000000000',\n",
              "       '2015-11-20T00:00:00.000000000', '2015-11-23T00:00:00.000000000',\n",
              "       '2015-11-24T00:00:00.000000000', '2015-11-25T00:00:00.000000000',\n",
              "       '2015-11-27T00:00:00.000000000', '2015-11-30T00:00:00.000000000',\n",
              "       '2015-12-01T00:00:00.000000000', '2015-12-02T00:00:00.000000000',\n",
              "       '2015-12-03T00:00:00.000000000', '2015-12-04T00:00:00.000000000',\n",
              "       '2015-12-07T00:00:00.000000000', '2015-12-08T00:00:00.000000000',\n",
              "       '2015-12-09T00:00:00.000000000', '2015-12-10T00:00:00.000000000',\n",
              "       '2015-12-11T00:00:00.000000000', '2015-12-14T00:00:00.000000000',\n",
              "       '2015-12-15T00:00:00.000000000', '2015-12-16T00:00:00.000000000',\n",
              "       '2015-12-17T00:00:00.000000000', '2015-12-18T00:00:00.000000000',\n",
              "       '2015-12-21T00:00:00.000000000', '2015-12-22T00:00:00.000000000',\n",
              "       '2015-12-23T00:00:00.000000000', '2015-12-24T00:00:00.000000000',\n",
              "       '2015-12-28T00:00:00.000000000', '2015-12-29T00:00:00.000000000',\n",
              "       '2015-12-30T00:00:00.000000000', '2015-12-31T00:00:00.000000000',\n",
              "       '2016-01-04T00:00:00.000000000', '2016-01-05T00:00:00.000000000',\n",
              "       '2016-01-06T00:00:00.000000000', '2016-01-07T00:00:00.000000000',\n",
              "       '2016-01-08T00:00:00.000000000', '2016-01-11T00:00:00.000000000',\n",
              "       '2016-01-12T00:00:00.000000000', '2016-01-13T00:00:00.000000000',\n",
              "       '2016-01-14T00:00:00.000000000', '2016-01-15T00:00:00.000000000',\n",
              "       '2016-01-19T00:00:00.000000000', '2016-01-20T00:00:00.000000000',\n",
              "       '2016-01-21T00:00:00.000000000', '2016-01-22T00:00:00.000000000',\n",
              "       '2016-01-25T00:00:00.000000000', '2016-01-26T00:00:00.000000000',\n",
              "       '2016-01-27T00:00:00.000000000', '2016-01-28T00:00:00.000000000',\n",
              "       '2016-01-29T00:00:00.000000000', '2016-02-01T00:00:00.000000000',\n",
              "       '2016-02-02T00:00:00.000000000', '2016-02-03T00:00:00.000000000',\n",
              "       '2016-02-04T00:00:00.000000000', '2016-02-05T00:00:00.000000000',\n",
              "       '2016-02-08T00:00:00.000000000', '2016-02-09T00:00:00.000000000',\n",
              "       '2016-02-10T00:00:00.000000000', '2016-02-11T00:00:00.000000000',\n",
              "       '2016-02-12T00:00:00.000000000', '2016-02-16T00:00:00.000000000',\n",
              "       '2016-02-17T00:00:00.000000000', '2016-02-18T00:00:00.000000000',\n",
              "       '2016-02-19T00:00:00.000000000', '2016-02-22T00:00:00.000000000',\n",
              "       '2016-02-23T00:00:00.000000000', '2016-02-24T00:00:00.000000000',\n",
              "       '2016-02-25T00:00:00.000000000', '2016-02-26T00:00:00.000000000',\n",
              "       '2016-02-29T00:00:00.000000000', '2016-03-01T00:00:00.000000000',\n",
              "       '2016-03-02T00:00:00.000000000', '2016-03-03T00:00:00.000000000',\n",
              "       '2016-03-04T00:00:00.000000000', '2016-03-07T00:00:00.000000000',\n",
              "       '2016-03-08T00:00:00.000000000', '2016-03-09T00:00:00.000000000',\n",
              "       '2016-03-10T00:00:00.000000000', '2016-03-11T00:00:00.000000000',\n",
              "       '2016-03-14T00:00:00.000000000', '2016-03-15T00:00:00.000000000',\n",
              "       '2016-03-16T00:00:00.000000000', '2016-03-17T00:00:00.000000000',\n",
              "       '2016-03-18T00:00:00.000000000', '2016-03-21T00:00:00.000000000',\n",
              "       '2016-03-22T00:00:00.000000000', '2016-03-23T00:00:00.000000000',\n",
              "       '2016-03-24T00:00:00.000000000', '2016-03-28T00:00:00.000000000',\n",
              "       '2016-03-29T00:00:00.000000000', '2016-03-30T00:00:00.000000000',\n",
              "       '2016-03-31T00:00:00.000000000', '2016-04-01T00:00:00.000000000',\n",
              "       '2016-04-04T00:00:00.000000000', '2016-04-05T00:00:00.000000000',\n",
              "       '2016-04-06T00:00:00.000000000', '2016-04-07T00:00:00.000000000',\n",
              "       '2016-04-08T00:00:00.000000000', '2016-04-11T00:00:00.000000000',\n",
              "       '2016-04-12T00:00:00.000000000', '2016-04-13T00:00:00.000000000',\n",
              "       '2016-04-14T00:00:00.000000000', '2016-04-15T00:00:00.000000000',\n",
              "       '2016-04-18T00:00:00.000000000', '2016-04-19T00:00:00.000000000',\n",
              "       '2016-04-20T00:00:00.000000000', '2016-04-21T00:00:00.000000000',\n",
              "       '2016-04-22T00:00:00.000000000', '2016-04-25T00:00:00.000000000',\n",
              "       '2016-04-26T00:00:00.000000000', '2016-04-27T00:00:00.000000000',\n",
              "       '2016-04-28T00:00:00.000000000', '2016-04-29T00:00:00.000000000',\n",
              "       '2016-05-02T00:00:00.000000000', '2016-05-03T00:00:00.000000000',\n",
              "       '2016-05-04T00:00:00.000000000', '2016-05-05T00:00:00.000000000',\n",
              "       '2016-05-06T00:00:00.000000000', '2016-05-09T00:00:00.000000000',\n",
              "       '2016-05-10T00:00:00.000000000', '2016-05-11T00:00:00.000000000',\n",
              "       '2016-05-12T00:00:00.000000000', '2016-05-13T00:00:00.000000000',\n",
              "       '2016-05-16T00:00:00.000000000', '2016-05-17T00:00:00.000000000',\n",
              "       '2016-05-18T00:00:00.000000000', '2016-05-19T00:00:00.000000000',\n",
              "       '2016-05-20T00:00:00.000000000', '2016-05-23T00:00:00.000000000',\n",
              "       '2016-05-24T00:00:00.000000000', '2016-05-25T00:00:00.000000000',\n",
              "       '2016-05-26T00:00:00.000000000', '2016-05-27T00:00:00.000000000',\n",
              "       '2016-05-31T00:00:00.000000000', '2016-06-01T00:00:00.000000000',\n",
              "       '2016-06-02T00:00:00.000000000', '2016-06-03T00:00:00.000000000',\n",
              "       '2016-06-06T00:00:00.000000000', '2016-06-07T00:00:00.000000000',\n",
              "       '2016-06-08T00:00:00.000000000', '2016-06-09T00:00:00.000000000',\n",
              "       '2016-06-10T00:00:00.000000000', '2016-06-13T00:00:00.000000000',\n",
              "       '2016-06-14T00:00:00.000000000', '2016-06-15T00:00:00.000000000',\n",
              "       '2016-06-16T00:00:00.000000000', '2016-06-17T00:00:00.000000000',\n",
              "       '2016-06-20T00:00:00.000000000', '2016-06-21T00:00:00.000000000',\n",
              "       '2016-06-22T00:00:00.000000000', '2016-06-23T00:00:00.000000000',\n",
              "       '2016-06-24T00:00:00.000000000', '2016-06-27T00:00:00.000000000',\n",
              "       '2016-06-28T00:00:00.000000000', '2016-06-29T00:00:00.000000000',\n",
              "       '2016-06-30T00:00:00.000000000', '2016-07-01T00:00:00.000000000',\n",
              "       '2016-07-05T00:00:00.000000000', '2016-07-06T00:00:00.000000000',\n",
              "       '2016-07-07T00:00:00.000000000', '2016-07-08T00:00:00.000000000',\n",
              "       '2016-07-11T00:00:00.000000000', '2016-07-12T00:00:00.000000000',\n",
              "       '2016-07-13T00:00:00.000000000', '2016-07-14T00:00:00.000000000',\n",
              "       '2016-07-15T00:00:00.000000000', '2016-07-18T00:00:00.000000000',\n",
              "       '2016-07-19T00:00:00.000000000', '2016-07-20T00:00:00.000000000',\n",
              "       '2016-07-21T00:00:00.000000000', '2016-07-22T00:00:00.000000000',\n",
              "       '2016-07-25T00:00:00.000000000', '2016-07-26T00:00:00.000000000',\n",
              "       '2016-07-27T00:00:00.000000000', '2016-07-28T00:00:00.000000000',\n",
              "       '2016-07-29T00:00:00.000000000', '2016-08-01T00:00:00.000000000',\n",
              "       '2016-08-02T00:00:00.000000000', '2016-08-03T00:00:00.000000000',\n",
              "       '2016-08-04T00:00:00.000000000', '2016-08-05T00:00:00.000000000',\n",
              "       '2016-08-08T00:00:00.000000000', '2016-08-09T00:00:00.000000000',\n",
              "       '2016-08-10T00:00:00.000000000', '2016-08-11T00:00:00.000000000',\n",
              "       '2016-08-12T00:00:00.000000000', '2016-08-15T00:00:00.000000000',\n",
              "       '2016-08-16T00:00:00.000000000', '2016-08-17T00:00:00.000000000',\n",
              "       '2016-08-18T00:00:00.000000000', '2016-08-19T00:00:00.000000000',\n",
              "       '2016-08-22T00:00:00.000000000', '2016-08-23T00:00:00.000000000',\n",
              "       '2016-08-24T00:00:00.000000000', '2016-08-25T00:00:00.000000000',\n",
              "       '2016-08-26T00:00:00.000000000', '2016-08-29T00:00:00.000000000',\n",
              "       '2016-08-30T00:00:00.000000000', '2016-08-31T00:00:00.000000000',\n",
              "       '2016-09-01T00:00:00.000000000', '2016-09-02T00:00:00.000000000',\n",
              "       '2016-09-06T00:00:00.000000000', '2016-09-07T00:00:00.000000000',\n",
              "       '2016-09-08T00:00:00.000000000', '2016-09-09T00:00:00.000000000',\n",
              "       '2016-09-12T00:00:00.000000000', '2016-09-13T00:00:00.000000000',\n",
              "       '2016-09-14T00:00:00.000000000', '2016-09-15T00:00:00.000000000',\n",
              "       '2016-09-16T00:00:00.000000000', '2016-09-19T00:00:00.000000000',\n",
              "       '2016-09-20T00:00:00.000000000', '2016-09-21T00:00:00.000000000',\n",
              "       '2016-09-22T00:00:00.000000000', '2016-09-23T00:00:00.000000000',\n",
              "       '2016-09-26T00:00:00.000000000', '2016-09-27T00:00:00.000000000',\n",
              "       '2016-09-28T00:00:00.000000000', '2016-09-29T00:00:00.000000000',\n",
              "       '2016-09-30T00:00:00.000000000', '2016-10-03T00:00:00.000000000',\n",
              "       '2016-10-04T00:00:00.000000000', '2016-10-05T00:00:00.000000000',\n",
              "       '2016-10-06T00:00:00.000000000', '2016-10-07T00:00:00.000000000',\n",
              "       '2016-10-10T00:00:00.000000000', '2016-10-11T00:00:00.000000000',\n",
              "       '2016-10-12T00:00:00.000000000', '2016-10-13T00:00:00.000000000',\n",
              "       '2016-10-14T00:00:00.000000000', '2016-10-17T00:00:00.000000000',\n",
              "       '2016-10-18T00:00:00.000000000', '2016-10-19T00:00:00.000000000',\n",
              "       '2016-10-20T00:00:00.000000000', '2016-10-21T00:00:00.000000000',\n",
              "       '2016-10-24T00:00:00.000000000', '2016-10-25T00:00:00.000000000',\n",
              "       '2016-10-26T00:00:00.000000000', '2016-10-27T00:00:00.000000000',\n",
              "       '2016-10-28T00:00:00.000000000', '2016-10-31T00:00:00.000000000',\n",
              "       '2016-11-01T00:00:00.000000000', '2016-11-02T00:00:00.000000000',\n",
              "       '2016-11-03T00:00:00.000000000', '2016-11-04T00:00:00.000000000',\n",
              "       '2016-11-07T00:00:00.000000000', '2016-11-08T00:00:00.000000000',\n",
              "       '2016-11-09T00:00:00.000000000', '2016-11-10T00:00:00.000000000',\n",
              "       '2016-11-11T00:00:00.000000000', '2016-11-14T00:00:00.000000000',\n",
              "       '2016-11-15T00:00:00.000000000', '2016-11-16T00:00:00.000000000',\n",
              "       '2016-11-17T00:00:00.000000000', '2016-11-18T00:00:00.000000000',\n",
              "       '2016-11-21T00:00:00.000000000', '2016-11-22T00:00:00.000000000',\n",
              "       '2016-11-23T00:00:00.000000000', '2016-11-25T00:00:00.000000000',\n",
              "       '2016-11-28T00:00:00.000000000', '2016-11-29T00:00:00.000000000',\n",
              "       '2016-11-30T00:00:00.000000000', '2016-12-01T00:00:00.000000000',\n",
              "       '2016-12-02T00:00:00.000000000', '2016-12-05T00:00:00.000000000',\n",
              "       '2016-12-06T00:00:00.000000000', '2016-12-07T00:00:00.000000000',\n",
              "       '2016-12-08T00:00:00.000000000', '2016-12-09T00:00:00.000000000',\n",
              "       '2016-12-12T00:00:00.000000000', '2016-12-13T00:00:00.000000000',\n",
              "       '2016-12-14T00:00:00.000000000', '2016-12-15T00:00:00.000000000',\n",
              "       '2016-12-16T00:00:00.000000000', '2016-12-19T00:00:00.000000000',\n",
              "       '2016-12-20T00:00:00.000000000', '2016-12-21T00:00:00.000000000',\n",
              "       '2016-12-22T00:00:00.000000000', '2016-12-23T00:00:00.000000000',\n",
              "       '2016-12-27T00:00:00.000000000', '2016-12-28T00:00:00.000000000',\n",
              "       '2016-12-29T00:00:00.000000000', '2016-12-30T00:00:00.000000000',\n",
              "       '2017-01-03T00:00:00.000000000', '2017-01-04T00:00:00.000000000',\n",
              "       '2017-01-05T00:00:00.000000000', '2017-01-06T00:00:00.000000000',\n",
              "       '2017-01-09T00:00:00.000000000', '2017-01-10T00:00:00.000000000',\n",
              "       '2017-01-11T00:00:00.000000000', '2017-01-12T00:00:00.000000000',\n",
              "       '2017-01-13T00:00:00.000000000', '2017-01-17T00:00:00.000000000',\n",
              "       '2017-01-18T00:00:00.000000000', '2017-01-19T00:00:00.000000000',\n",
              "       '2017-01-20T00:00:00.000000000', '2017-01-23T00:00:00.000000000',\n",
              "       '2017-01-24T00:00:00.000000000', '2017-01-25T00:00:00.000000000',\n",
              "       '2017-01-26T00:00:00.000000000', '2017-01-27T00:00:00.000000000',\n",
              "       '2017-01-30T00:00:00.000000000', '2017-01-31T00:00:00.000000000',\n",
              "       '2017-02-01T00:00:00.000000000', '2017-02-02T00:00:00.000000000',\n",
              "       '2017-02-03T00:00:00.000000000', '2017-02-06T00:00:00.000000000',\n",
              "       '2017-02-07T00:00:00.000000000', '2017-02-08T00:00:00.000000000',\n",
              "       '2017-02-09T00:00:00.000000000', '2017-02-10T00:00:00.000000000',\n",
              "       '2017-02-13T00:00:00.000000000', '2017-02-14T00:00:00.000000000',\n",
              "       '2017-02-15T00:00:00.000000000', '2017-02-16T00:00:00.000000000',\n",
              "       '2017-02-17T00:00:00.000000000', '2017-02-21T00:00:00.000000000',\n",
              "       '2017-02-22T00:00:00.000000000', '2017-02-23T00:00:00.000000000',\n",
              "       '2017-02-24T00:00:00.000000000', '2017-02-27T00:00:00.000000000',\n",
              "       '2017-02-28T00:00:00.000000000', '2017-03-01T00:00:00.000000000',\n",
              "       '2017-03-02T00:00:00.000000000', '2017-03-03T00:00:00.000000000',\n",
              "       '2017-03-06T00:00:00.000000000', '2017-03-07T00:00:00.000000000',\n",
              "       '2017-03-08T00:00:00.000000000', '2017-03-09T00:00:00.000000000',\n",
              "       '2017-03-10T00:00:00.000000000', '2017-03-13T00:00:00.000000000',\n",
              "       '2017-03-14T00:00:00.000000000', '2017-03-15T00:00:00.000000000',\n",
              "       '2017-03-16T00:00:00.000000000', '2017-03-17T00:00:00.000000000',\n",
              "       '2017-03-20T00:00:00.000000000', '2017-03-21T00:00:00.000000000',\n",
              "       '2017-03-22T00:00:00.000000000', '2017-03-23T00:00:00.000000000',\n",
              "       '2017-03-24T00:00:00.000000000', '2017-03-27T00:00:00.000000000',\n",
              "       '2017-03-28T00:00:00.000000000', '2017-03-29T00:00:00.000000000',\n",
              "       '2017-03-30T00:00:00.000000000', '2017-03-31T00:00:00.000000000',\n",
              "       '2017-04-03T00:00:00.000000000', '2017-04-04T00:00:00.000000000',\n",
              "       '2017-04-05T00:00:00.000000000', '2017-04-06T00:00:00.000000000',\n",
              "       '2017-04-07T00:00:00.000000000', '2017-04-10T00:00:00.000000000',\n",
              "       '2017-04-11T00:00:00.000000000', '2017-04-12T00:00:00.000000000',\n",
              "       '2017-04-13T00:00:00.000000000', '2017-04-17T00:00:00.000000000',\n",
              "       '2017-04-18T00:00:00.000000000', '2017-04-19T00:00:00.000000000',\n",
              "       '2017-04-20T00:00:00.000000000', '2017-04-21T00:00:00.000000000',\n",
              "       '2017-04-24T00:00:00.000000000', '2017-04-25T00:00:00.000000000',\n",
              "       '2017-04-26T00:00:00.000000000', '2017-04-27T00:00:00.000000000',\n",
              "       '2017-04-28T00:00:00.000000000', '2017-05-01T00:00:00.000000000',\n",
              "       '2017-05-02T00:00:00.000000000', '2017-05-03T00:00:00.000000000',\n",
              "       '2017-05-04T00:00:00.000000000', '2017-05-05T00:00:00.000000000',\n",
              "       '2017-05-08T00:00:00.000000000', '2017-05-09T00:00:00.000000000',\n",
              "       '2017-05-10T00:00:00.000000000', '2017-05-11T00:00:00.000000000',\n",
              "       '2017-05-12T00:00:00.000000000', '2017-05-15T00:00:00.000000000',\n",
              "       '2017-05-16T00:00:00.000000000', '2017-05-17T00:00:00.000000000',\n",
              "       '2017-05-18T00:00:00.000000000', '2017-05-19T00:00:00.000000000',\n",
              "       '2017-05-22T00:00:00.000000000', '2017-05-23T00:00:00.000000000',\n",
              "       '2017-05-24T00:00:00.000000000', '2017-05-25T00:00:00.000000000',\n",
              "       '2017-05-26T00:00:00.000000000', '2017-05-30T00:00:00.000000000',\n",
              "       '2017-05-31T00:00:00.000000000', '2017-06-01T00:00:00.000000000',\n",
              "       '2017-06-02T00:00:00.000000000', '2017-06-05T00:00:00.000000000',\n",
              "       '2017-06-06T00:00:00.000000000', '2017-06-07T00:00:00.000000000',\n",
              "       '2017-06-08T00:00:00.000000000', '2017-06-09T00:00:00.000000000',\n",
              "       '2017-06-12T00:00:00.000000000', '2017-06-13T00:00:00.000000000',\n",
              "       '2017-06-14T00:00:00.000000000', '2017-06-15T00:00:00.000000000',\n",
              "       '2017-06-16T00:00:00.000000000', '2017-06-19T00:00:00.000000000',\n",
              "       '2017-06-20T00:00:00.000000000', '2017-06-21T00:00:00.000000000',\n",
              "       '2017-06-22T00:00:00.000000000', '2017-06-23T00:00:00.000000000',\n",
              "       '2017-06-26T00:00:00.000000000', '2017-06-27T00:00:00.000000000',\n",
              "       '2017-06-28T00:00:00.000000000', '2017-06-29T00:00:00.000000000',\n",
              "       '2017-06-30T00:00:00.000000000', '2017-07-03T00:00:00.000000000',\n",
              "       '2017-07-05T00:00:00.000000000', '2017-07-06T00:00:00.000000000',\n",
              "       '2017-07-07T00:00:00.000000000', '2017-07-10T00:00:00.000000000',\n",
              "       '2017-07-11T00:00:00.000000000', '2017-07-12T00:00:00.000000000',\n",
              "       '2017-07-13T00:00:00.000000000', '2017-07-14T00:00:00.000000000',\n",
              "       '2017-07-17T00:00:00.000000000', '2017-07-18T00:00:00.000000000',\n",
              "       '2017-07-19T00:00:00.000000000', '2017-07-20T00:00:00.000000000',\n",
              "       '2017-07-21T00:00:00.000000000', '2017-07-24T00:00:00.000000000',\n",
              "       '2017-07-25T00:00:00.000000000', '2017-07-26T00:00:00.000000000',\n",
              "       '2017-07-27T00:00:00.000000000', '2017-07-28T00:00:00.000000000',\n",
              "       '2017-07-31T00:00:00.000000000', '2017-08-01T00:00:00.000000000',\n",
              "       '2017-08-02T00:00:00.000000000', '2017-08-03T00:00:00.000000000',\n",
              "       '2017-08-04T00:00:00.000000000', '2017-08-07T00:00:00.000000000',\n",
              "       '2017-08-08T00:00:00.000000000', '2017-08-09T00:00:00.000000000',\n",
              "       '2017-08-10T00:00:00.000000000', '2017-08-11T00:00:00.000000000',\n",
              "       '2017-08-14T00:00:00.000000000', '2017-08-15T00:00:00.000000000',\n",
              "       '2017-08-16T00:00:00.000000000', '2017-08-17T00:00:00.000000000',\n",
              "       '2017-08-18T00:00:00.000000000', '2017-08-21T00:00:00.000000000',\n",
              "       '2017-08-22T00:00:00.000000000', '2017-08-23T00:00:00.000000000',\n",
              "       '2017-08-24T00:00:00.000000000', '2017-08-25T00:00:00.000000000',\n",
              "       '2017-08-28T00:00:00.000000000', '2017-08-29T00:00:00.000000000',\n",
              "       '2017-08-30T00:00:00.000000000', '2017-08-31T00:00:00.000000000',\n",
              "       '2017-09-01T00:00:00.000000000', '2017-09-05T00:00:00.000000000',\n",
              "       '2017-09-06T00:00:00.000000000', '2017-09-07T00:00:00.000000000',\n",
              "       '2017-09-08T00:00:00.000000000', '2017-09-11T00:00:00.000000000',\n",
              "       '2017-09-12T00:00:00.000000000', '2017-09-13T00:00:00.000000000',\n",
              "       '2017-09-14T00:00:00.000000000', '2017-09-15T00:00:00.000000000',\n",
              "       '2017-09-18T00:00:00.000000000', '2017-09-19T00:00:00.000000000',\n",
              "       '2017-09-20T00:00:00.000000000', '2017-09-21T00:00:00.000000000',\n",
              "       '2017-09-22T00:00:00.000000000', '2017-09-25T00:00:00.000000000',\n",
              "       '2017-09-26T00:00:00.000000000', '2017-09-27T00:00:00.000000000',\n",
              "       '2017-09-28T00:00:00.000000000', '2017-09-29T00:00:00.000000000',\n",
              "       '2017-10-02T00:00:00.000000000', '2017-10-03T00:00:00.000000000',\n",
              "       '2017-10-04T00:00:00.000000000', '2017-10-05T00:00:00.000000000',\n",
              "       '2017-10-06T00:00:00.000000000', '2017-10-09T00:00:00.000000000',\n",
              "       '2017-10-10T00:00:00.000000000', '2017-10-11T00:00:00.000000000',\n",
              "       '2017-10-12T00:00:00.000000000', '2017-10-13T00:00:00.000000000',\n",
              "       '2017-10-16T00:00:00.000000000', '2017-10-17T00:00:00.000000000',\n",
              "       '2017-10-18T00:00:00.000000000', '2017-10-19T00:00:00.000000000',\n",
              "       '2017-10-20T00:00:00.000000000', '2017-10-23T00:00:00.000000000',\n",
              "       '2017-10-24T00:00:00.000000000', '2017-10-25T00:00:00.000000000',\n",
              "       '2017-10-26T00:00:00.000000000', '2017-10-27T00:00:00.000000000',\n",
              "       '2017-10-30T00:00:00.000000000', '2017-10-31T00:00:00.000000000',\n",
              "       '2017-11-01T00:00:00.000000000', '2017-11-02T00:00:00.000000000',\n",
              "       '2017-11-03T00:00:00.000000000', '2017-11-06T00:00:00.000000000',\n",
              "       '2017-11-07T00:00:00.000000000', '2017-11-08T00:00:00.000000000',\n",
              "       '2017-11-09T00:00:00.000000000', '2017-11-10T00:00:00.000000000'],\n",
              "      dtype='datetime64[ns]')"
            ]
          },
          "metadata": {},
          "execution_count": 694
        }
      ],
      "source": [
        "df['Date'].unique()"
      ],
      "id": "473345e9"
    },
    {
      "cell_type": "code",
      "execution_count": 695,
      "metadata": {
        "id": "11a15684",
        "colab": {
          "base_uri": "https://localhost:8080/"
        },
        "outputId": "5f0058a3-90d8-448b-c3ed-8223bdd3b91f"
      },
      "outputs": [
        {
          "output_type": "execute_result",
          "data": {
            "text/plain": [
              "array([18.    , 16.48  , 19.31  , 29.7   , 35.98  , 28.91  , 35.    ,\n",
              "       37.98  , 35.42  , 34.72  , 31.6   , 30.43  , 27.23  , 25.5   ,\n",
              "       26.51  , 24.    , 22.75  , 25.11  , 27.61  , 27.12  , 29.    ,\n",
              "       30.    , 27.93  , 29.76  , 28.3   , 25.55  , 23.9   , 21.22  ,\n",
              "       21.65  , 20.61  , 20.48  , 19.73  , 18.12  , 18.03  , 18.22  ,\n",
              "       17.6   , 15.92  , 14.52  , 12.8   , 14.8   , 12.93  , 13.13  ,\n",
              "       14.61  , 14.36  , 13.33  , 14.5   , 14.19  , 14.2   , 14.23  ,\n",
              "       15.25  , 17.4   , 16.14  , 15.85  , 15.05  , 14.34  , 13.12  ,\n",
              "       12.62  , 12.84  , 12.59  , 12.81  , 12.6   , 12.67  , 13.04  ,\n",
              "       14.08  , 13.5   , 14.12  , 14.09  , 13.28  , 12.91  , 12.71  ,\n",
              "       12.87  , 13.26  , 13.59  , 13.25  , 13.32  , 12.86  , 13.47  ,\n",
              "       13.36  , 13.64  , 13.56  , 13.57  , 13.39  , 13.08  , 12.82  ,\n",
              "       13.83  , 13.11  , 12.99  , 13.42  , 13.3   , 13.55  , 13.07  ,\n",
              "       12.24  , 11.66  , 11.56  , 11.49  , 11.09  , 10.63  , 10.07  ,\n",
              "        9.61  ,  9.81  ,  9.6   ,  9.01  ,  8.99  ,  8.78  ,  8.8   ,\n",
              "        8.6   ,  8.86  ,  8.06  ,  8.27  ,  8.15  ,  9.09  ,  9.28  ,\n",
              "        9.68  ,  8.9   ,  8.32  ,  7.6   ,  7.26  ,  6.37  ,  6.64  ,\n",
              "        6.31  ,  6.4   ,  6.09  ,  6.28  ,  6.06  ,  5.8   ,  5.4   ,\n",
              "        4.75  ,  6.76  ,  6.39  ,  6.45  ,  6.05  ,  6.1   ,  5.79  ,\n",
              "        5.85  ,  5.99  ,  5.94  ,  5.98  ,  6.03  ,  6.    ,  6.04  ,\n",
              "        6.08  ,  6.41  ,  8.17  ,  8.1   ,  8.18  ,  8.05  , 11.87  ,\n",
              "       20.81  , 13.71  , 11.26  , 11.3   ,  9.5   ,  9.7   ,  9.31  ,\n",
              "        9.62  ,  9.43  ,  9.4   ,  9.64  , 10.69  , 10.98  , 10.9   ,\n",
              "       10.5   , 10.12  ,  9.9   , 10.26  ,  9.74  , 10.01  ,  9.8   ,\n",
              "       10.11  ,  9.79  ,  9.34  ,  8.94  ,  8.13  ,  7.67  ,  7.54  ,\n",
              "        7.29  ,  6.91  ,  6.9   ,  7.06  ,  6.75  ,  6.2   ,  6.5   ,\n",
              "        7.02  ,  7.2   ,  6.92  ,  7.23  ,  7.11  ,  7.83  ,  7.96  ,\n",
              "        7.64  ,  7.75  ,  8.69  ,  8.83  ,  9.11  ,  9.95  ,  8.95  ,\n",
              "        8.7   ,  8.14  ,  8.09  ,  7.7   ,  7.71  ,  7.47  ,  7.43  ,\n",
              "        7.34  ,  8.24  ,  7.3   ,  6.73  ,  6.78  ,  6.97  ,  7.14  ,\n",
              "        7.    ,  7.35  ,  7.42  ,  7.36  ,  7.55  ,  7.33  ,  7.31  ,\n",
              "        7.52  ,  7.17  ,  8.08  ,  8.3   ,  9.25  ,  9.51  , 10.83  ,\n",
              "       10.    ,  9.87  , 10.1   , 10.09  ,  9.45  ,  9.89  ,  9.19  ,\n",
              "        8.87  ,  8.5   ,  8.52  ,  8.66  ,  9.48  , 10.8   , 10.62  ,\n",
              "       10.25  , 10.2   , 10.29  , 10.46  , 11.9   , 12.15  , 11.96  ,\n",
              "       13.41  , 14.21  , 13.75  , 13.52  , 13.    , 13.99  , 14.    ,\n",
              "       13.69  , 13.23  , 12.7   , 12.    , 10.73  , 11.55  , 10.99  ,\n",
              "       11.5   , 12.33  , 12.48  , 11.4   , 11.07  , 11.05  , 11.6   ,\n",
              "       11.62  , 11.38  , 11.48  , 13.96  , 14.57  , 14.41  , 16.03  ,\n",
              "       15.4   , 15.27  , 13.31  , 14.26  , 14.1   , 13.6   , 12.74  ,\n",
              "       13.72  , 14.59  , 15.08  , 14.72  , 14.44  , 14.95  , 14.88  ,\n",
              "       15.09  , 14.96  , 15.04  , 14.85  , 16.04  , 16.74  , 16.25  ,\n",
              "       15.9   , 16.39  , 18.09  , 19.17  , 19.4   , 18.75  , 18.33  ,\n",
              "       20.    , 18.88  , 19.25  , 18.87  , 19.55  , 19.    , 18.4   ,\n",
              "       18.19  , 18.25  , 17.79  , 17.01  , 17.38  , 18.06  , 17.94  ,\n",
              "       18.37  , 18.5   , 18.99  , 19.2   , 20.42  , 21.36  , 23.1   ,\n",
              "       23.2   , 22.5   , 21.6   , 21.46  , 22.27  , 22.48  , 22.21  ,\n",
              "       23.39  , 23.    , 22.    , 21.73  , 21.45  , 20.51  , 20.07  ,\n",
              "       20.82  , 20.58  , 20.162 , 20.77  , 20.63  , 19.75  , 19.07  ,\n",
              "       19.51  , 18.98  , 18.54  , 19.63  , 21.7   , 20.03  , 20.28  ,\n",
              "       20.24  , 20.3   , 19.64  , 19.45  , 20.97  , 22.33  , 25.27  ,\n",
              "       24.51  , 25.17  , 24.47  , 24.17  , 24.57  , 23.52  , 22.62  ,\n",
              "       21.88  , 20.9   , 20.91  , 20.98  , 21.81  , 21.3   , 20.46  ,\n",
              "       19.97  , 19.59  , 18.59  , 18.65  , 19.32  , 19.7   , 19.93  ,\n",
              "       19.46  , 18.08  , 18.74  , 18.24  , 17.98  , 18.29  , 18.94  ,\n",
              "       18.97  , 18.67  , 18.69  , 19.37  , 19.18  , 18.8   , 18.2   ,\n",
              "       16.61  , 18.21  , 17.15  , 16.98  , 17.2   , 17.92  , 18.42  ,\n",
              "       18.15  , 18.05  , 19.3   , 17.13  , 16.95  , 17.26  , 17.58  ,\n",
              "       17.97  , 18.35  , 19.23  , 18.72  , 19.22  , 19.35  , 19.15  ,\n",
              "       18.83  , 18.7   , 16.26  , 15.84  , 14.92  , 13.8   , 13.89  ,\n",
              "        6.56  ,  6.23  ,  6.27  ,  7.21  ,  6.36  ,  6.26  ,  6.24  ,\n",
              "        5.93  ,  6.21  ,  6.07  ,  6.14  ,  6.25  ,  6.32  ,  6.33  ,\n",
              "        6.44  ,  6.34  ,  6.3   ,  6.49  ,  6.22  ,  5.9   ,  5.82  ,\n",
              "        8.88  ,  8.98  , 10.02  ,  9.69  , 10.45  , 10.1788,  9.56  ,\n",
              "        9.38  ,  9.33  ,  9.65  ,  9.78  , 10.37  ,  9.59  ,  9.83  ,\n",
              "       10.42  , 10.7   , 11.    , 11.68  ])"
            ]
          },
          "metadata": {},
          "execution_count": 695
        }
      ],
      "source": [
        "df['Open'].unique()"
      ],
      "id": "11a15684"
    },
    {
      "cell_type": "code",
      "execution_count": 696,
      "metadata": {
        "id": "4d729d65",
        "colab": {
          "base_uri": "https://localhost:8080/"
        },
        "outputId": "59c2c706-1422-41a1-e8f4-d941bede0b61"
      },
      "outputs": [
        {
          "output_type": "execute_result",
          "data": {
            "text/plain": [
              "array([16.25  , 19.32  , 24.54  , 35.14  , 29.73  , 32.05  , 36.49  ,\n",
              "       34.84  , 34.11  , 32.22  , 31.28  , 28.18  , 27.39  , 26.8   ,\n",
              "       23.07  , 22.75  , 25.67  , 27.4   , 28.11  , 28.75  , 30.04  ,\n",
              "       28.78  , 28.8   , 27.89  , 26.11  , 23.99  , 20.8   , 20.73  ,\n",
              "       21.02  , 20.59  , 20.    , 19.51  , 18.58  , 17.99  , 17.25  ,\n",
              "       16.08  , 14.03  , 12.66  , 14.31  , 13.26  , 13.03  , 14.46  ,\n",
              "       14.09  , 13.52  , 14.52  , 14.38  , 14.68  , 14.36  , 15.23  ,\n",
              "       17.32  , 16.02  , 16.04  , 15.12  , 14.1   , 12.84  , 12.78  ,\n",
              "       12.51  , 12.77  , 12.59  , 13.12  , 13.96  , 13.66  , 14.29  ,\n",
              "       14.11  , 13.37  , 12.8   , 13.05  , 12.71  , 12.96  , 13.25  ,\n",
              "       13.59  , 13.3   , 13.    , 13.4   , 13.48  , 13.64  , 13.57  ,\n",
              "       13.53  , 13.14  , 13.1   , 13.17  , 13.22  , 13.19  , 13.07  ,\n",
              "       13.35  , 12.22  , 11.67  , 11.46  , 11.45  , 11.21  , 10.61  ,\n",
              "       10.19  ,  9.61  , 10.08  ,  9.67  ,  9.25  ,  9.1   ,  8.75  ,\n",
              "        8.77  ,  8.54  ,  8.43  ,  8.04  ,  8.6   ,  7.86  ,  9.41  ,\n",
              "        9.4   ,  9.45  ,  9.04  ,  8.15  ,  7.66  ,  7.15  ,  6.3   ,\n",
              "        6.64  ,  6.39  ,  6.29  ,  6.05  ,  6.32  ,  6.18  ,  5.85  ,\n",
              "        5.36  ,  4.99  ,  5.93  ,  6.49  ,  6.17  ,  6.07  ,  6.01  ,\n",
              "        5.78  ,  5.95  ,  6.02  ,  5.94  ,  6.04  ,  6.    ,  5.82  ,\n",
              "        8.21  ,  8.02  ,  8.08  ,  8.44  , 21.03  , 14.4   , 10.65  ,\n",
              "        9.96  , 10.73  , 11.09  ,  9.75  ,  9.64  ,  9.36  ,  9.63  ,\n",
              "        9.49  ,  9.6   , 10.92  , 10.97  , 10.55  , 10.02  ,  9.91  ,\n",
              "       10.07  ,  9.78  ,  9.59  ,  9.95  ,  9.7   ,  9.99  ,  9.28  ,\n",
              "        9.03  ,  8.84  ,  7.77  ,  7.61  ,  7.23  ,  6.97  ,  6.9   ,\n",
              "        6.99  ,  6.85  ,  6.77  ,  6.22  ,  6.34  ,  6.54  ,  7.13  ,\n",
              "        6.91  ,  7.24  ,  7.14  ,  7.9   ,  7.59  ,  7.76  ,  8.74  ,\n",
              "        8.8   ,  9.08  ,  9.51  ,  9.71  ,  9.77  ,  9.05  ,  8.19  ,\n",
              "        8.09  ,  7.8   ,  7.55  ,  7.48  ,  7.37  ,  7.28  ,  7.65  ,\n",
              "        7.09  ,  6.58  ,  6.72  ,  6.93  ,  7.    ,  7.3   ,  7.36  ,\n",
              "        7.27  ,  7.5   ,  7.21  ,  7.33  ,  7.54  ,  7.56  ,  7.32  ,\n",
              "        7.4   ,  7.18  ,  7.96  ,  9.2   ,  8.78  ,  9.43  , 10.5   ,\n",
              "        9.94  , 10.11  ,  9.52  , 10.26  , 10.83  , 10.04  ,  9.88  ,\n",
              "       10.03  ,  9.87  ,  9.3   ,  8.89  ,  8.85  ,  8.99  ,  8.9799,\n",
              "        8.48  ,  8.57  ,  8.47  , 10.72  ,  9.72  , 10.4   , 10.22  ,\n",
              "       10.31  , 10.28  , 11.9   , 12.02  , 11.92  , 12.99  , 12.63  ,\n",
              "       14.04  , 13.81  , 12.85  , 13.04  , 13.7   , 13.97  , 13.43  ,\n",
              "       13.61  , 13.38  , 12.7   , 12.12  , 12.    , 10.89  , 11.27  ,\n",
              "       10.99  , 11.54  , 11.97  , 12.26  , 11.48  , 11.43  , 11.13  ,\n",
              "       11.03  , 11.52  , 11.56  , 11.41  , 11.3   , 13.08  , 13.01  ,\n",
              "       13.42  , 13.28  , 13.55  , 14.23  , 14.44  , 14.17  , 15.69  ,\n",
              "       15.33  , 15.26  , 13.8   , 14.28  , 13.62  , 13.24  , 12.58  ,\n",
              "       12.79  , 13.18  , 14.51  , 15.53  , 15.07  , 14.62  , 14.8   ,\n",
              "       14.76  , 14.87  , 14.66  , 14.13  , 14.91  , 15.64  , 15.81  ,\n",
              "       15.66  , 15.59  , 17.95  , 18.75  , 19.2   , 18.25  , 18.08  ,\n",
              "       19.8   , 19.11  , 19.29  , 18.69  , 19.5   , 22.46  , 18.11  ,\n",
              "       18.12  , 18.03  , 18.0483, 18.18  , 18.13  , 17.39  , 17.01  ,\n",
              "       17.24  , 17.88  , 18.05  , 18.47  , 18.78  , 18.82  , 19.15  ,\n",
              "       20.16  , 21.23  , 22.74  , 23.    , 22.64  , 21.46  , 21.83  ,\n",
              "       22.1   , 22.02  , 23.2   , 22.9   , 22.19  , 21.63  , 21.61  ,\n",
              "       20.62  , 20.09  , 21.11  , 20.37  , 20.27  , 20.77  , 20.72  ,\n",
              "       20.68  , 19.77  , 18.97  , 19.62  , 18.71  , 19.63  , 19.65  ,\n",
              "       21.16  , 20.02  , 19.96  , 20.1   , 20.32  , 19.75  , 19.52  ,\n",
              "       20.84  , 22.09  , 24.78  , 24.7   , 25.02  , 25.19  , 24.57  ,\n",
              "       24.22  , 24.42  , 24.53  , 22.72  , 21.82  , 20.96  , 20.99  ,\n",
              "       20.98  , 21.86  , 21.29  , 20.46  , 20.08  , 19.24  , 18.37  ,\n",
              "       18.76  , 19.25  , 19.6   , 19.36  , 19.47  , 18.27  , 18.77  ,\n",
              "       18.06  , 18.91  , 18.98  , 18.52  , 18.63  , 19.35  , 19.19  ,\n",
              "       18.61  , 18.53  , 18.38  , 18.2   , 16.61  , 17.89  , 17.47  ,\n",
              "       16.86  , 17.02  , 17.96  , 18.33  , 19.12  , 18.93  , 18.02  ,\n",
              "       16.97  , 16.9   , 17.31  , 17.13  , 17.67  , 19.06  , 18.94  ,\n",
              "       19.43  , 19.05  , 18.81  , 18.73  , 18.59  , 17.26  , 17.04  ,\n",
              "       16.26  , 15.82  , 15.06  , 13.75  ,  6.67  ,  6.27  ,  7.6   ,\n",
              "        7.26  ,  7.03  ,  6.42  ,  6.24  ,  6.36  ,  6.25  ,  6.23  ,\n",
              "        5.73  ,  6.16  ,  6.06  ,  6.2   ,  6.35  ,  6.28  ,  6.37  ,\n",
              "        6.33  ,  6.21  ,  6.38  ,  5.84  ,  6.19  ,  9.44  ,  8.36  ,\n",
              "        8.69  , 10.1   ,  9.66  ,  9.38  , 10.37  , 10.06  ,  9.47  ,\n",
              "        9.32  ,  9.39  ,  9.73  ,  9.9   , 10.05  , 10.    ,  9.5   ,\n",
              "        9.8   ,  9.76  ,  9.69  ,  9.85  , 10.33  , 11.19  , 10.9   ,\n",
              "       11.6   , 12.46  ])"
            ]
          },
          "metadata": {},
          "execution_count": 696
        }
      ],
      "source": [
        "df['Close'].unique()"
      ],
      "id": "4d729d65"
    },
    {
      "cell_type": "code",
      "execution_count": 697,
      "metadata": {
        "id": "1fbb430a",
        "colab": {
          "base_uri": "https://localhost:8080/"
        },
        "outputId": "f84a833f-5165-43b7-a97e-9e1aa048d109"
      },
      "outputs": [
        {
          "output_type": "execute_result",
          "data": {
            "text/plain": [
              "array([22.25  , 19.5   , 24.9   , 42.85  , 37.688 , 36.    , 43.    ,\n",
              "       39.5   , 36.3   , 34.72  , 31.69  , 31.    , 27.94  , 27.55  ,\n",
              "       27.    , 26.14  , 28.    , 29.1   , 30.08  , 28.94  , 32.    ,\n",
              "       33.06  , 29.5   , 30.21  , 29.03  , 25.97  , 23.9   , 21.22  ,\n",
              "       23.63  , 21.46  , 20.58  , 20.86  , 20.25  , 18.91  , 18.62  ,\n",
              "       19.    , 18.15  , 15.92  , 14.72  , 14.71  , 14.8   , 13.38  ,\n",
              "       14.58  , 14.75  , 14.36  , 14.69  , 14.84  , 14.55  , 15.7   ,\n",
              "       17.82  , 18.25  , 16.95  , 16.17  , 15.99  , 15.25  , 13.72  ,\n",
              "       13.07  , 12.84  , 13.76  , 13.5   , 13.14  , 13.3   , 14.31  ,\n",
              "       14.41  , 14.77  , 14.45  , 14.27  , 13.55  , 13.22  , 13.47  ,\n",
              "       13.56  , 14.05  , 13.84  , 13.93  , 13.7   , 13.62  , 14.23  ,\n",
              "       14.04  , 13.8   , 13.58  , 13.88  , 13.95  , 13.36  , 13.2   ,\n",
              "       13.83  , 13.27  , 13.43  , 13.65  , 14.5   , 14.22  , 13.16  ,\n",
              "       12.49  , 11.879 , 11.75  , 12.77  , 11.4   , 10.8   , 10.07  ,\n",
              "       10.2   ,  9.84  ,  9.78  ,  9.38  ,  8.99  ,  9.35  ,  8.8   ,\n",
              "        8.8199,  9.17  ,  8.66  ,  8.44  , 10.84  ,  9.735 , 10.    ,\n",
              "        9.68  ,  9.7999,  8.33  ,  8.01  ,  7.26  ,  6.72  ,  6.64  ,\n",
              "        6.48  ,  6.4   ,  6.49  ,  6.5599,  6.51  ,  6.16  ,  5.4   ,\n",
              "        6.01  ,  7.0699,  7.    ,  6.225 ,  6.18  ,  6.03  ,  6.21  ,\n",
              "        6.17  ,  6.28  ,  6.07  ,  6.05  ,  6.04  ,  6.45  ,  8.3   ,\n",
              "        8.86  ,  8.35  ,  8.22  ,  8.5   , 21.5626, 20.81  , 13.71  ,\n",
              "       11.85  , 11.    , 12.0698, 11.98  , 11.72  , 10.24  , 10.1599,\n",
              "        9.66  , 10.09  ,  9.8   ,  9.92  ,  9.97  , 11.3   , 11.6799,\n",
              "       10.614 , 10.37  , 10.32  ,  9.875 , 10.01  ,  9.8824, 10.19  ,\n",
              "       10.5676,  9.99  ,  9.6   ,  9.365 ,  9.48  ,  8.78  ,  8.13  ,\n",
              "        8.07  ,  7.54  ,  7.29  ,  7.185 ,  7.1199,  7.11  ,  6.9199,\n",
              "        6.9   ,  6.6488,  6.66  ,  7.57  ,  7.53  ,  7.293 ,  7.343 ,\n",
              "        7.5151,  7.89  ,  8.4   ,  8.12  ,  7.9   ,  9.29  ,  9.24  ,\n",
              "        9.15  ,  9.79  ,  9.9828, 10.17  ,  9.95  ,  9.77  ,  9.19  ,\n",
              "        8.89  ,  8.4999,  8.1699,  7.8099,  7.93  ,  7.5353,  7.67  ,\n",
              "        7.79  ,  7.68  ,  8.94  ,  7.449 ,  7.05  ,  7.0525,  7.1758,\n",
              "        7.175 ,  7.49  ,  7.4204,  7.5   ,  7.42  ,  7.7   ,  7.55  ,\n",
              "        7.45  ,  7.6198,  7.6   ,  7.48  ,  7.791 ,  7.52  ,  7.3414,\n",
              "        7.4   ,  8.25  ,  9.63  ,  9.4299,  9.5   , 10.5   , 10.83  ,\n",
              "       10.39  , 10.29  , 10.1   , 10.4999, 11.01  , 11.15  ,  9.89  ,\n",
              "       10.1294,  9.55  ,  9.21  ,  9.2699,  9.12  ,  8.68  , 10.74  ,\n",
              "       10.62  , 10.42  , 10.6147, 10.8956, 11.9   , 12.4   , 12.41  ,\n",
              "       14.38  , 14.44  , 13.96  , 13.37  , 14.    , 14.32  , 14.19  ,\n",
              "       13.7189, 14.4995, 13.86  , 13.49  , 12.995 , 12.38  , 12.06  ,\n",
              "       11.709 , 11.56  , 11.7089, 12.058 , 12.76  , 12.55  , 12.48  ,\n",
              "       11.52  , 11.5   , 11.2373, 11.7   , 11.92  , 11.795 , 11.605 ,\n",
              "       13.39  , 14.3984, 14.779 , 14.82  , 16.    , 16.91  , 15.9069,\n",
              "       15.29  , 14.3   , 14.34  , 14.1399, 13.9284, 13.42  , 12.82  ,\n",
              "       13.75  , 14.64  , 14.66  , 15.72  , 16.59  , 15.65  , 14.8669,\n",
              "       15.03  , 15.49  , 15.45  , 15.1309, 14.999 , 15.5   , 16.74  ,\n",
              "       16.3797, 15.9   , 18.    , 19.943 , 19.94  , 19.689 , 18.75  ,\n",
              "       20.36  , 20.2   , 19.45  , 19.4376, 23.0685, 19.69  , 18.59  ,\n",
              "       18.5   , 18.34  , 18.4   , 17.801 , 17.55  , 18.06  , 18.21  ,\n",
              "       18.335 , 18.4899, 18.8   , 19.35  , 20.44  , 21.3926, 22.9606,\n",
              "       23.75  , 23.57  , 22.55  , 22.2088, 22.49  , 22.42  , 23.5   ,\n",
              "       23.2   , 23.41  , 23.2091, 22.91  , 22.0216, 21.62  , 20.6399,\n",
              "       21.6   , 21.1724, 20.67  , 21.4299, 21.17  , 20.98  , 20.8   ,\n",
              "       19.9   , 19.84  , 19.77  , 19.29  , 19.97  , 20.1   , 21.69  ,\n",
              "       21.7499, 20.46  , 20.38  , 20.42  , 20.9   , 20.97  , 22.39  ,\n",
              "       25.2465, 25.8783, 25.4   , 25.95  , 24.93  , 24.94  , 24.57  ,\n",
              "       23.84  , 22.94  , 22.02  , 21.44  , 21.35  , 21.93  , 22.53  ,\n",
              "       21.55  , 20.6183, 20.05  , 20.26  , 19.7699, 19.33  , 20.28  ,\n",
              "       19.8915, 20.48  , 19.46  , 18.86  , 19.09  , 18.47  , 18.2731,\n",
              "       18.29  , 18.99  , 19.099 , 19.089 , 18.72  , 19.5936, 18.94  ,\n",
              "       19.25  , 18.9   , 18.2499, 18.19  , 18.37  , 17.5787, 17.25  ,\n",
              "       18.84  , 19.36  , 18.82  , 19.3   , 20.73  , 19.27  , 18.4714,\n",
              "       17.27  , 17.41  , 17.58  , 17.7499, 19.4291, 19.34  , 19.64  ,\n",
              "       20.    , 19.242 , 19.7   , 19.15  , 18.83  , 18.7999, 17.822 ,\n",
              "       17.3332, 16.5   , 16.16  , 15.55  , 15.1164, 14.25  , 15.59  ,\n",
              "        6.77  ,  8.4299,  7.3092,  6.69  ,  6.57  ,  6.639 ,  6.5   ,\n",
              "        6.325 ,  6.2889,  6.37  ,  6.436 ,  6.443 ,  6.85  ,  6.59  ,\n",
              "        6.43  ,  6.39  ,  6.35  ,  6.33  ,  6.55  ,  6.53  ,  6.52  ,\n",
              "        6.25  ,  6.    , 11.28  , 10.1472,  9.27  , 10.26  , 10.4485,\n",
              "       10.35  ,  9.85  , 10.12  , 10.64  , 10.499 , 10.1788,  9.76  ,\n",
              "        9.49  ,  9.69  ,  9.88  , 10.06  , 10.59  ,  9.93  , 10.2699,\n",
              "        9.9492, 11.54  , 11.42  , 11.06  , 11.8563, 13.15  ])"
            ]
          },
          "metadata": {},
          "execution_count": 697
        }
      ],
      "source": [
        "df['High'].unique()"
      ],
      "id": "1fbb430a"
    },
    {
      "cell_type": "code",
      "execution_count": 698,
      "metadata": {
        "id": "95db7a65",
        "colab": {
          "base_uri": "https://localhost:8080/"
        },
        "outputId": "72f40308-7bd4-4d1e-d003-d55e29d19156"
      },
      "outputs": [
        {
          "output_type": "execute_result",
          "data": {
            "text/plain": [
              "array([15.5   , 16.46  , 19.31  , 27.5   , 28.16  , 28.    , 32.52  ,\n",
              "       33.68  , 32.04  , 31.45  , 29.38  , 25.27  , 22.09  , 23.03  ,\n",
              "       22.05  , 22.5   , 24.53  , 27.39  , 26.62  , 27.    , 28.25  ,\n",
              "       27.13  , 27.31  , 25.    , 23.21  , 19.2   , 20.01  , 20.8   ,\n",
              "       20.25  , 18.21  , 19.01  , 18.43  , 17.67  , 17.7   , 16.499 ,\n",
              "       15.54  , 12.16  , 12.    , 12.8   , 12.23  , 12.2   , 12.57  ,\n",
              "       13.39  , 13.23  , 13.05  , 13.78  , 13.66  , 14.16  , 14.2   ,\n",
              "       15.25  , 15.82  , 15.55  , 14.6   , 13.87  , 12.75  , 12.35  ,\n",
              "       12.41  , 12.51  , 12.47  , 12.36  , 12.67  , 12.94  , 13.49  ,\n",
              "       13.5   , 13.34  , 13.14  , 12.76  , 12.33  , 12.66  , 13.1   ,\n",
              "       13.12  , 12.92  , 13.31  , 13.04  , 12.6   , 13.03  , 13.02  ,\n",
              "       12.85  , 12.62  , 12.84  , 12.93  , 13.18  , 12.55  , 12.12  ,\n",
              "       10.89  , 11.101 , 11.06  , 10.99  , 10.6   ,  9.78  ,  9.3971,\n",
              "        9.33  ,  9.    ,  9.25  ,  8.92  ,  8.5408,  8.72  ,  8.08  ,\n",
              "        8.19  ,  7.9   ,  7.42  ,  7.7   ,  7.55  ,  8.15  ,  8.84  ,\n",
              "        8.99  ,  8.1291,  7.6115,  7.05  ,  6.2   ,  6.35  ,  6.36  ,\n",
              "        6.1735,  5.8   ,  6.09  ,  6.18  ,  5.14  ,  4.78  ,  4.64  ,\n",
              "        6.05  ,  5.7407,  6.25  ,  5.76  ,  5.59  ,  5.17  ,  5.85  ,\n",
              "        5.54  ,  5.69  ,  5.75  ,  5.86  ,  6.41  ,  7.7706,  7.75  ,\n",
              "        7.8   , 11.87  , 14.01  , 10.335 ,  9.72  ,  9.71  , 10.58  ,\n",
              "       10.8894,  9.5   ,  9.22  ,  9.26  ,  8.55  ,  9.2   ,  9.35  ,\n",
              "        9.2888,  9.45  ,  9.4   , 10.22  , 10.526 , 10.357 ,  9.83  ,\n",
              "        9.01  ,  9.52  ,  9.6   ,  9.7   ,  9.63  ,  9.36  ,  9.1   ,\n",
              "        8.91  ,  8.81  ,  7.87  ,  7.6   ,  6.85  ,  6.72  ,  6.9   ,\n",
              "        6.75  ,  6.74  ,  6.02  ,  6.1218,  6.47  ,  6.8801,  6.62  ,\n",
              "        6.7501,  7.1   ,  7.11  ,  7.3101,  8.59  ,  8.6501,  8.7966,\n",
              "        9.13  ,  9.55  ,  8.79  ,  8.61  ,  8.14  ,  8.    ,  7.8001,\n",
              "        7.5   ,  7.31  ,  7.18  ,  7.34  ,  6.95  ,  6.5   ,  6.31  ,\n",
              "        6.67  ,  6.82  ,  6.9101,  7.    ,  7.1659,  7.25  ,  7.2   ,\n",
              "        7.22  ,  7.33  ,  7.14  ,  7.1901,  7.41  ,  7.28  ,  7.09  ,\n",
              "        7.02  ,  7.3001,  7.8101,  8.57  ,  8.71  ,  9.67  ,  9.691 ,\n",
              "        9.65  ,  9.51  ,  9.64  ,  9.84  , 10.26  ,  9.99  ,  9.11  ,\n",
              "        9.18  ,  9.74  ,  9.69  ,  9.1259,  8.6401,  8.6   ,  8.44  ,\n",
              "        8.345 ,  8.2513,  8.65  ,  9.48  , 10.1   ,  9.6416,  9.95  ,\n",
              "       10.08  ,  9.94  , 10.2   , 10.4   , 11.1   , 11.26  , 11.819 ,\n",
              "       12.27  , 13.306 , 13.07  , 12.87  , 13.62  , 13.11  , 13.52  ,\n",
              "       12.9011, 12.56  , 11.891 , 11.59  , 10.56  , 10.57  , 10.9   ,\n",
              "       10.8   , 11.4   , 11.96  , 11.84  , 10.87  , 11.    , 10.66  ,\n",
              "       10.98  , 11.33  , 10.81  , 10.8301, 11.3958, 12.5   , 13.0273,\n",
              "       12.72  , 13.6524, 14.    , 14.02  , 14.201 , 14.88  , 14.8211,\n",
              "       13.8   , 13.09  , 13.95  , 13.4897, 12.28  , 12.7844, 12.88  ,\n",
              "       13.38  , 13.75  , 15.    , 14.21  , 14.22  , 13.86  , 14.125 ,\n",
              "       14.66  , 14.75  , 14.55  , 14.03  , 14.43  , 14.85  , 15.73  ,\n",
              "       15.88  , 15.4   , 15.8   , 18.02  , 18.7313, 17.69  , 18.29  ,\n",
              "       18.651 , 18.8   , 18.51  , 18.7   , 19.55  , 17.81  , 18.01  ,\n",
              "       17.9   , 17.8   , 18.    , 17.33  , 16.0907, 16.87  , 17.34  ,\n",
              "       17.5   , 17.82  , 17.92  , 18.09  , 18.61  , 18.69  , 20.29  ,\n",
              "       21.32  , 22.27  , 21.17  , 21.12  , 21.26  , 21.39  , 21.3   ,\n",
              "       21.86  , 22.16  , 22.42  , 22.03  , 21.3101, 21.311 , 20.5716,\n",
              "       19.69  , 20.07  , 20.16  , 20.11  , 19.52  , 20.06  , 19.62  ,\n",
              "       18.86  , 18.9001, 18.91  , 18.3   , 18.54  , 19.1   , 19.21  ,\n",
              "       20.    , 19.6598, 19.76  , 19.825 , 19.34  , 19.35  , 19.41  ,\n",
              "       20.911 , 22.3   , 23.71  , 24.25  , 24.7271, 24.2   , 24.02  ,\n",
              "       24.    , 24.16  , 22.88  , 21.83  , 21.79  , 20.7701, 20.64  ,\n",
              "       20.98  , 21.08  , 19.93  , 19.5   , 18.8383, 18.9   , 17.75  ,\n",
              "       19.32  , 19.02  , 18.15  , 17.66  , 17.73  , 18.2489, 18.58  ,\n",
              "       18.11  , 17.9193, 18.17  , 18.4   , 18.25  , 18.415 , 18.14  ,\n",
              "       16.271 , 16.61  , 17.11  , 16.56  , 16.65  , 16.86  , 17.86  ,\n",
              "       17.85  , 17.7971, 18.78  , 16.42  , 16.81  , 17.01  , 17.1   ,\n",
              "       18.35  , 18.6165, 18.63  , 18.8501, 18.66  , 18.31  , 17.21  ,\n",
              "       16.85  , 15.59  , 13.46  , 13.705 , 13.8479,  5.9301,  7.0508,\n",
              "        6.7   ,  5.42  ,  6.0674,  6.04  ,  6.17  ,  6.15  ,  5.92  ,\n",
              "        5.62  ,  5.65  ,  5.9   ,  6.03  ,  6.0542,  6.101 ,  6.161 ,\n",
              "        6.21  ,  6.2178,  6.2975,  6.1   ,  6.13  ,  6.1901,  6.221 ,\n",
              "        6.22  ,  5.821 ,  5.81  ,  9.38  ,  8.36  ,  8.39  ,  9.5422,\n",
              "       10.02  ,  9.3801,  9.9   ,  9.92  ,  9.31  ,  9.09  ,  9.28  ,\n",
              "        9.525 ,  9.851 ,  9.8101,  9.41  , 10.42  , 10.67  , 10.35  ,\n",
              "       10.97  , 11.3043])"
            ]
          },
          "metadata": {},
          "execution_count": 698
        }
      ],
      "source": [
        "df['Low'].unique()"
      ],
      "id": "95db7a65"
    },
    {
      "cell_type": "code",
      "execution_count": 699,
      "metadata": {
        "id": "bea09fd5",
        "colab": {
          "base_uri": "https://localhost:8080/"
        },
        "outputId": "b71f5d6e-d70a-4497-c778-36a15c7d146f"
      },
      "outputs": [
        {
          "output_type": "execute_result",
          "data": {
            "text/plain": [
              "          Date   Open     High      Low  Close   Volume\n",
              "0   2015-08-05  18.00  22.2500  15.5000  16.25  1535500\n",
              "1   2015-08-06  16.48  19.5000  16.4600  19.32   331692\n",
              "2   2015-08-07  19.31  24.9000  19.3100  24.54   269300\n",
              "3   2015-08-10  29.70  42.8500  27.5000  35.14   539200\n",
              "4   2015-08-11  35.98  37.6880  28.1600  29.73   243632\n",
              "..         ...    ...      ...      ...    ...      ...\n",
              "569 2017-11-06  10.42  11.5400  10.4200  11.19   977948\n",
              "570 2017-11-07  11.30  11.4200  10.6700  10.83   451210\n",
              "571 2017-11-08  10.70  11.0600  10.3500  10.90   336449\n",
              "572 2017-11-09  11.00  11.8563  10.9700  11.60   463067\n",
              "573 2017-11-10  11.68  13.1500  11.3043  12.46   885587\n",
              "\n",
              "[574 rows x 6 columns]"
            ],
            "text/html": [
              "\n",
              "  <div id=\"df-7ec8156e-3e2d-4562-a499-4fc6203e17bd\">\n",
              "    <div class=\"colab-df-container\">\n",
              "      <div>\n",
              "<style scoped>\n",
              "    .dataframe tbody tr th:only-of-type {\n",
              "        vertical-align: middle;\n",
              "    }\n",
              "\n",
              "    .dataframe tbody tr th {\n",
              "        vertical-align: top;\n",
              "    }\n",
              "\n",
              "    .dataframe thead th {\n",
              "        text-align: right;\n",
              "    }\n",
              "</style>\n",
              "<table border=\"1\" class=\"dataframe\">\n",
              "  <thead>\n",
              "    <tr style=\"text-align: right;\">\n",
              "      <th></th>\n",
              "      <th>Date</th>\n",
              "      <th>Open</th>\n",
              "      <th>High</th>\n",
              "      <th>Low</th>\n",
              "      <th>Close</th>\n",
              "      <th>Volume</th>\n",
              "    </tr>\n",
              "  </thead>\n",
              "  <tbody>\n",
              "    <tr>\n",
              "      <th>0</th>\n",
              "      <td>2015-08-05</td>\n",
              "      <td>18.00</td>\n",
              "      <td>22.2500</td>\n",
              "      <td>15.5000</td>\n",
              "      <td>16.25</td>\n",
              "      <td>1535500</td>\n",
              "    </tr>\n",
              "    <tr>\n",
              "      <th>1</th>\n",
              "      <td>2015-08-06</td>\n",
              "      <td>16.48</td>\n",
              "      <td>19.5000</td>\n",
              "      <td>16.4600</td>\n",
              "      <td>19.32</td>\n",
              "      <td>331692</td>\n",
              "    </tr>\n",
              "    <tr>\n",
              "      <th>2</th>\n",
              "      <td>2015-08-07</td>\n",
              "      <td>19.31</td>\n",
              "      <td>24.9000</td>\n",
              "      <td>19.3100</td>\n",
              "      <td>24.54</td>\n",
              "      <td>269300</td>\n",
              "    </tr>\n",
              "    <tr>\n",
              "      <th>3</th>\n",
              "      <td>2015-08-10</td>\n",
              "      <td>29.70</td>\n",
              "      <td>42.8500</td>\n",
              "      <td>27.5000</td>\n",
              "      <td>35.14</td>\n",
              "      <td>539200</td>\n",
              "    </tr>\n",
              "    <tr>\n",
              "      <th>4</th>\n",
              "      <td>2015-08-11</td>\n",
              "      <td>35.98</td>\n",
              "      <td>37.6880</td>\n",
              "      <td>28.1600</td>\n",
              "      <td>29.73</td>\n",
              "      <td>243632</td>\n",
              "    </tr>\n",
              "    <tr>\n",
              "      <th>...</th>\n",
              "      <td>...</td>\n",
              "      <td>...</td>\n",
              "      <td>...</td>\n",
              "      <td>...</td>\n",
              "      <td>...</td>\n",
              "      <td>...</td>\n",
              "    </tr>\n",
              "    <tr>\n",
              "      <th>569</th>\n",
              "      <td>2017-11-06</td>\n",
              "      <td>10.42</td>\n",
              "      <td>11.5400</td>\n",
              "      <td>10.4200</td>\n",
              "      <td>11.19</td>\n",
              "      <td>977948</td>\n",
              "    </tr>\n",
              "    <tr>\n",
              "      <th>570</th>\n",
              "      <td>2017-11-07</td>\n",
              "      <td>11.30</td>\n",
              "      <td>11.4200</td>\n",
              "      <td>10.6700</td>\n",
              "      <td>10.83</td>\n",
              "      <td>451210</td>\n",
              "    </tr>\n",
              "    <tr>\n",
              "      <th>571</th>\n",
              "      <td>2017-11-08</td>\n",
              "      <td>10.70</td>\n",
              "      <td>11.0600</td>\n",
              "      <td>10.3500</td>\n",
              "      <td>10.90</td>\n",
              "      <td>336449</td>\n",
              "    </tr>\n",
              "    <tr>\n",
              "      <th>572</th>\n",
              "      <td>2017-11-09</td>\n",
              "      <td>11.00</td>\n",
              "      <td>11.8563</td>\n",
              "      <td>10.9700</td>\n",
              "      <td>11.60</td>\n",
              "      <td>463067</td>\n",
              "    </tr>\n",
              "    <tr>\n",
              "      <th>573</th>\n",
              "      <td>2017-11-10</td>\n",
              "      <td>11.68</td>\n",
              "      <td>13.1500</td>\n",
              "      <td>11.3043</td>\n",
              "      <td>12.46</td>\n",
              "      <td>885587</td>\n",
              "    </tr>\n",
              "  </tbody>\n",
              "</table>\n",
              "<p>574 rows × 6 columns</p>\n",
              "</div>\n",
              "      <button class=\"colab-df-convert\" onclick=\"convertToInteractive('df-7ec8156e-3e2d-4562-a499-4fc6203e17bd')\"\n",
              "              title=\"Convert this dataframe to an interactive table.\"\n",
              "              style=\"display:none;\">\n",
              "        \n",
              "  <svg xmlns=\"http://www.w3.org/2000/svg\" height=\"24px\"viewBox=\"0 0 24 24\"\n",
              "       width=\"24px\">\n",
              "    <path d=\"M0 0h24v24H0V0z\" fill=\"none\"/>\n",
              "    <path d=\"M18.56 5.44l.94 2.06.94-2.06 2.06-.94-2.06-.94-.94-2.06-.94 2.06-2.06.94zm-11 1L8.5 8.5l.94-2.06 2.06-.94-2.06-.94L8.5 2.5l-.94 2.06-2.06.94zm10 10l.94 2.06.94-2.06 2.06-.94-2.06-.94-.94-2.06-.94 2.06-2.06.94z\"/><path d=\"M17.41 7.96l-1.37-1.37c-.4-.4-.92-.59-1.43-.59-.52 0-1.04.2-1.43.59L10.3 9.45l-7.72 7.72c-.78.78-.78 2.05 0 2.83L4 21.41c.39.39.9.59 1.41.59.51 0 1.02-.2 1.41-.59l7.78-7.78 2.81-2.81c.8-.78.8-2.07 0-2.86zM5.41 20L4 18.59l7.72-7.72 1.47 1.35L5.41 20z\"/>\n",
              "  </svg>\n",
              "      </button>\n",
              "      \n",
              "  <style>\n",
              "    .colab-df-container {\n",
              "      display:flex;\n",
              "      flex-wrap:wrap;\n",
              "      gap: 12px;\n",
              "    }\n",
              "\n",
              "    .colab-df-convert {\n",
              "      background-color: #E8F0FE;\n",
              "      border: none;\n",
              "      border-radius: 50%;\n",
              "      cursor: pointer;\n",
              "      display: none;\n",
              "      fill: #1967D2;\n",
              "      height: 32px;\n",
              "      padding: 0 0 0 0;\n",
              "      width: 32px;\n",
              "    }\n",
              "\n",
              "    .colab-df-convert:hover {\n",
              "      background-color: #E2EBFA;\n",
              "      box-shadow: 0px 1px 2px rgba(60, 64, 67, 0.3), 0px 1px 3px 1px rgba(60, 64, 67, 0.15);\n",
              "      fill: #174EA6;\n",
              "    }\n",
              "\n",
              "    [theme=dark] .colab-df-convert {\n",
              "      background-color: #3B4455;\n",
              "      fill: #D2E3FC;\n",
              "    }\n",
              "\n",
              "    [theme=dark] .colab-df-convert:hover {\n",
              "      background-color: #434B5C;\n",
              "      box-shadow: 0px 1px 3px 1px rgba(0, 0, 0, 0.15);\n",
              "      filter: drop-shadow(0px 1px 2px rgba(0, 0, 0, 0.3));\n",
              "      fill: #FFFFFF;\n",
              "    }\n",
              "  </style>\n",
              "\n",
              "      <script>\n",
              "        const buttonEl =\n",
              "          document.querySelector('#df-7ec8156e-3e2d-4562-a499-4fc6203e17bd button.colab-df-convert');\n",
              "        buttonEl.style.display =\n",
              "          google.colab.kernel.accessAllowed ? 'block' : 'none';\n",
              "\n",
              "        async function convertToInteractive(key) {\n",
              "          const element = document.querySelector('#df-7ec8156e-3e2d-4562-a499-4fc6203e17bd');\n",
              "          const dataTable =\n",
              "            await google.colab.kernel.invokeFunction('convertToInteractive',\n",
              "                                                     [key], {});\n",
              "          if (!dataTable) return;\n",
              "\n",
              "          const docLinkHtml = 'Like what you see? Visit the ' +\n",
              "            '<a target=\"_blank\" href=https://colab.research.google.com/notebooks/data_table.ipynb>data table notebook</a>'\n",
              "            + ' to learn more about interactive tables.';\n",
              "          element.innerHTML = '';\n",
              "          dataTable['output_type'] = 'display_data';\n",
              "          await google.colab.output.renderOutput(dataTable, element);\n",
              "          const docLink = document.createElement('div');\n",
              "          docLink.innerHTML = docLinkHtml;\n",
              "          element.appendChild(docLink);\n",
              "        }\n",
              "      </script>\n",
              "    </div>\n",
              "  </div>\n",
              "  "
            ]
          },
          "metadata": {},
          "execution_count": 699
        }
      ],
      "source": [
        "df.drop(['OpenInt'], axis=1, inplace=True)\n",
        "df"
      ],
      "id": "bea09fd5"
    },
    {
      "cell_type": "code",
      "execution_count": 700,
      "metadata": {
        "id": "60311244",
        "colab": {
          "base_uri": "https://localhost:8080/"
        },
        "outputId": "b80a6f80-ca6e-4a32-f17c-4c5efbe25b25"
      },
      "outputs": [
        {
          "output_type": "execute_result",
          "data": {
            "text/plain": [
              "array([ 1535500,   331692,   269300,   539200,   243632,   238000,\n",
              "         407800,   233000,   124000,   141500,   119800,   156400,\n",
              "         140600,    52600,    64600,   113200,   145700,    61700,\n",
              "         175400,    19600,    80100,    87200,    81000,    64500,\n",
              "          64800,    81153,   311300,    84900,   169400,   115700,\n",
              "         143800,   124800,   111300,    61900,    36600,   141917,\n",
              "         132300,   217112,   143400,   422600,   148300,   115800,\n",
              "          87636,    58400,   141000,    70400,    89800,    51439,\n",
              "          52300,    93400,   135600,    98600,   108176,   199500,\n",
              "         185600,   141900,    47900,    84800,   100200,   101800,\n",
              "          54900,    60195,    33900,    77851,    96400,   106700,\n",
              "         110888,    66300,    72600,   103500,    64100,   124100,\n",
              "          65500,    80000,    44600,    34600,    98100,    41300,\n",
              "         140000,    46300,    36385,    46739,    58275,    48500,\n",
              "          73300,    31037,    90500,    73800,    72500,    77608,\n",
              "          46100,   120300,    82800,   124500,    47400,    12654,\n",
              "         154800,    62841,    42744,    82042,    85195,    99334,\n",
              "         112116,    37210,    50722,    34366,    41640,    59820,\n",
              "          41122,    59189,    41399,    22392,   128100,    61120,\n",
              "          29470,    52803,    25110,    59742,    28754,   148691,\n",
              "          28371,    58495,    16609,    40707,    26876,    18832,\n",
              "          34605,    45075,   189897,    92382,   183747,   201388,\n",
              "          49508,   121914,    32362,    25183,   258807,    39633,\n",
              "         109243,    28803,    30419,    47192,    59835,    43363,\n",
              "         117785,   254670,   138304,    48370,    26227,   168053,\n",
              "        4681915,  1673766,  1300229,  1271905,   639068,   782012,\n",
              "         517604,   489743,   188512,   112309,   381964,   193243,\n",
              "         117461,   156711,    74858,   593777,   570875,   314986,\n",
              "         156081,   146429,   528136,   268413,   186813,   116776,\n",
              "         177362,   153220,    79669,   115199,   218773,    90096,\n",
              "         143844,   123998,    92037,   177890,   103893,    81083,\n",
              "         115404,   110472,    89189,    60442,    60208,    59213,\n",
              "         111804,    71246,   166332,   248041,   189519,   110571,\n",
              "         124748,    72116,   260648,   238823,   219054,    86442,\n",
              "         447521,   208401,   108141,   414088,   208157,   274622,\n",
              "         179416,   179961,   148049,   134349,   132312,   177630,\n",
              "         221078,   187399,   195026,   184722,    83813,   117424,\n",
              "         353400,  1065926,   434295,   352160,   193422,   220406,\n",
              "         148860,   146774,   106577,    92999,    93569,   105141,\n",
              "          37808,    67496,   117585,    70975,   109175,    67877,\n",
              "         219871,    78764,    62043,    38598,   293951,   139510,\n",
              "         181316,   230896,   171753,   153594,   348029,   319052,\n",
              "         175890,    89919,   166487,   130830,   138317,   229269,\n",
              "         187593,   256206,   138399,    91410,   153031,    74408,\n",
              "         118509,   105078,    78596,    57134,    72887,    98926,\n",
              "          39685,    48236,   183556,   622036,   315570,   167713,\n",
              "         147700,   176292,   101825,   126176,   174024,   435222,\n",
              "         481541,   345629,   690056,   318950,  1265814,   403129,\n",
              "         319479,   225881,   239836,   314330,   335157,   244585,\n",
              "         203014,   809114,   217738,   214648,   193532,   210491,\n",
              "         481436,   218355,   235129,   116027,   172325,   209052,\n",
              "         175870,   176101,   153060,   123093,   123024,   143703,\n",
              "         139809,   141283,   105466,   145402,   218872,   183124,\n",
              "         240895,   192417,   201122,   270813,   324605,   153602,\n",
              "         457922,   470335,   246088,   305929,   165073,    48319,\n",
              "          81003,    93624,   156596,   112236,   163922,   203248,\n",
              "         304463,   183639,   324860,   349251,   184023,   108906,\n",
              "         133418,   115496,   214329,   108455,    75371,    83748,\n",
              "         185852,   177075,   226853,   181761,   189528,   129491,\n",
              "         409699,   576804,   434587,   322436,   210743,   472897,\n",
              "         289477,   164529,   177414,   203660,   895674,  3476556,\n",
              "         439114,   623643,   312896,   401342,   338423,   519097,\n",
              "         480968,   542935,   365730,   289233,   470010,   574826,\n",
              "         442423,   396027,   326975,   449719,   547317,   629254,\n",
              "         746824,   747963,   597245,   280556,   423929,   381409,\n",
              "         868937,   503069,   444336,   532095,   463156,   255061,\n",
              "         346419,   381843,   275864,   220730,   161396,   458894,\n",
              "         398093,   205665,   306629,   375915,   229628,   255815,\n",
              "         282640,   301097,   204199,   699245,   577513,   296265,\n",
              "         275703,   298255,   189363,   283755,   451162,   529024,\n",
              "         670312,  1701597,   965224,   479991,   494926,   313832,\n",
              "         317130,   266768,   251331,   430171,   538360,   325139,\n",
              "         488716,   361134,   266165,   359273,   434241,   367133,\n",
              "         314945,   494224,   312724,   821218,   407080,   296007,\n",
              "         348435,   300478,   466061,   352090,   287749,   433604,\n",
              "         242474,   244707,   298553,   447684,   188972,   348045,\n",
              "         253279,   338354,   280977,   279040,   287164,   368570,\n",
              "         417030,   404334,   602670,   475733,   280733,   257569,\n",
              "         262735,   334357,   291003,   395154,   458950,  1616976,\n",
              "         359149,   716435,   464360,   347517,   925534,   292268,\n",
              "         283739,   177399,   275499,   283288,   370848,   526224,\n",
              "         489290,   403144,   567735,   262238,   476676,   712476,\n",
              "         369465,   367647,   753903,   523405,   596578,   439856,\n",
              "        1077565,  1876740,   906874,   449217,   822704,  8998782,\n",
              "        1678805,  4309150,  2320928,  1279757,  4253972,   914749,\n",
              "        1673477,   651837,   423837,   486889,   765657,   747553,\n",
              "         771350,   354753,   407243,   416635,   285956,   369405,\n",
              "         257356,   179765,   292627,   588271,   344190,   315722,\n",
              "         259959,   281103,   313352,   325800,   485416,   219485,\n",
              "         288694,   220805,   562994,   383450,   345881,   342833,\n",
              "       13632556,  3261715,  1829376,  1863068,  1275918,   672628,\n",
              "         726409,   402038,   635145,   871267,   420984,   328513,\n",
              "         287767,   442331,   198663,   303491,   299544,   480391,\n",
              "         586296,   361461,   294371,   297751,   256138,   233242,\n",
              "         301604,   323496,   531495,   977948,   451210,   336449,\n",
              "         463067,   885587])"
            ]
          },
          "metadata": {},
          "execution_count": 700
        }
      ],
      "source": [
        "df['Volume'].unique()"
      ],
      "id": "60311244"
    },
    {
      "cell_type": "code",
      "execution_count": 701,
      "metadata": {
        "id": "3zJNO32DwsrW",
        "colab": {
          "base_uri": "https://localhost:8080/"
        },
        "outputId": "0194b68d-4b01-4706-c098-8b48bd30c3d5"
      },
      "outputs": [
        {
          "output_type": "execute_result",
          "data": {
            "text/plain": [
              "0      False\n",
              "1      False\n",
              "2      False\n",
              "3      False\n",
              "4      False\n",
              "       ...  \n",
              "569    False\n",
              "570    False\n",
              "571    False\n",
              "572    False\n",
              "573    False\n",
              "Length: 574, dtype: bool"
            ]
          },
          "metadata": {},
          "execution_count": 701
        }
      ],
      "source": [
        "df.duplicated()"
      ],
      "id": "3zJNO32DwsrW"
    },
    {
      "cell_type": "code",
      "execution_count": 702,
      "metadata": {
        "id": "FrtB08auhBY4",
        "colab": {
          "base_uri": "https://localhost:8080/"
        },
        "outputId": "c0d15288-90bf-42c2-f0e8-84ba031a77c5"
      },
      "outputs": [
        {
          "output_type": "execute_result",
          "data": {
            "text/plain": [
              "0"
            ]
          },
          "metadata": {},
          "execution_count": 702
        }
      ],
      "source": [
        "df.duplicated().sum()"
      ],
      "id": "FrtB08auhBY4"
    },
    {
      "cell_type": "code",
      "execution_count": 703,
      "metadata": {
        "id": "81d2f65f",
        "colab": {
          "base_uri": "https://localhost:8080/"
        },
        "outputId": "696abdae-2f20-4a63-d839-19fd7e2f96f4"
      },
      "outputs": [
        {
          "output_type": "stream",
          "name": "stderr",
          "text": [
            "<ipython-input-703-df92b92bd195>:1: FutureWarning: DataFrame.mean and DataFrame.median with numeric_only=None will include datetime64 and datetime64tz columns in a future version.\n",
            "  df.mean(axis = 0)\n"
          ]
        },
        {
          "output_type": "execute_result",
          "data": {
            "text/plain": [
              "Open          13.584548\n",
              "High          14.162170\n",
              "Low           12.998530\n",
              "Close         13.526147\n",
              "Volume    363937.486063\n",
              "dtype: float64"
            ]
          },
          "metadata": {},
          "execution_count": 703
        }
      ],
      "source": [
        "df.mean(axis = 0)"
      ],
      "id": "81d2f65f"
    },
    {
      "cell_type": "code",
      "execution_count": 704,
      "metadata": {
        "id": "9a5cf891",
        "colab": {
          "base_uri": "https://localhost:8080/"
        },
        "outputId": "8e2e1b81-a37b-4fcb-ed8a-dc6cf6f2b8ef"
      },
      "outputs": [
        {
          "output_type": "stream",
          "name": "stderr",
          "text": [
            "<ipython-input-704-fce084e23a98>:1: FutureWarning: DataFrame.mean and DataFrame.median with numeric_only=None will include datetime64 and datetime64tz columns in a future version.\n",
            "  df.median(axis = 0)\n"
          ]
        },
        {
          "output_type": "execute_result",
          "data": {
            "text/plain": [
              "Open          12.805\n",
              "High          13.385\n",
              "Low           12.355\n",
              "Close         12.795\n",
              "Volume    214488.500\n",
              "dtype: float64"
            ]
          },
          "metadata": {},
          "execution_count": 704
        }
      ],
      "source": [
        "df.median(axis = 0)"
      ],
      "id": "9a5cf891"
    },
    {
      "cell_type": "code",
      "execution_count": 705,
      "metadata": {
        "id": "c298ebf7",
        "colab": {
          "base_uri": "https://localhost:8080/"
        },
        "outputId": "6604eea8-64e8-4357-c2d4-8036a4d14081"
      },
      "outputs": [
        {
          "output_type": "execute_result",
          "data": {
            "text/plain": [
              "          Date   Open  High   Low  Close    Volume\n",
              "0   2015-08-05   6.20   6.4   6.2   9.45   54900.0\n",
              "1   2015-08-06   6.26   NaN  12.8    NaN  140600.0\n",
              "2   2015-08-07   9.60   NaN   NaN    NaN       NaN\n",
              "3   2015-08-10   9.95   NaN   NaN    NaN       NaN\n",
              "4   2015-08-11  14.50   NaN   NaN    NaN       NaN\n",
              "..         ...    ...   ...   ...    ...       ...\n",
              "569 2017-11-06    NaN   NaN   NaN    NaN       NaN\n",
              "570 2017-11-07    NaN   NaN   NaN    NaN       NaN\n",
              "571 2017-11-08    NaN   NaN   NaN    NaN       NaN\n",
              "572 2017-11-09    NaN   NaN   NaN    NaN       NaN\n",
              "573 2017-11-10    NaN   NaN   NaN    NaN       NaN\n",
              "\n",
              "[574 rows x 6 columns]"
            ],
            "text/html": [
              "\n",
              "  <div id=\"df-74faf73b-539e-49e7-83a6-a19349a38f41\">\n",
              "    <div class=\"colab-df-container\">\n",
              "      <div>\n",
              "<style scoped>\n",
              "    .dataframe tbody tr th:only-of-type {\n",
              "        vertical-align: middle;\n",
              "    }\n",
              "\n",
              "    .dataframe tbody tr th {\n",
              "        vertical-align: top;\n",
              "    }\n",
              "\n",
              "    .dataframe thead th {\n",
              "        text-align: right;\n",
              "    }\n",
              "</style>\n",
              "<table border=\"1\" class=\"dataframe\">\n",
              "  <thead>\n",
              "    <tr style=\"text-align: right;\">\n",
              "      <th></th>\n",
              "      <th>Date</th>\n",
              "      <th>Open</th>\n",
              "      <th>High</th>\n",
              "      <th>Low</th>\n",
              "      <th>Close</th>\n",
              "      <th>Volume</th>\n",
              "    </tr>\n",
              "  </thead>\n",
              "  <tbody>\n",
              "    <tr>\n",
              "      <th>0</th>\n",
              "      <td>2015-08-05</td>\n",
              "      <td>6.20</td>\n",
              "      <td>6.4</td>\n",
              "      <td>6.2</td>\n",
              "      <td>9.45</td>\n",
              "      <td>54900.0</td>\n",
              "    </tr>\n",
              "    <tr>\n",
              "      <th>1</th>\n",
              "      <td>2015-08-06</td>\n",
              "      <td>6.26</td>\n",
              "      <td>NaN</td>\n",
              "      <td>12.8</td>\n",
              "      <td>NaN</td>\n",
              "      <td>140600.0</td>\n",
              "    </tr>\n",
              "    <tr>\n",
              "      <th>2</th>\n",
              "      <td>2015-08-07</td>\n",
              "      <td>9.60</td>\n",
              "      <td>NaN</td>\n",
              "      <td>NaN</td>\n",
              "      <td>NaN</td>\n",
              "      <td>NaN</td>\n",
              "    </tr>\n",
              "    <tr>\n",
              "      <th>3</th>\n",
              "      <td>2015-08-10</td>\n",
              "      <td>9.95</td>\n",
              "      <td>NaN</td>\n",
              "      <td>NaN</td>\n",
              "      <td>NaN</td>\n",
              "      <td>NaN</td>\n",
              "    </tr>\n",
              "    <tr>\n",
              "      <th>4</th>\n",
              "      <td>2015-08-11</td>\n",
              "      <td>14.50</td>\n",
              "      <td>NaN</td>\n",
              "      <td>NaN</td>\n",
              "      <td>NaN</td>\n",
              "      <td>NaN</td>\n",
              "    </tr>\n",
              "    <tr>\n",
              "      <th>...</th>\n",
              "      <td>...</td>\n",
              "      <td>...</td>\n",
              "      <td>...</td>\n",
              "      <td>...</td>\n",
              "      <td>...</td>\n",
              "      <td>...</td>\n",
              "    </tr>\n",
              "    <tr>\n",
              "      <th>569</th>\n",
              "      <td>2017-11-06</td>\n",
              "      <td>NaN</td>\n",
              "      <td>NaN</td>\n",
              "      <td>NaN</td>\n",
              "      <td>NaN</td>\n",
              "      <td>NaN</td>\n",
              "    </tr>\n",
              "    <tr>\n",
              "      <th>570</th>\n",
              "      <td>2017-11-07</td>\n",
              "      <td>NaN</td>\n",
              "      <td>NaN</td>\n",
              "      <td>NaN</td>\n",
              "      <td>NaN</td>\n",
              "      <td>NaN</td>\n",
              "    </tr>\n",
              "    <tr>\n",
              "      <th>571</th>\n",
              "      <td>2017-11-08</td>\n",
              "      <td>NaN</td>\n",
              "      <td>NaN</td>\n",
              "      <td>NaN</td>\n",
              "      <td>NaN</td>\n",
              "      <td>NaN</td>\n",
              "    </tr>\n",
              "    <tr>\n",
              "      <th>572</th>\n",
              "      <td>2017-11-09</td>\n",
              "      <td>NaN</td>\n",
              "      <td>NaN</td>\n",
              "      <td>NaN</td>\n",
              "      <td>NaN</td>\n",
              "      <td>NaN</td>\n",
              "    </tr>\n",
              "    <tr>\n",
              "      <th>573</th>\n",
              "      <td>2017-11-10</td>\n",
              "      <td>NaN</td>\n",
              "      <td>NaN</td>\n",
              "      <td>NaN</td>\n",
              "      <td>NaN</td>\n",
              "      <td>NaN</td>\n",
              "    </tr>\n",
              "  </tbody>\n",
              "</table>\n",
              "<p>574 rows × 6 columns</p>\n",
              "</div>\n",
              "      <button class=\"colab-df-convert\" onclick=\"convertToInteractive('df-74faf73b-539e-49e7-83a6-a19349a38f41')\"\n",
              "              title=\"Convert this dataframe to an interactive table.\"\n",
              "              style=\"display:none;\">\n",
              "        \n",
              "  <svg xmlns=\"http://www.w3.org/2000/svg\" height=\"24px\"viewBox=\"0 0 24 24\"\n",
              "       width=\"24px\">\n",
              "    <path d=\"M0 0h24v24H0V0z\" fill=\"none\"/>\n",
              "    <path d=\"M18.56 5.44l.94 2.06.94-2.06 2.06-.94-2.06-.94-.94-2.06-.94 2.06-2.06.94zm-11 1L8.5 8.5l.94-2.06 2.06-.94-2.06-.94L8.5 2.5l-.94 2.06-2.06.94zm10 10l.94 2.06.94-2.06 2.06-.94-2.06-.94-.94-2.06-.94 2.06-2.06.94z\"/><path d=\"M17.41 7.96l-1.37-1.37c-.4-.4-.92-.59-1.43-.59-.52 0-1.04.2-1.43.59L10.3 9.45l-7.72 7.72c-.78.78-.78 2.05 0 2.83L4 21.41c.39.39.9.59 1.41.59.51 0 1.02-.2 1.41-.59l7.78-7.78 2.81-2.81c.8-.78.8-2.07 0-2.86zM5.41 20L4 18.59l7.72-7.72 1.47 1.35L5.41 20z\"/>\n",
              "  </svg>\n",
              "      </button>\n",
              "      \n",
              "  <style>\n",
              "    .colab-df-container {\n",
              "      display:flex;\n",
              "      flex-wrap:wrap;\n",
              "      gap: 12px;\n",
              "    }\n",
              "\n",
              "    .colab-df-convert {\n",
              "      background-color: #E8F0FE;\n",
              "      border: none;\n",
              "      border-radius: 50%;\n",
              "      cursor: pointer;\n",
              "      display: none;\n",
              "      fill: #1967D2;\n",
              "      height: 32px;\n",
              "      padding: 0 0 0 0;\n",
              "      width: 32px;\n",
              "    }\n",
              "\n",
              "    .colab-df-convert:hover {\n",
              "      background-color: #E2EBFA;\n",
              "      box-shadow: 0px 1px 2px rgba(60, 64, 67, 0.3), 0px 1px 3px 1px rgba(60, 64, 67, 0.15);\n",
              "      fill: #174EA6;\n",
              "    }\n",
              "\n",
              "    [theme=dark] .colab-df-convert {\n",
              "      background-color: #3B4455;\n",
              "      fill: #D2E3FC;\n",
              "    }\n",
              "\n",
              "    [theme=dark] .colab-df-convert:hover {\n",
              "      background-color: #434B5C;\n",
              "      box-shadow: 0px 1px 3px 1px rgba(0, 0, 0, 0.15);\n",
              "      filter: drop-shadow(0px 1px 2px rgba(0, 0, 0, 0.3));\n",
              "      fill: #FFFFFF;\n",
              "    }\n",
              "  </style>\n",
              "\n",
              "      <script>\n",
              "        const buttonEl =\n",
              "          document.querySelector('#df-74faf73b-539e-49e7-83a6-a19349a38f41 button.colab-df-convert');\n",
              "        buttonEl.style.display =\n",
              "          google.colab.kernel.accessAllowed ? 'block' : 'none';\n",
              "\n",
              "        async function convertToInteractive(key) {\n",
              "          const element = document.querySelector('#df-74faf73b-539e-49e7-83a6-a19349a38f41');\n",
              "          const dataTable =\n",
              "            await google.colab.kernel.invokeFunction('convertToInteractive',\n",
              "                                                     [key], {});\n",
              "          if (!dataTable) return;\n",
              "\n",
              "          const docLinkHtml = 'Like what you see? Visit the ' +\n",
              "            '<a target=\"_blank\" href=https://colab.research.google.com/notebooks/data_table.ipynb>data table notebook</a>'\n",
              "            + ' to learn more about interactive tables.';\n",
              "          element.innerHTML = '';\n",
              "          dataTable['output_type'] = 'display_data';\n",
              "          await google.colab.output.renderOutput(dataTable, element);\n",
              "          const docLink = document.createElement('div');\n",
              "          docLink.innerHTML = docLinkHtml;\n",
              "          element.appendChild(docLink);\n",
              "        }\n",
              "      </script>\n",
              "    </div>\n",
              "  </div>\n",
              "  "
            ]
          },
          "metadata": {},
          "execution_count": 705
        }
      ],
      "source": [
        "df.mode(axis = 0)"
      ],
      "id": "c298ebf7"
    },
    {
      "cell_type": "code",
      "execution_count": 706,
      "metadata": {
        "id": "mIgK4F9TxnNh",
        "colab": {
          "base_uri": "https://localhost:8080/"
        },
        "outputId": "ac2a8dcf-0ffd-4be7-c4f6-00eb2eea587c"
      },
      "outputs": [
        {
          "output_type": "execute_result",
          "data": {
            "text/plain": [
              "High   5.400   6.000   6.010   6.030   6.040   6.050   6.070   6.160   6.170   \\\n",
              "Open                                                                            \n",
              "4.75      NaN     NaN     1.0     NaN     NaN     NaN     NaN     NaN     NaN   \n",
              "5.40      1.0     NaN     NaN     NaN     NaN     NaN     NaN     NaN     NaN   \n",
              "5.79      NaN     NaN     NaN     1.0     NaN     NaN     NaN     NaN     NaN   \n",
              "5.80      NaN     NaN     NaN     NaN     NaN     NaN     NaN     1.0     NaN   \n",
              "5.82      NaN     NaN     NaN     NaN     NaN     NaN     NaN     NaN     NaN   \n",
              "...       ...     ...     ...     ...     ...     ...     ...     ...     ...   \n",
              "34.72     NaN     NaN     NaN     NaN     NaN     NaN     NaN     NaN     NaN   \n",
              "35.00     NaN     NaN     NaN     NaN     NaN     NaN     NaN     NaN     NaN   \n",
              "35.42     NaN     NaN     NaN     NaN     NaN     NaN     NaN     NaN     NaN   \n",
              "35.98     NaN     NaN     NaN     NaN     NaN     NaN     NaN     NaN     NaN   \n",
              "37.98     NaN     NaN     NaN     NaN     NaN     NaN     NaN     NaN     NaN   \n",
              "\n",
              "High   6.180   ...  31.690  32.000  33.060  34.720  36.000  36.300  37.688  \\\n",
              "Open           ...                                                           \n",
              "4.75      NaN  ...     NaN     NaN     NaN     NaN     NaN     NaN     NaN   \n",
              "5.40      NaN  ...     NaN     NaN     NaN     NaN     NaN     NaN     NaN   \n",
              "5.79      NaN  ...     NaN     NaN     NaN     NaN     NaN     NaN     NaN   \n",
              "5.80      NaN  ...     NaN     NaN     NaN     NaN     NaN     NaN     NaN   \n",
              "5.82      NaN  ...     NaN     NaN     NaN     NaN     NaN     NaN     NaN   \n",
              "...       ...  ...     ...     ...     ...     ...     ...     ...     ...   \n",
              "34.72     NaN  ...     NaN     NaN     NaN     1.0     NaN     NaN     NaN   \n",
              "35.00     NaN  ...     NaN     NaN     NaN     NaN     NaN     NaN     NaN   \n",
              "35.42     NaN  ...     NaN     NaN     NaN     NaN     NaN     1.0     NaN   \n",
              "35.98     NaN  ...     NaN     NaN     NaN     NaN     NaN     NaN     1.0   \n",
              "37.98     NaN  ...     NaN     NaN     NaN     NaN     NaN     NaN     NaN   \n",
              "\n",
              "High   39.500  42.850  43.000  \n",
              "Open                           \n",
              "4.75      NaN     NaN     NaN  \n",
              "5.40      NaN     NaN     NaN  \n",
              "5.79      NaN     NaN     NaN  \n",
              "5.80      NaN     NaN     NaN  \n",
              "5.82      NaN     NaN     NaN  \n",
              "...       ...     ...     ...  \n",
              "34.72     NaN     NaN     NaN  \n",
              "35.00     NaN     NaN     1.0  \n",
              "35.42     NaN     NaN     NaN  \n",
              "35.98     NaN     NaN     NaN  \n",
              "37.98     1.0     NaN     NaN  \n",
              "\n",
              "[459 rows x 496 columns]"
            ],
            "text/html": [
              "\n",
              "  <div id=\"df-58e7f747-53ae-4d78-bb9a-b6a74fc54e0d\">\n",
              "    <div class=\"colab-df-container\">\n",
              "      <div>\n",
              "<style scoped>\n",
              "    .dataframe tbody tr th:only-of-type {\n",
              "        vertical-align: middle;\n",
              "    }\n",
              "\n",
              "    .dataframe tbody tr th {\n",
              "        vertical-align: top;\n",
              "    }\n",
              "\n",
              "    .dataframe thead th {\n",
              "        text-align: right;\n",
              "    }\n",
              "</style>\n",
              "<table border=\"1\" class=\"dataframe\">\n",
              "  <thead>\n",
              "    <tr style=\"text-align: right;\">\n",
              "      <th>High</th>\n",
              "      <th>5.400</th>\n",
              "      <th>6.000</th>\n",
              "      <th>6.010</th>\n",
              "      <th>6.030</th>\n",
              "      <th>6.040</th>\n",
              "      <th>6.050</th>\n",
              "      <th>6.070</th>\n",
              "      <th>6.160</th>\n",
              "      <th>6.170</th>\n",
              "      <th>6.180</th>\n",
              "      <th>...</th>\n",
              "      <th>31.690</th>\n",
              "      <th>32.000</th>\n",
              "      <th>33.060</th>\n",
              "      <th>34.720</th>\n",
              "      <th>36.000</th>\n",
              "      <th>36.300</th>\n",
              "      <th>37.688</th>\n",
              "      <th>39.500</th>\n",
              "      <th>42.850</th>\n",
              "      <th>43.000</th>\n",
              "    </tr>\n",
              "    <tr>\n",
              "      <th>Open</th>\n",
              "      <th></th>\n",
              "      <th></th>\n",
              "      <th></th>\n",
              "      <th></th>\n",
              "      <th></th>\n",
              "      <th></th>\n",
              "      <th></th>\n",
              "      <th></th>\n",
              "      <th></th>\n",
              "      <th></th>\n",
              "      <th></th>\n",
              "      <th></th>\n",
              "      <th></th>\n",
              "      <th></th>\n",
              "      <th></th>\n",
              "      <th></th>\n",
              "      <th></th>\n",
              "      <th></th>\n",
              "      <th></th>\n",
              "      <th></th>\n",
              "      <th></th>\n",
              "    </tr>\n",
              "  </thead>\n",
              "  <tbody>\n",
              "    <tr>\n",
              "      <th>4.75</th>\n",
              "      <td>NaN</td>\n",
              "      <td>NaN</td>\n",
              "      <td>1.0</td>\n",
              "      <td>NaN</td>\n",
              "      <td>NaN</td>\n",
              "      <td>NaN</td>\n",
              "      <td>NaN</td>\n",
              "      <td>NaN</td>\n",
              "      <td>NaN</td>\n",
              "      <td>NaN</td>\n",
              "      <td>...</td>\n",
              "      <td>NaN</td>\n",
              "      <td>NaN</td>\n",
              "      <td>NaN</td>\n",
              "      <td>NaN</td>\n",
              "      <td>NaN</td>\n",
              "      <td>NaN</td>\n",
              "      <td>NaN</td>\n",
              "      <td>NaN</td>\n",
              "      <td>NaN</td>\n",
              "      <td>NaN</td>\n",
              "    </tr>\n",
              "    <tr>\n",
              "      <th>5.40</th>\n",
              "      <td>1.0</td>\n",
              "      <td>NaN</td>\n",
              "      <td>NaN</td>\n",
              "      <td>NaN</td>\n",
              "      <td>NaN</td>\n",
              "      <td>NaN</td>\n",
              "      <td>NaN</td>\n",
              "      <td>NaN</td>\n",
              "      <td>NaN</td>\n",
              "      <td>NaN</td>\n",
              "      <td>...</td>\n",
              "      <td>NaN</td>\n",
              "      <td>NaN</td>\n",
              "      <td>NaN</td>\n",
              "      <td>NaN</td>\n",
              "      <td>NaN</td>\n",
              "      <td>NaN</td>\n",
              "      <td>NaN</td>\n",
              "      <td>NaN</td>\n",
              "      <td>NaN</td>\n",
              "      <td>NaN</td>\n",
              "    </tr>\n",
              "    <tr>\n",
              "      <th>5.79</th>\n",
              "      <td>NaN</td>\n",
              "      <td>NaN</td>\n",
              "      <td>NaN</td>\n",
              "      <td>1.0</td>\n",
              "      <td>NaN</td>\n",
              "      <td>NaN</td>\n",
              "      <td>NaN</td>\n",
              "      <td>NaN</td>\n",
              "      <td>NaN</td>\n",
              "      <td>NaN</td>\n",
              "      <td>...</td>\n",
              "      <td>NaN</td>\n",
              "      <td>NaN</td>\n",
              "      <td>NaN</td>\n",
              "      <td>NaN</td>\n",
              "      <td>NaN</td>\n",
              "      <td>NaN</td>\n",
              "      <td>NaN</td>\n",
              "      <td>NaN</td>\n",
              "      <td>NaN</td>\n",
              "      <td>NaN</td>\n",
              "    </tr>\n",
              "    <tr>\n",
              "      <th>5.80</th>\n",
              "      <td>NaN</td>\n",
              "      <td>NaN</td>\n",
              "      <td>NaN</td>\n",
              "      <td>NaN</td>\n",
              "      <td>NaN</td>\n",
              "      <td>NaN</td>\n",
              "      <td>NaN</td>\n",
              "      <td>1.0</td>\n",
              "      <td>NaN</td>\n",
              "      <td>NaN</td>\n",
              "      <td>...</td>\n",
              "      <td>NaN</td>\n",
              "      <td>NaN</td>\n",
              "      <td>NaN</td>\n",
              "      <td>NaN</td>\n",
              "      <td>NaN</td>\n",
              "      <td>NaN</td>\n",
              "      <td>NaN</td>\n",
              "      <td>NaN</td>\n",
              "      <td>NaN</td>\n",
              "      <td>NaN</td>\n",
              "    </tr>\n",
              "    <tr>\n",
              "      <th>5.82</th>\n",
              "      <td>NaN</td>\n",
              "      <td>NaN</td>\n",
              "      <td>NaN</td>\n",
              "      <td>NaN</td>\n",
              "      <td>NaN</td>\n",
              "      <td>NaN</td>\n",
              "      <td>NaN</td>\n",
              "      <td>NaN</td>\n",
              "      <td>NaN</td>\n",
              "      <td>NaN</td>\n",
              "      <td>...</td>\n",
              "      <td>NaN</td>\n",
              "      <td>NaN</td>\n",
              "      <td>NaN</td>\n",
              "      <td>NaN</td>\n",
              "      <td>NaN</td>\n",
              "      <td>NaN</td>\n",
              "      <td>NaN</td>\n",
              "      <td>NaN</td>\n",
              "      <td>NaN</td>\n",
              "      <td>NaN</td>\n",
              "    </tr>\n",
              "    <tr>\n",
              "      <th>...</th>\n",
              "      <td>...</td>\n",
              "      <td>...</td>\n",
              "      <td>...</td>\n",
              "      <td>...</td>\n",
              "      <td>...</td>\n",
              "      <td>...</td>\n",
              "      <td>...</td>\n",
              "      <td>...</td>\n",
              "      <td>...</td>\n",
              "      <td>...</td>\n",
              "      <td>...</td>\n",
              "      <td>...</td>\n",
              "      <td>...</td>\n",
              "      <td>...</td>\n",
              "      <td>...</td>\n",
              "      <td>...</td>\n",
              "      <td>...</td>\n",
              "      <td>...</td>\n",
              "      <td>...</td>\n",
              "      <td>...</td>\n",
              "      <td>...</td>\n",
              "    </tr>\n",
              "    <tr>\n",
              "      <th>34.72</th>\n",
              "      <td>NaN</td>\n",
              "      <td>NaN</td>\n",
              "      <td>NaN</td>\n",
              "      <td>NaN</td>\n",
              "      <td>NaN</td>\n",
              "      <td>NaN</td>\n",
              "      <td>NaN</td>\n",
              "      <td>NaN</td>\n",
              "      <td>NaN</td>\n",
              "      <td>NaN</td>\n",
              "      <td>...</td>\n",
              "      <td>NaN</td>\n",
              "      <td>NaN</td>\n",
              "      <td>NaN</td>\n",
              "      <td>1.0</td>\n",
              "      <td>NaN</td>\n",
              "      <td>NaN</td>\n",
              "      <td>NaN</td>\n",
              "      <td>NaN</td>\n",
              "      <td>NaN</td>\n",
              "      <td>NaN</td>\n",
              "    </tr>\n",
              "    <tr>\n",
              "      <th>35.00</th>\n",
              "      <td>NaN</td>\n",
              "      <td>NaN</td>\n",
              "      <td>NaN</td>\n",
              "      <td>NaN</td>\n",
              "      <td>NaN</td>\n",
              "      <td>NaN</td>\n",
              "      <td>NaN</td>\n",
              "      <td>NaN</td>\n",
              "      <td>NaN</td>\n",
              "      <td>NaN</td>\n",
              "      <td>...</td>\n",
              "      <td>NaN</td>\n",
              "      <td>NaN</td>\n",
              "      <td>NaN</td>\n",
              "      <td>NaN</td>\n",
              "      <td>NaN</td>\n",
              "      <td>NaN</td>\n",
              "      <td>NaN</td>\n",
              "      <td>NaN</td>\n",
              "      <td>NaN</td>\n",
              "      <td>1.0</td>\n",
              "    </tr>\n",
              "    <tr>\n",
              "      <th>35.42</th>\n",
              "      <td>NaN</td>\n",
              "      <td>NaN</td>\n",
              "      <td>NaN</td>\n",
              "      <td>NaN</td>\n",
              "      <td>NaN</td>\n",
              "      <td>NaN</td>\n",
              "      <td>NaN</td>\n",
              "      <td>NaN</td>\n",
              "      <td>NaN</td>\n",
              "      <td>NaN</td>\n",
              "      <td>...</td>\n",
              "      <td>NaN</td>\n",
              "      <td>NaN</td>\n",
              "      <td>NaN</td>\n",
              "      <td>NaN</td>\n",
              "      <td>NaN</td>\n",
              "      <td>1.0</td>\n",
              "      <td>NaN</td>\n",
              "      <td>NaN</td>\n",
              "      <td>NaN</td>\n",
              "      <td>NaN</td>\n",
              "    </tr>\n",
              "    <tr>\n",
              "      <th>35.98</th>\n",
              "      <td>NaN</td>\n",
              "      <td>NaN</td>\n",
              "      <td>NaN</td>\n",
              "      <td>NaN</td>\n",
              "      <td>NaN</td>\n",
              "      <td>NaN</td>\n",
              "      <td>NaN</td>\n",
              "      <td>NaN</td>\n",
              "      <td>NaN</td>\n",
              "      <td>NaN</td>\n",
              "      <td>...</td>\n",
              "      <td>NaN</td>\n",
              "      <td>NaN</td>\n",
              "      <td>NaN</td>\n",
              "      <td>NaN</td>\n",
              "      <td>NaN</td>\n",
              "      <td>NaN</td>\n",
              "      <td>1.0</td>\n",
              "      <td>NaN</td>\n",
              "      <td>NaN</td>\n",
              "      <td>NaN</td>\n",
              "    </tr>\n",
              "    <tr>\n",
              "      <th>37.98</th>\n",
              "      <td>NaN</td>\n",
              "      <td>NaN</td>\n",
              "      <td>NaN</td>\n",
              "      <td>NaN</td>\n",
              "      <td>NaN</td>\n",
              "      <td>NaN</td>\n",
              "      <td>NaN</td>\n",
              "      <td>NaN</td>\n",
              "      <td>NaN</td>\n",
              "      <td>NaN</td>\n",
              "      <td>...</td>\n",
              "      <td>NaN</td>\n",
              "      <td>NaN</td>\n",
              "      <td>NaN</td>\n",
              "      <td>NaN</td>\n",
              "      <td>NaN</td>\n",
              "      <td>NaN</td>\n",
              "      <td>NaN</td>\n",
              "      <td>1.0</td>\n",
              "      <td>NaN</td>\n",
              "      <td>NaN</td>\n",
              "    </tr>\n",
              "  </tbody>\n",
              "</table>\n",
              "<p>459 rows × 496 columns</p>\n",
              "</div>\n",
              "      <button class=\"colab-df-convert\" onclick=\"convertToInteractive('df-58e7f747-53ae-4d78-bb9a-b6a74fc54e0d')\"\n",
              "              title=\"Convert this dataframe to an interactive table.\"\n",
              "              style=\"display:none;\">\n",
              "        \n",
              "  <svg xmlns=\"http://www.w3.org/2000/svg\" height=\"24px\"viewBox=\"0 0 24 24\"\n",
              "       width=\"24px\">\n",
              "    <path d=\"M0 0h24v24H0V0z\" fill=\"none\"/>\n",
              "    <path d=\"M18.56 5.44l.94 2.06.94-2.06 2.06-.94-2.06-.94-.94-2.06-.94 2.06-2.06.94zm-11 1L8.5 8.5l.94-2.06 2.06-.94-2.06-.94L8.5 2.5l-.94 2.06-2.06.94zm10 10l.94 2.06.94-2.06 2.06-.94-2.06-.94-.94-2.06-.94 2.06-2.06.94z\"/><path d=\"M17.41 7.96l-1.37-1.37c-.4-.4-.92-.59-1.43-.59-.52 0-1.04.2-1.43.59L10.3 9.45l-7.72 7.72c-.78.78-.78 2.05 0 2.83L4 21.41c.39.39.9.59 1.41.59.51 0 1.02-.2 1.41-.59l7.78-7.78 2.81-2.81c.8-.78.8-2.07 0-2.86zM5.41 20L4 18.59l7.72-7.72 1.47 1.35L5.41 20z\"/>\n",
              "  </svg>\n",
              "      </button>\n",
              "      \n",
              "  <style>\n",
              "    .colab-df-container {\n",
              "      display:flex;\n",
              "      flex-wrap:wrap;\n",
              "      gap: 12px;\n",
              "    }\n",
              "\n",
              "    .colab-df-convert {\n",
              "      background-color: #E8F0FE;\n",
              "      border: none;\n",
              "      border-radius: 50%;\n",
              "      cursor: pointer;\n",
              "      display: none;\n",
              "      fill: #1967D2;\n",
              "      height: 32px;\n",
              "      padding: 0 0 0 0;\n",
              "      width: 32px;\n",
              "    }\n",
              "\n",
              "    .colab-df-convert:hover {\n",
              "      background-color: #E2EBFA;\n",
              "      box-shadow: 0px 1px 2px rgba(60, 64, 67, 0.3), 0px 1px 3px 1px rgba(60, 64, 67, 0.15);\n",
              "      fill: #174EA6;\n",
              "    }\n",
              "\n",
              "    [theme=dark] .colab-df-convert {\n",
              "      background-color: #3B4455;\n",
              "      fill: #D2E3FC;\n",
              "    }\n",
              "\n",
              "    [theme=dark] .colab-df-convert:hover {\n",
              "      background-color: #434B5C;\n",
              "      box-shadow: 0px 1px 3px 1px rgba(0, 0, 0, 0.15);\n",
              "      filter: drop-shadow(0px 1px 2px rgba(0, 0, 0, 0.3));\n",
              "      fill: #FFFFFF;\n",
              "    }\n",
              "  </style>\n",
              "\n",
              "      <script>\n",
              "        const buttonEl =\n",
              "          document.querySelector('#df-58e7f747-53ae-4d78-bb9a-b6a74fc54e0d button.colab-df-convert');\n",
              "        buttonEl.style.display =\n",
              "          google.colab.kernel.accessAllowed ? 'block' : 'none';\n",
              "\n",
              "        async function convertToInteractive(key) {\n",
              "          const element = document.querySelector('#df-58e7f747-53ae-4d78-bb9a-b6a74fc54e0d');\n",
              "          const dataTable =\n",
              "            await google.colab.kernel.invokeFunction('convertToInteractive',\n",
              "                                                     [key], {});\n",
              "          if (!dataTable) return;\n",
              "\n",
              "          const docLinkHtml = 'Like what you see? Visit the ' +\n",
              "            '<a target=\"_blank\" href=https://colab.research.google.com/notebooks/data_table.ipynb>data table notebook</a>'\n",
              "            + ' to learn more about interactive tables.';\n",
              "          element.innerHTML = '';\n",
              "          dataTable['output_type'] = 'display_data';\n",
              "          await google.colab.output.renderOutput(dataTable, element);\n",
              "          const docLink = document.createElement('div');\n",
              "          docLink.innerHTML = docLinkHtml;\n",
              "          element.appendChild(docLink);\n",
              "        }\n",
              "      </script>\n",
              "    </div>\n",
              "  </div>\n",
              "  "
            ]
          },
          "metadata": {},
          "execution_count": 706
        }
      ],
      "source": [
        "df.groupby(['Open','High'])['Close'].count().unstack()"
      ],
      "id": "mIgK4F9TxnNh"
    },
    {
      "cell_type": "code",
      "execution_count": 707,
      "metadata": {
        "id": "VqtprRXoxJsW",
        "colab": {
          "base_uri": "https://localhost:8080/"
        },
        "outputId": "459df589-adf8-467c-cd15-6dcaaf8fb263"
      },
      "outputs": [
        {
          "output_type": "execute_result",
          "data": {
            "text/plain": [
              "          Date   Open     High      Low  Close    Volume\n",
              "97  2015-12-22  11.66  11.8790  11.1010  11.46     12654\n",
              "124 2016-02-02   6.31   6.4800   6.1735   6.29     16609\n",
              "127 2016-02-05   6.28   6.5599   6.1800   6.18     18832\n",
              "19  2015-09-01  27.12  28.9400  26.6200  28.75     19600\n",
              "113 2016-01-15   8.27   8.4400   7.7000   7.86     22392\n",
              "..         ...    ...      ...      ...    ...       ...\n",
              "510 2017-08-14   5.85   6.6900   5.4200   6.42   4253972\n",
              "507 2017-08-09   6.27   8.4299   6.2000   7.60   4309150\n",
              "152 2016-03-14  11.87  21.5626  11.8700  21.03   4681915\n",
              "505 2017-08-07   6.56   6.7700   5.9301   6.67   8998782\n",
              "542 2017-09-28  11.05  11.2800   9.3800   9.44  13632556\n",
              "\n",
              "[574 rows x 6 columns]"
            ],
            "text/html": [
              "\n",
              "  <div id=\"df-4b1d82f4-3819-46c8-a9a0-287590644d0e\">\n",
              "    <div class=\"colab-df-container\">\n",
              "      <div>\n",
              "<style scoped>\n",
              "    .dataframe tbody tr th:only-of-type {\n",
              "        vertical-align: middle;\n",
              "    }\n",
              "\n",
              "    .dataframe tbody tr th {\n",
              "        vertical-align: top;\n",
              "    }\n",
              "\n",
              "    .dataframe thead th {\n",
              "        text-align: right;\n",
              "    }\n",
              "</style>\n",
              "<table border=\"1\" class=\"dataframe\">\n",
              "  <thead>\n",
              "    <tr style=\"text-align: right;\">\n",
              "      <th></th>\n",
              "      <th>Date</th>\n",
              "      <th>Open</th>\n",
              "      <th>High</th>\n",
              "      <th>Low</th>\n",
              "      <th>Close</th>\n",
              "      <th>Volume</th>\n",
              "    </tr>\n",
              "  </thead>\n",
              "  <tbody>\n",
              "    <tr>\n",
              "      <th>97</th>\n",
              "      <td>2015-12-22</td>\n",
              "      <td>11.66</td>\n",
              "      <td>11.8790</td>\n",
              "      <td>11.1010</td>\n",
              "      <td>11.46</td>\n",
              "      <td>12654</td>\n",
              "    </tr>\n",
              "    <tr>\n",
              "      <th>124</th>\n",
              "      <td>2016-02-02</td>\n",
              "      <td>6.31</td>\n",
              "      <td>6.4800</td>\n",
              "      <td>6.1735</td>\n",
              "      <td>6.29</td>\n",
              "      <td>16609</td>\n",
              "    </tr>\n",
              "    <tr>\n",
              "      <th>127</th>\n",
              "      <td>2016-02-05</td>\n",
              "      <td>6.28</td>\n",
              "      <td>6.5599</td>\n",
              "      <td>6.1800</td>\n",
              "      <td>6.18</td>\n",
              "      <td>18832</td>\n",
              "    </tr>\n",
              "    <tr>\n",
              "      <th>19</th>\n",
              "      <td>2015-09-01</td>\n",
              "      <td>27.12</td>\n",
              "      <td>28.9400</td>\n",
              "      <td>26.6200</td>\n",
              "      <td>28.75</td>\n",
              "      <td>19600</td>\n",
              "    </tr>\n",
              "    <tr>\n",
              "      <th>113</th>\n",
              "      <td>2016-01-15</td>\n",
              "      <td>8.27</td>\n",
              "      <td>8.4400</td>\n",
              "      <td>7.7000</td>\n",
              "      <td>7.86</td>\n",
              "      <td>22392</td>\n",
              "    </tr>\n",
              "    <tr>\n",
              "      <th>...</th>\n",
              "      <td>...</td>\n",
              "      <td>...</td>\n",
              "      <td>...</td>\n",
              "      <td>...</td>\n",
              "      <td>...</td>\n",
              "      <td>...</td>\n",
              "    </tr>\n",
              "    <tr>\n",
              "      <th>510</th>\n",
              "      <td>2017-08-14</td>\n",
              "      <td>5.85</td>\n",
              "      <td>6.6900</td>\n",
              "      <td>5.4200</td>\n",
              "      <td>6.42</td>\n",
              "      <td>4253972</td>\n",
              "    </tr>\n",
              "    <tr>\n",
              "      <th>507</th>\n",
              "      <td>2017-08-09</td>\n",
              "      <td>6.27</td>\n",
              "      <td>8.4299</td>\n",
              "      <td>6.2000</td>\n",
              "      <td>7.60</td>\n",
              "      <td>4309150</td>\n",
              "    </tr>\n",
              "    <tr>\n",
              "      <th>152</th>\n",
              "      <td>2016-03-14</td>\n",
              "      <td>11.87</td>\n",
              "      <td>21.5626</td>\n",
              "      <td>11.8700</td>\n",
              "      <td>21.03</td>\n",
              "      <td>4681915</td>\n",
              "    </tr>\n",
              "    <tr>\n",
              "      <th>505</th>\n",
              "      <td>2017-08-07</td>\n",
              "      <td>6.56</td>\n",
              "      <td>6.7700</td>\n",
              "      <td>5.9301</td>\n",
              "      <td>6.67</td>\n",
              "      <td>8998782</td>\n",
              "    </tr>\n",
              "    <tr>\n",
              "      <th>542</th>\n",
              "      <td>2017-09-28</td>\n",
              "      <td>11.05</td>\n",
              "      <td>11.2800</td>\n",
              "      <td>9.3800</td>\n",
              "      <td>9.44</td>\n",
              "      <td>13632556</td>\n",
              "    </tr>\n",
              "  </tbody>\n",
              "</table>\n",
              "<p>574 rows × 6 columns</p>\n",
              "</div>\n",
              "      <button class=\"colab-df-convert\" onclick=\"convertToInteractive('df-4b1d82f4-3819-46c8-a9a0-287590644d0e')\"\n",
              "              title=\"Convert this dataframe to an interactive table.\"\n",
              "              style=\"display:none;\">\n",
              "        \n",
              "  <svg xmlns=\"http://www.w3.org/2000/svg\" height=\"24px\"viewBox=\"0 0 24 24\"\n",
              "       width=\"24px\">\n",
              "    <path d=\"M0 0h24v24H0V0z\" fill=\"none\"/>\n",
              "    <path d=\"M18.56 5.44l.94 2.06.94-2.06 2.06-.94-2.06-.94-.94-2.06-.94 2.06-2.06.94zm-11 1L8.5 8.5l.94-2.06 2.06-.94-2.06-.94L8.5 2.5l-.94 2.06-2.06.94zm10 10l.94 2.06.94-2.06 2.06-.94-2.06-.94-.94-2.06-.94 2.06-2.06.94z\"/><path d=\"M17.41 7.96l-1.37-1.37c-.4-.4-.92-.59-1.43-.59-.52 0-1.04.2-1.43.59L10.3 9.45l-7.72 7.72c-.78.78-.78 2.05 0 2.83L4 21.41c.39.39.9.59 1.41.59.51 0 1.02-.2 1.41-.59l7.78-7.78 2.81-2.81c.8-.78.8-2.07 0-2.86zM5.41 20L4 18.59l7.72-7.72 1.47 1.35L5.41 20z\"/>\n",
              "  </svg>\n",
              "      </button>\n",
              "      \n",
              "  <style>\n",
              "    .colab-df-container {\n",
              "      display:flex;\n",
              "      flex-wrap:wrap;\n",
              "      gap: 12px;\n",
              "    }\n",
              "\n",
              "    .colab-df-convert {\n",
              "      background-color: #E8F0FE;\n",
              "      border: none;\n",
              "      border-radius: 50%;\n",
              "      cursor: pointer;\n",
              "      display: none;\n",
              "      fill: #1967D2;\n",
              "      height: 32px;\n",
              "      padding: 0 0 0 0;\n",
              "      width: 32px;\n",
              "    }\n",
              "\n",
              "    .colab-df-convert:hover {\n",
              "      background-color: #E2EBFA;\n",
              "      box-shadow: 0px 1px 2px rgba(60, 64, 67, 0.3), 0px 1px 3px 1px rgba(60, 64, 67, 0.15);\n",
              "      fill: #174EA6;\n",
              "    }\n",
              "\n",
              "    [theme=dark] .colab-df-convert {\n",
              "      background-color: #3B4455;\n",
              "      fill: #D2E3FC;\n",
              "    }\n",
              "\n",
              "    [theme=dark] .colab-df-convert:hover {\n",
              "      background-color: #434B5C;\n",
              "      box-shadow: 0px 1px 3px 1px rgba(0, 0, 0, 0.15);\n",
              "      filter: drop-shadow(0px 1px 2px rgba(0, 0, 0, 0.3));\n",
              "      fill: #FFFFFF;\n",
              "    }\n",
              "  </style>\n",
              "\n",
              "      <script>\n",
              "        const buttonEl =\n",
              "          document.querySelector('#df-4b1d82f4-3819-46c8-a9a0-287590644d0e button.colab-df-convert');\n",
              "        buttonEl.style.display =\n",
              "          google.colab.kernel.accessAllowed ? 'block' : 'none';\n",
              "\n",
              "        async function convertToInteractive(key) {\n",
              "          const element = document.querySelector('#df-4b1d82f4-3819-46c8-a9a0-287590644d0e');\n",
              "          const dataTable =\n",
              "            await google.colab.kernel.invokeFunction('convertToInteractive',\n",
              "                                                     [key], {});\n",
              "          if (!dataTable) return;\n",
              "\n",
              "          const docLinkHtml = 'Like what you see? Visit the ' +\n",
              "            '<a target=\"_blank\" href=https://colab.research.google.com/notebooks/data_table.ipynb>data table notebook</a>'\n",
              "            + ' to learn more about interactive tables.';\n",
              "          element.innerHTML = '';\n",
              "          dataTable['output_type'] = 'display_data';\n",
              "          await google.colab.output.renderOutput(dataTable, element);\n",
              "          const docLink = document.createElement('div');\n",
              "          docLink.innerHTML = docLinkHtml;\n",
              "          element.appendChild(docLink);\n",
              "        }\n",
              "      </script>\n",
              "    </div>\n",
              "  </div>\n",
              "  "
            ]
          },
          "metadata": {},
          "execution_count": 707
        }
      ],
      "source": [
        "df.sort_values(by=['Volume'],ascending = True)"
      ],
      "id": "VqtprRXoxJsW"
    },
    {
      "cell_type": "code",
      "execution_count": 708,
      "metadata": {
        "id": "o7j8CFm8wU9i",
        "colab": {
          "base_uri": "https://localhost:8080/"
        },
        "outputId": "fa24b537-5bd0-4830-a384-3ae6dc246f2c"
      },
      "outputs": [
        {
          "output_type": "stream",
          "name": "stderr",
          "text": [
            "/usr/local/lib/python3.8/dist-packages/seaborn/distributions.py:2619: FutureWarning: `distplot` is a deprecated function and will be removed in a future version. Please adapt your code to use either `displot` (a figure-level function with similar flexibility) or `histplot` (an axes-level function for histograms).\n",
            "  warnings.warn(msg, FutureWarning)\n"
          ]
        },
        {
          "output_type": "execute_result",
          "data": {
            "text/plain": [
              "<matplotlib.axes._subplots.AxesSubplot at 0x7f9aae2c54c0>"
            ]
          },
          "metadata": {},
          "execution_count": 708
        },
        {
          "output_type": "display_data",
          "data": {
            "text/plain": [
              "<Figure size 432x288 with 1 Axes>"
            ],
            "image/png": "[encoded data removed]"
          },
          "metadata": {
            "needs_background": "light"
          }
        }
      ],
      "source": [
        "sns.distplot(df.Volume)"
      ],
      "id": "o7j8CFm8wU9i"
    },
    {
      "cell_type": "code",
      "execution_count": 709,
      "metadata": {
        "id": "kFQf-_zu-tFl",
        "colab": {
          "base_uri": "https://localhost:8080/"
        },
        "outputId": "7ab234ba-e100-4ce5-9cd3-59b1807e1c4c"
      },
      "outputs": [
        {
          "output_type": "stream",
          "name": "stderr",
          "text": [
            "<ipython-input-709-c789b15bf834>:1: FutureWarning: Dropping of nuisance columns in DataFrame reductions (with 'numeric_only=None') is deprecated; in a future version this will raise TypeError.  Select only valid columns before calling the reduction.\n",
            "  df.skew(axis = 0, skipna = True)\n"
          ]
        },
        {
          "output_type": "execute_result",
          "data": {
            "text/plain": [
              "Open       0.891791\n",
              "High       1.087728\n",
              "Low        0.760817\n",
              "Close      0.863232\n",
              "Volume    10.986774\n",
              "dtype: float64"
            ]
          },
          "metadata": {},
          "execution_count": 709
        }
      ],
      "source": [
        "df.skew(axis = 0, skipna = True)"
      ],
      "id": "kFQf-_zu-tFl"
    },
    {
      "cell_type": "code",
      "execution_count": 710,
      "metadata": {
        "id": "YADblRfb--E3",
        "colab": {
          "base_uri": "https://localhost:8080/"
        },
        "outputId": "1caef684-9dd4-41f9-a4f3-e465b939e71d"
      },
      "outputs": [
        {
          "output_type": "stream",
          "name": "stderr",
          "text": [
            "<ipython-input-710-b6a0fc7ed35a>:1: FutureWarning: Dropping of nuisance columns in DataFrame reductions (with 'numeric_only=None') is deprecated; in a future version this will raise TypeError.  Select only valid columns before calling the reduction.\n",
            "  df.kurtosis(skipna = True)\n"
          ]
        },
        {
          "output_type": "execute_result",
          "data": {
            "text/plain": [
              "Open        0.766037\n",
              "High        1.734913\n",
              "Low         0.145212\n",
              "Close       0.573069\n",
              "Volume    155.195548\n",
              "dtype: float64"
            ]
          },
          "metadata": {},
          "execution_count": 710
        }
      ],
      "source": [
        "df.kurtosis(skipna = True)"
      ],
      "id": "YADblRfb--E3"
    },
    {
      "cell_type": "code",
      "execution_count": 711,
      "metadata": {
        "id": "zn6IGFhF_Ark",
        "colab": {
          "base_uri": "https://localhost:8080/"
        },
        "outputId": "8d32bc45-ed91-41b7-f8f5-46176f1bf72b"
      },
      "outputs": [
        {
          "output_type": "stream",
          "name": "stderr",
          "text": [
            "<ipython-input-711-c7edf97eb14c>:1: FutureWarning: Dropping of nuisance columns in DataFrame reductions (with 'numeric_only=None') is deprecated; in a future version this will raise TypeError.  Select only valid columns before calling the reduction.\n",
            "  df.kurtosis()\n"
          ]
        },
        {
          "output_type": "execute_result",
          "data": {
            "text/plain": [
              "Open        0.766037\n",
              "High        1.734913\n",
              "Low         0.145212\n",
              "Close       0.573069\n",
              "Volume    155.195548\n",
              "dtype: float64"
            ]
          },
          "metadata": {},
          "execution_count": 711
        }
      ],
      "source": [
        "df.kurtosis()"
      ],
      "id": "zn6IGFhF_Ark"
    },
    {
      "cell_type": "markdown",
      "metadata": {
        "id": "OWx36U7ch90j"
      },
      "source": [
        "#DATA VISUALIZATION"
      ],
      "id": "OWx36U7ch90j"
    },
    {
      "cell_type": "code",
      "execution_count": null,
      "metadata": {
        "id": "77825e90"
      },
      "outputs": [],
      "source": [
        "corr=df.corr()\n",
        "sns.heatmap(corr,annot=True)"
      ],
      "id": "77825e90"
    },
    {
      "cell_type": "code",
      "execution_count": null,
      "metadata": {
        "id": "dp7yRspwyZdb"
      },
      "outputs": [],
      "source": [
        "sns.barplot(x='Date', y='Open',data=df, )\n",
        "plt.show()"
      ],
      "id": "dp7yRspwyZdb"
    },
    {
      "cell_type": "code",
      "execution_count": null,
      "metadata": {
        "id": "bLVUd6pbgQdd"
      },
      "outputs": [],
      "source": [
        "sns.barplot(x='Date', y='Close',data=df, )\n",
        "plt.show()"
      ],
      "id": "bLVUd6pbgQdd"
    },
    {
      "cell_type": "code",
      "execution_count": null,
      "metadata": {
        "id": "hlcXvP96gWND"
      },
      "outputs": [],
      "source": [
        "sns.barplot(x='Date', y='High',data=df, )\n",
        "plt.show()\n"
      ],
      "id": "hlcXvP96gWND"
    },
    {
      "cell_type": "code",
      "execution_count": null,
      "metadata": {
        "id": "rgEQRsr1gZNY"
      },
      "outputs": [],
      "source": [
        "sns.barplot(x='Date', y='Low',data=df, )\n",
        "plt.show()"
      ],
      "id": "rgEQRsr1gZNY"
    },
    {
      "cell_type": "code",
      "execution_count": null,
      "metadata": {
        "id": "fb7d8424"
      },
      "outputs": [],
      "source": [
        "sns.jointplot(x = 'High', y = 'Close', data = df, kind = 'hex', gridsize = 20)"
      ],
      "id": "fb7d8424"
    },
    {
      "cell_type": "code",
      "execution_count": null,
      "metadata": {
        "id": "126356d7"
      },
      "outputs": [],
      "source": [
        "sns.jointplot(x=\"Open\", y=\"Close\", data=df)"
      ],
      "id": "126356d7"
    },
    {
      "cell_type": "code",
      "execution_count": null,
      "metadata": {
        "id": "0b175254"
      },
      "outputs": [],
      "source": [
        "df['Close'].plot()"
      ],
      "id": "0b175254"
    },
    {
      "cell_type": "code",
      "execution_count": null,
      "metadata": {
        "id": "nW1K_mf8gwK4"
      },
      "outputs": [],
      "source": [
        "df['Open'].plot()"
      ],
      "id": "nW1K_mf8gwK4"
    },
    {
      "cell_type": "code",
      "execution_count": null,
      "metadata": {
        "id": "lJfBrlV2g0vl"
      },
      "outputs": [],
      "source": [
        "df['Low'].plot()"
      ],
      "id": "lJfBrlV2g0vl"
    },
    {
      "cell_type": "code",
      "execution_count": null,
      "metadata": {
        "id": "AQdveKsng5HM"
      },
      "outputs": [],
      "source": [
        "df['High'].plot()"
      ],
      "id": "AQdveKsng5HM"
    },
    {
      "cell_type": "code",
      "execution_count": null,
      "metadata": {
        "id": "jbX64v3HAEva"
      },
      "outputs": [],
      "source": [
        "for i in range(0,5):\n",
        "       sns.histplot(x = features[i],data = df)\n",
        "       plt.ylabel(\" number of day\")\n",
        "       plt.show()"
      ],
      "id": "jbX64v3HAEva"
    },
    {
      "cell_type": "code",
      "execution_count": null,
      "metadata": {
        "id": "ce1336d0"
      },
      "outputs": [],
      "source": [
        "for i in range(0,5):\n",
        "       sns.boxplot(x = features[i],data = df)\n",
        "       plt.show()"
      ],
      "id": "ce1336d0"
    },
    {
      "cell_type": "code",
      "execution_count": null,
      "metadata": {
        "id": "2c68810f"
      },
      "outputs": [],
      "source": [
        "sns.boxplot(x=\"High\",data=df)"
      ],
      "id": "2c68810f"
    },
    {
      "cell_type": "code",
      "execution_count": null,
      "metadata": {
        "id": "743303ff"
      },
      "outputs": [],
      "source": [
        "sns.pairplot(df,corner=True)"
      ],
      "id": "743303ff"
    },
    {
      "cell_type": "markdown",
      "metadata": {
        "id": "OBCxCJTnjHA-"
      },
      "source": [
        "#FEATURE ENGINEERING"
      ],
      "id": "OBCxCJTnjHA-"
    },
    {
      "cell_type": "code",
      "execution_count": null,
      "metadata": {
        "id": "dGQR5nfahW-n"
      },
      "outputs": [],
      "source": [
        "for col in features:\n",
        "  Q1 = df[col].quantile(0.25)\n",
        "  Q3 = df[col].quantile(0.75)\n",
        "  IQR = Q3 - Q1\n",
        "  lower_limit = Q1 - 1.5 * IQR\n",
        "  upper_limit = Q3 + 1.5 * IQR\n",
        "  df=df[(df[col] > lower_limit) & (df[col] < upper_limit)]\n",
        "#after removing outliers\n",
        "df"
      ],
      "id": "dGQR5nfahW-n"
    },
    {
      "cell_type": "code",
      "execution_count": null,
      "metadata": {
        "id": "VTGPcOyUih2C"
      },
      "outputs": [],
      "source": [
        "for i in range(0,4):\n",
        "       sns.boxplot(x = features[i],data = df)\n",
        "       plt.ylabel(features[i])\n",
        "       plt.show()"
      ],
      "id": "VTGPcOyUih2C"
    },
    {
      "cell_type": "code",
      "execution_count": null,
      "metadata": {
        "id": "hNhZkz3BzeY6"
      },
      "outputs": [],
      "source": [
        "df = df.fillna({\n",
        "    \"Open\": df[\"Open\"].mean(),\n",
        "    \"Close\":df[\"Close\"].mean(),\n",
        "    \"Low\":df[\"Low\"].mean(),\n",
        "    \"High\":df[\"High\"].mean(),\n",
        "})\n",
        "\n",
        "df"
      ],
      "id": "hNhZkz3BzeY6"
    },
    {
      "cell_type": "code",
      "execution_count": null,
      "metadata": {
        "id": "5in4oz4v0H1_"
      },
      "outputs": [],
      "source": [
        "df.describe()\n",
        "df"
      ],
      "id": "5in4oz4v0H1_"
    },
    {
      "cell_type": "code",
      "execution_count": null,
      "metadata": {
        "id": "eb10c524"
      },
      "outputs": [],
      "source": [
        "#/*\n",
        "#splitted = df['Date'].str.split('-', expand=True)\n",
        "#df['day'] = splitted[2].astype('int')\n",
        "#df['month'] = splitted[1].astype('int')\n",
        "#df['year'] = splitted[0].astype('int')\n",
        "#df"
      ],
      "id": "eb10c524"
    },
    {
      "cell_type": "code",
      "execution_count": null,
      "metadata": {
        "id": "c61d0787"
      },
      "outputs": [],
      "source": [
        "#encoding\n",
        "#df['open-close']  = df['Open'] - df['Close']\n",
        "#df['low-high']  = df['Low'] - df['High']\n",
        "#df['target'] = np.where(df['Close'].shift(-1) > df['Close'], 1, 0)"
      ],
      "id": "c61d0787"
    },
    {
      "cell_type": "code",
      "execution_count": null,
      "metadata": {
        "id": "26046a76"
      },
      "outputs": [],
      "source": [
        "#plt.pie(df['target'].value_counts().values,\n",
        "#        labels=[0, 1], autopct='%1.1f%%')\n",
        "#plt.show()"
      ],
      "id": "26046a76"
    },
    {
      "cell_type": "code",
      "execution_count": null,
      "metadata": {
        "id": "c348b789"
      },
      "outputs": [],
      "source": [
        "plt.figure(figsize=(10, 10))\n",
        "sns.heatmap(df.corr() > 0.9, annot=True, cbar=False)\n",
        "plt.show()"
      ],
      "id": "c348b789"
    },
    {
      "cell_type": "code",
      "execution_count": null,
      "metadata": {
        "id": "bb8f824f"
      },
      "outputs": [],
      "source": [
        "#Transform\n",
        "sns.displot(df,x='Close',bins=50)"
      ],
      "id": "bb8f824f"
    },
    {
      "cell_type": "code",
      "execution_count": null,
      "metadata": {
        "id": "7b3374f4"
      },
      "outputs": [],
      "source": [
        "df['Close'].skew()"
      ],
      "id": "7b3374f4"
    },
    {
      "cell_type": "code",
      "execution_count": null,
      "metadata": {
        "id": "2990cd76"
      },
      "outputs": [],
      "source": [
        "df"
      ],
      "id": "2990cd76"
    },
    {
      "cell_type": "code",
      "execution_count": null,
      "metadata": {
        "id": "7f1648af"
      },
      "outputs": [],
      "source": [
        "#scaling\n",
        "from sklearn.preprocessing import MinMaxScaler\n",
        "scaler = MinMaxScaler()\n",
        "feature_transform = scaler.fit_transform(df[features])\n",
        "feature_transform= pd.DataFrame(columns=features, data=feature_transform, index=df.index)\n",
        "feature_transform.dropna(axis=0,inplace=True)\n",
        "feature_transform"
      ],
      "id": "7f1648af"
    },
    {
      "cell_type": "code",
      "execution_count": null,
      "metadata": {
        "id": "t6kbf7cV0pLj"
      },
      "outputs": [],
      "source": [
        "feature_transform"
      ],
      "id": "t6kbf7cV0pLj"
    },
    {
      "cell_type": "markdown",
      "metadata": {
        "id": "9O3jiv-pjXxq"
      },
      "source": [
        "#1/2 BASE MODEL"
      ],
      "id": "9O3jiv-pjXxq"
    },
    {
      "cell_type": "code",
      "execution_count": null,
      "metadata": {
        "id": "f75969ef"
      },
      "outputs": [],
      "source": [
        "X=df['Open']\n",
        "y=df['High']\n",
        "from sklearn.model_selection import train_test_split\n",
        "X_train,X_test,y_train,y_test=train_test_split(X,y,test_size=0.2,random_state=101)\n",
        "X_train, X_test = X_train.values, X_test.values\n",
        "X_train= X_train.reshape(-1, 1)\n",
        "X_test = X_test.reshape(-1, 1)\n",
        "from sklearn.linear_model import LinearRegression\n",
        "lm=LinearRegression()\n",
        "lm.fit(X_train,y_train)\n",
        "print(\"Coefficients: \",lm.coef_)\n",
        "predictions=lm.predict(X_test)\n",
        "plt.scatter(y_test,predictions)\n",
        "plt.xlabel('Y Test')\n",
        "plt.ylabel('Predicted Y')"
      ],
      "id": "f75969ef"
    },
    {
      "cell_type": "code",
      "execution_count": null,
      "metadata": {
        "id": "b893e946"
      },
      "outputs": [],
      "source": [
        "from sklearn import metrics\n",
        "print('MAE:', metrics.mean_absolute_error(y_test, predictions))\n",
        "print('MSE:', metrics.mean_squared_error(y_test, predictions))\n",
        "print('RMSE:', np.sqrt(metrics.mean_squared_error(y_test, predictions)))"
      ],
      "id": "b893e946"
    },
    {
      "cell_type": "code",
      "execution_count": null,
      "metadata": {
        "id": "0WTC3QH_Umx6"
      },
      "outputs": [],
      "source": [
        "sns.distplot((y_test-predictions),bins=50)"
      ],
      "id": "0WTC3QH_Umx6"
    },
    {
      "cell_type": "code",
      "execution_count": null,
      "metadata": {
        "id": "4326bb56"
      },
      "outputs": [],
      "source": [
        "y = df['Close']\n",
        "X = df[['Open', 'High', 'Low', 'Volume']]\n",
        "X_train, X_test, y_train, y_test = train_test_split(X, y, test_size=0.3, random_state=101)\n",
        "lm.fit(X_train,y_train)\n",
        "print('Coefficients: \\n', lm.coef_)\n",
        "predictions = lm.predict(X_test)\n",
        "plt.scatter(y_test,predictions)\n",
        "plt.xlabel('Y Test')\n",
        "plt.ylabel('Predicted Y')"
      ],
      "id": "4326bb56"
    },
    {
      "cell_type": "code",
      "execution_count": null,
      "metadata": {
        "id": "3747155b"
      },
      "outputs": [],
      "source": [
        "print('MAE:', metrics.mean_absolute_error(y_test, predictions))\n",
        "print('MSE:', metrics.mean_squared_error(y_test, predictions))\n",
        "print('RMSE:', np.sqrt(metrics.mean_squared_error(y_test, predictions)))"
      ],
      "id": "3747155b"
    },
    {
      "cell_type": "code",
      "execution_count": null,
      "metadata": {
        "id": "2b11bf7f"
      },
      "outputs": [],
      "source": [
        "sns.distplot((y_test-predictions),bins=50)"
      ],
      "id": "2b11bf7f"
    },
    {
      "cell_type": "code",
      "execution_count": null,
      "metadata": {
        "id": "oUlnPzqjSX_W"
      },
      "outputs": [],
      "source": [
        "y_test.mean()"
      ],
      "id": "oUlnPzqjSX_W"
    },
    {
      "cell_type": "code",
      "execution_count": null,
      "metadata": {
        "id": "A2R8ftCjSjAx"
      },
      "outputs": [],
      "source": [
        "predictions.mean()"
      ],
      "id": "A2R8ftCjSjAx"
    },
    {
      "cell_type": "code",
      "execution_count": null,
      "metadata": {
        "id": "7f4e6411"
      },
      "outputs": [],
      "source": [
        "from sklearn.linear_model import Ridge\n",
        "from sklearn.model_selection import GridSearchCV\n",
        "ridge=Ridge()\n",
        "parameters={'alpha':[1e-15,1e-10,1e-8,1e-3,1e-2,1,5,10,20,30,35,40,45,50,55,100]}\n",
        "ridge_regressor=GridSearchCV(ridge,parameters,scoring='neg_mean_squared_error',cv=5)\n",
        "ridge_regressor.fit(X,y)\n",
        "print(ridge_regressor.best_params_)\n",
        "print(ridge_regressor.best_score_)\n",
        "X_train, X_test, y_train, y_test = train_test_split(X, y, test_size=0.3, random_state=0)\n",
        "prediction_ridge=ridge_regressor.predict(X_test)\n",
        "sns.distplot(y_test-prediction_ridge)"
      ],
      "id": "7f4e6411"
    },
    {
      "cell_type": "code",
      "execution_count": null,
      "metadata": {
        "id": "_CszSmJszomm"
      },
      "outputs": [],
      "source": [
        "from sklearn.linear_model import Lasso\n",
        "from sklearn.model_selection import GridSearchCV\n",
        "lasso=Lasso()\n",
        "parameters={'alpha':[1e-15,1e-10,1e-8,1e-3,1e-2,1,5,10,20,30,35,40,45,50,55,100]}\n",
        "lasso_regressor=GridSearchCV(lasso,parameters,scoring='neg_mean_squared_error',cv=5)\n",
        "lasso_regressor.fit(X,y)\n",
        "print(lasso_regressor.best_params_)\n",
        "print(lasso_regressor.best_score_)\n",
        "X_train, X_test, y_train, y_test = train_test_split(X, y, test_size=0.3, random_state=0)\n",
        "prediction_ridge=ridge_regressor.predict(X_test)\n",
        "sns.distplot(y_test-prediction_ridge)"
      ],
      "id": "_CszSmJszomm"
    },
    {
      "cell_type": "code",
      "execution_count": null,
      "metadata": {
        "id": "qIrViAM0Z-vc"
      },
      "outputs": [],
      "source": [
        "df.drop(['Date'],axis=1,inplace=True)\n",
        "df"
      ],
      "id": "qIrViAM0Z-vc"
    },
    {
      "cell_type": "markdown",
      "source": [
        "##Review 2"
      ],
      "metadata": {
        "id": "YHx8QUZVz9am"
      },
      "id": "YHx8QUZVz9am"
    },
    {
      "cell_type": "code",
      "execution_count": null,
      "metadata": {
        "id": "Z1TauDfPZb9L"
      },
      "outputs": [],
      "source": [
        "ans=[]\n",
        "for i in range(530):\n",
        "    if(df.iloc[i,3]>=df.iloc[i,0]):\n",
        "        ans.append(1)\n",
        "    else:\n",
        "        ans.append(0)\n",
        "df[\"increase value\"]=ans\n"
      ],
      "id": "Z1TauDfPZb9L"
    },
    {
      "cell_type": "code",
      "source": [
        "df"
      ],
      "metadata": {
        "id": "Ya5yVban5kSz"
      },
      "id": "Ya5yVban5kSz",
      "execution_count": null,
      "outputs": []
    },
    {
      "cell_type": "code",
      "execution_count": null,
      "metadata": {
        "id": "YKvqGMS7Zfra"
      },
      "outputs": [],
      "source": [
        "from sklearn.model_selection import train_test_split\n",
        "\n",
        "x = df.drop(['increase value'], axis=1)\n",
        "y = df['increase value']\n",
        "\n",
        "x_train,x_test,y_train,y_test = train_test_split(x,y,test_size=0.2)"
      ],
      "id": "YKvqGMS7Zfra"
    },
    {
      "cell_type": "markdown",
      "metadata": {
        "id": "U2v4y5PcWCLy"
      },
      "source": [
        "##Decision tree"
      ],
      "id": "U2v4y5PcWCLy"
    },
    {
      "cell_type": "code",
      "execution_count": null,
      "metadata": {
        "id": "qKFEunODTrqk"
      },
      "outputs": [],
      "source": [
        "print(x_train.shape,y_train.shape)"
      ],
      "id": "qKFEunODTrqk"
    },
    {
      "cell_type": "code",
      "execution_count": null,
      "metadata": {
        "id": "lnEGXqCkWArt"
      },
      "outputs": [],
      "source": [
        "from sklearn.tree import DecisionTreeClassifier\n",
        "model = DecisionTreeClassifier()\n",
        "model.fit(x_train,y_train)\n",
        "y_pred1 = model.predict(x_test)\n",
        "print(y_pred1)"
      ],
      "id": "lnEGXqCkWArt"
    },
    {
      "cell_type": "code",
      "source": [
        "result = pd.DataFrame({'actual' : y_test ,'predicted' : y_pred1})\n",
        "result"
      ],
      "metadata": {
        "id": "ZH3MQXx3_yYz"
      },
      "id": "ZH3MQXx3_yYz",
      "execution_count": null,
      "outputs": []
    },
    {
      "cell_type": "code",
      "source": [
        "from sklearn.metrics import confusion_matrix\n",
        "cf = confusion_matrix(y_test, y_pred1)\n",
        "plt.figure()\n",
        "sns.heatmap(cf, annot=True)\n",
        "plt.xlabel('Prediction')\n",
        "plt.ylabel('Target')\n",
        "plt.title('Confusion Matrix')"
      ],
      "metadata": {
        "id": "6K7QOQrJ6sTW"
      },
      "id": "6K7QOQrJ6sTW",
      "execution_count": null,
      "outputs": []
    },
    {
      "cell_type": "code",
      "source": [
        "from sklearn.tree import plot_tree\n",
        "plt.figure(figsize=(30,50))\n",
        "plot_tree(model,class_names=['0','1'], feature_names=x.columns,filled=True,fontsize=15)"
      ],
      "metadata": {
        "id": "tt9x3fQvt0pR"
      },
      "id": "tt9x3fQvt0pR",
      "execution_count": null,
      "outputs": []
    },
    {
      "cell_type": "code",
      "source": [
        "from sklearn.metrics import accuracy_score\n",
        "print(\"Accuracy of Decision tree:\",accuracy_score(y_test,y_pred1))"
      ],
      "metadata": {
        "id": "WIkXECv7G1-q"
      },
      "id": "WIkXECv7G1-q",
      "execution_count": null,
      "outputs": []
    },
    {
      "cell_type": "code",
      "source": [
        "from sklearn.metrics import classification_report\n",
        "print(\"Decision tree:\",classification_report(y_test, y_pred1))"
      ],
      "metadata": {
        "id": "yDPdV1uBG9a0"
      },
      "id": "yDPdV1uBG9a0",
      "execution_count": null,
      "outputs": []
    },
    {
      "cell_type": "markdown",
      "metadata": {
        "id": "7SUPXUzZWDxO"
      },
      "source": [
        "##Random forest"
      ],
      "id": "7SUPXUzZWDxO"
    },
    {
      "cell_type": "code",
      "execution_count": null,
      "metadata": {
        "id": "MHj9wFMXWHWy"
      },
      "outputs": [],
      "source": [
        "from sklearn.ensemble import RandomForestClassifier\n",
        "rf = RandomForestClassifier()\n",
        "rf.fit(x_train, y_train)\n",
        "y_pred2 = rf.predict(x_test)\n",
        "y_pred2"
      ],
      "id": "MHj9wFMXWHWy"
    },
    {
      "cell_type": "code",
      "source": [
        "result = pd.DataFrame({'actual' : y_test ,'predicted' : y_pred2})\n",
        "result"
      ],
      "metadata": {
        "id": "JLohazFrAfhZ"
      },
      "id": "JLohazFrAfhZ",
      "execution_count": null,
      "outputs": []
    },
    {
      "cell_type": "code",
      "source": [
        "from sklearn.metrics import confusion_matrix\n",
        "cf = confusion_matrix(y_test, y_pred2)\n",
        "plt.figure()\n",
        "sns.heatmap(cf, annot=True)\n",
        "plt.xlabel('Prediction')\n",
        "plt.ylabel('Target')\n",
        "plt.title('Confusion Matrix')"
      ],
      "metadata": {
        "id": "-NDGemoY6nIx"
      },
      "id": "-NDGemoY6nIx",
      "execution_count": null,
      "outputs": []
    },
    {
      "cell_type": "code",
      "source": [
        "plt.figure(figsize=(20, 10))\n",
        "plot_tree(rf.estimators_[0], filled=True, feature_names=['f' + str(i) for i in range(1, 11)], class_names=['0', '1'])\n",
        "plt.show()"
      ],
      "metadata": {
        "id": "80P5Xsy4PXfM"
      },
      "id": "80P5Xsy4PXfM",
      "execution_count": null,
      "outputs": []
    },
    {
      "cell_type": "code",
      "source": [
        "print(\"Accuracy of random forest:\",accuracy_score(y_test,y_pred2))"
      ],
      "metadata": {
        "id": "jnInS60fHBjv"
      },
      "id": "jnInS60fHBjv",
      "execution_count": null,
      "outputs": []
    },
    {
      "cell_type": "code",
      "source": [
        "print(\"random forest:\",classification_report(y_test, y_pred2))"
      ],
      "metadata": {
        "id": "ZmUKv4kYHNyY"
      },
      "id": "ZmUKv4kYHNyY",
      "execution_count": null,
      "outputs": []
    },
    {
      "cell_type": "markdown",
      "metadata": {
        "id": "tDVkeUAWWIAP"
      },
      "source": [
        "##KNN"
      ],
      "id": "tDVkeUAWWIAP"
    },
    {
      "cell_type": "code",
      "execution_count": null,
      "metadata": {
        "id": "ePiKoPRtWKxS"
      },
      "outputs": [],
      "source": [
        "from sklearn.neighbors import KNeighborsClassifier\n",
        "knn = KNeighborsClassifier(n_neighbors=2)\n",
        "knn.fit(x_train, y_train)\n",
        "y_pred3= knn.predict(x_test)\n",
        "y_pred3"
      ],
      "id": "ePiKoPRtWKxS"
    },
    {
      "cell_type": "code",
      "source": [
        "result = pd.DataFrame({'actual' : y_test ,'predicted' : y_pred3})\n",
        "result"
      ],
      "metadata": {
        "id": "aMq7PFK2AjPG"
      },
      "id": "aMq7PFK2AjPG",
      "execution_count": null,
      "outputs": []
    },
    {
      "cell_type": "code",
      "source": [
        "from sklearn.metrics import confusion_matrix\n",
        "cf = confusion_matrix(y_test, y_pred3)\n",
        "plt.figure()\n",
        "sns.heatmap(cf, annot=True)\n",
        "plt.xlabel('Prediction')\n",
        "plt.ylabel('Target')\n",
        "plt.title('Confusion Matrix')"
      ],
      "metadata": {
        "id": "6rWoekPgQPJ8"
      },
      "id": "6rWoekPgQPJ8",
      "execution_count": null,
      "outputs": []
    },
    {
      "cell_type": "code",
      "source": [
        "plt.scatter(x_test['Close'], y_pred3)\n",
        "plt.show()"
      ],
      "metadata": {
        "id": "q2XdnMWb21Lz"
      },
      "id": "q2XdnMWb21Lz",
      "execution_count": null,
      "outputs": []
    },
    {
      "cell_type": "code",
      "source": [
        "plt.scatter(x_test['Open'], y_pred3)\n",
        "plt.show()"
      ],
      "metadata": {
        "id": "iBv0HfIb4HHh"
      },
      "id": "iBv0HfIb4HHh",
      "execution_count": null,
      "outputs": []
    },
    {
      "cell_type": "code",
      "source": [
        "plt.scatter(x_test['Low'], y_pred3)\n",
        "plt.show()"
      ],
      "metadata": {
        "id": "h5rOuQS3HwW8"
      },
      "id": "h5rOuQS3HwW8",
      "execution_count": null,
      "outputs": []
    },
    {
      "cell_type": "code",
      "source": [
        "plt.scatter(x_test['High'], y_pred3)\n",
        "plt.show()"
      ],
      "metadata": {
        "id": "7W4BslRuHwaY"
      },
      "id": "7W4BslRuHwaY",
      "execution_count": null,
      "outputs": []
    },
    {
      "cell_type": "code",
      "source": [
        "print(\"Accuracy of KNN:\",accuracy_score(y_test,y_pred3))"
      ],
      "metadata": {
        "id": "Z1nuce7hHwrM"
      },
      "id": "Z1nuce7hHwrM",
      "execution_count": null,
      "outputs": []
    },
    {
      "cell_type": "code",
      "source": [
        "print(\"KNN:\",classification_report(y_test, y_pred3))"
      ],
      "metadata": {
        "id": "u7gZfE1rHwuX"
      },
      "id": "u7gZfE1rHwuX",
      "execution_count": null,
      "outputs": []
    },
    {
      "cell_type": "markdown",
      "metadata": {
        "id": "pW4vEWV4WLpi"
      },
      "source": [
        "##Naive Bayes"
      ],
      "id": "pW4vEWV4WLpi"
    },
    {
      "cell_type": "code",
      "execution_count": null,
      "metadata": {
        "id": "94XuSxw_WquK"
      },
      "outputs": [],
      "source": [
        "from sklearn.naive_bayes import GaussianNB\n",
        "nb=GaussianNB()\n",
        "nb.fit(x_train,y_train)\n",
        "y_pred4=nb.predict(x_test)\n",
        "y_pred4"
      ],
      "id": "94XuSxw_WquK"
    },
    {
      "cell_type": "code",
      "source": [
        "result = pd.DataFrame({'actual' : y_test ,'predicted' : y_pred4})\n",
        "result"
      ],
      "metadata": {
        "id": "6A_8jIPHAn4j"
      },
      "id": "6A_8jIPHAn4j",
      "execution_count": null,
      "outputs": []
    },
    {
      "cell_type": "code",
      "source": [
        "from sklearn.metrics import confusion_matrix\n",
        "cf = confusion_matrix(y_test, y_pred4)\n",
        "plt.figure()\n",
        "sns.heatmap(cf, annot=True)\n",
        "plt.xlabel('Prediction')\n",
        "plt.ylabel('Target')\n",
        "plt.title('Confusion Matrix')"
      ],
      "metadata": {
        "id": "-88TL2PB6VFM"
      },
      "id": "-88TL2PB6VFM",
      "execution_count": null,
      "outputs": []
    },
    {
      "cell_type": "code",
      "source": [
        "plt.scatter(x_test['Open'], y_pred5)\n",
        "plt.show()"
      ],
      "metadata": {
        "id": "p01yFQjY60ge"
      },
      "id": "p01yFQjY60ge",
      "execution_count": null,
      "outputs": []
    },
    {
      "cell_type": "code",
      "source": [
        "plt.scatter(x_test['Close'], y_pred5)\n",
        "plt.show()"
      ],
      "metadata": {
        "id": "ShbYBKed665y"
      },
      "id": "ShbYBKed665y",
      "execution_count": null,
      "outputs": []
    },
    {
      "cell_type": "code",
      "source": [
        "plt.scatter(x_test['Low'], y_pred5)\n",
        "plt.show()"
      ],
      "metadata": {
        "id": "dchfRW8qIHiq"
      },
      "id": "dchfRW8qIHiq",
      "execution_count": null,
      "outputs": []
    },
    {
      "cell_type": "code",
      "source": [
        "plt.scatter(x_test['High'], y_pred5)\n",
        "plt.show()"
      ],
      "metadata": {
        "id": "Efd4-32JIHmI"
      },
      "id": "Efd4-32JIHmI",
      "execution_count": null,
      "outputs": []
    },
    {
      "cell_type": "code",
      "source": [
        "print(\"Accuracy of Naive Bayes:\",accuracy_score(y_test,y_pred4))"
      ],
      "metadata": {
        "id": "s-2CUM3KIH1B"
      },
      "id": "s-2CUM3KIH1B",
      "execution_count": null,
      "outputs": []
    },
    {
      "cell_type": "code",
      "source": [
        "print(\"KNN:\",classification_report(y_test, y_pred3))"
      ],
      "metadata": {
        "id": "0migcVpkIH4k"
      },
      "id": "0migcVpkIH4k",
      "execution_count": null,
      "outputs": []
    },
    {
      "cell_type": "markdown",
      "metadata": {
        "id": "vvSrHloGWrOr"
      },
      "source": [
        "##SVM"
      ],
      "id": "vvSrHloGWrOr"
    },
    {
      "cell_type": "code",
      "execution_count": null,
      "metadata": {
        "id": "PO8x_3oeWuGO"
      },
      "outputs": [],
      "source": [
        "from sklearn.svm import SVC\n",
        "svc = SVC()\n",
        "svc.fit(x_train,y_train)\n",
        "y_pred5 = svc.predict(x_test)\n",
        "y_pred5"
      ],
      "id": "PO8x_3oeWuGO"
    },
    {
      "cell_type": "code",
      "source": [
        "result = pd.DataFrame({'actual' : y_test ,'predicted' : y_pred5})\n",
        "result"
      ],
      "metadata": {
        "id": "A3g0JigyAvOy"
      },
      "id": "A3g0JigyAvOy",
      "execution_count": null,
      "outputs": []
    },
    {
      "cell_type": "code",
      "source": [
        "from sklearn.metrics import confusion_matrix\n",
        "cf = confusion_matrix(y_test, y_pred5)\n",
        "plt.figure()\n",
        "sns.heatmap(cf, annot=True)\n",
        "plt.xlabel('Prediction')\n",
        "plt.ylabel('Target')\n",
        "plt.title('Confusion Matrix')"
      ],
      "metadata": {
        "id": "MQc0NQez6abk"
      },
      "id": "MQc0NQez6abk",
      "execution_count": null,
      "outputs": []
    },
    {
      "cell_type": "code",
      "source": [
        "plt.scatter(x_test['Open'], y_pred5)\n",
        "plt.show()"
      ],
      "metadata": {
        "id": "3ulgjzLI4O7q"
      },
      "id": "3ulgjzLI4O7q",
      "execution_count": null,
      "outputs": []
    },
    {
      "cell_type": "code",
      "source": [
        "plt.scatter(x_test['Low'], y_pred5)\n",
        "plt.show()"
      ],
      "metadata": {
        "id": "x3b97W4-3sG_"
      },
      "id": "x3b97W4-3sG_",
      "execution_count": null,
      "outputs": []
    },
    {
      "cell_type": "code",
      "source": [
        "plt.scatter(x_test['High'], y_pred5)\n",
        "plt.show()"
      ],
      "metadata": {
        "id": "ztSw1zSoIfRW"
      },
      "id": "ztSw1zSoIfRW",
      "execution_count": null,
      "outputs": []
    },
    {
      "cell_type": "code",
      "source": [
        "plt.scatter(x_test['Close'], y_pred5)\n",
        "plt.show()"
      ],
      "metadata": {
        "id": "E_CgtWq5IfUt"
      },
      "id": "E_CgtWq5IfUt",
      "execution_count": null,
      "outputs": []
    },
    {
      "cell_type": "code",
      "source": [
        "print(\"Accuracy of svm:\",accuracy_score(y_test,y_pred5))"
      ],
      "metadata": {
        "id": "54aReeOOIfgi"
      },
      "id": "54aReeOOIfgi",
      "execution_count": null,
      "outputs": []
    },
    {
      "cell_type": "code",
      "source": [
        "print(\"svm:\",classification_report(y_test, y_pred5))"
      ],
      "metadata": {
        "id": "IHvKQZRPIfkQ"
      },
      "id": "IHvKQZRPIfkQ",
      "execution_count": null,
      "outputs": []
    },
    {
      "cell_type": "markdown",
      "metadata": {
        "id": "bHmNHRHoWuuJ"
      },
      "source": [
        "##K- Means"
      ],
      "id": "bHmNHRHoWuuJ"
    },
    {
      "cell_type": "code",
      "execution_count": null,
      "metadata": {
        "id": "yBUwPxCxWxK1"
      },
      "outputs": [],
      "source": [
        "from sklearn.cluster import KMeans\n",
        "model2 = KMeans(n_clusters=2)\n",
        "model2.fit(x_train,y_train)\n",
        "y_pred6 = model2.predict(x_test)\n",
        "y_pred6"
      ],
      "id": "yBUwPxCxWxK1"
    },
    {
      "cell_type": "code",
      "source": [
        "result = pd.DataFrame({'actual' : y_test ,'predicted' : y_pred6})\n",
        "result"
      ],
      "metadata": {
        "id": "KhbC1CY1BAQq"
      },
      "id": "KhbC1CY1BAQq",
      "execution_count": null,
      "outputs": []
    },
    {
      "cell_type": "code",
      "source": [
        "from sklearn.metrics import confusion_matrix\n",
        "cf = confusion_matrix(y_test, y_pred6)\n",
        "plt.figure()\n",
        "sns.heatmap(cf, annot=True)\n",
        "plt.xlabel('Prediction')\n",
        "plt.ylabel('Target')\n",
        "plt.title('Confusion Matrix')"
      ],
      "metadata": {
        "id": "vpTSgQvR6hTe"
      },
      "id": "vpTSgQvR6hTe",
      "execution_count": null,
      "outputs": []
    },
    {
      "cell_type": "code",
      "source": [
        "sse = []\n",
        "for k in range(1, 3):\n",
        "    model2 = KMeans(n_clusters=k)\n",
        "    model2.fit(x_train,y_train)\n",
        "    sse.append(model2.inertia_)\n",
        "\n",
        "plt.plot(range(1,3), sse)\n",
        "plt.xticks(range(1,3))\n",
        "plt.xlabel(\"Number of Clusters\")\n",
        "plt.ylabel(\"SSE\")\n",
        "plt.show()"
      ],
      "metadata": {
        "id": "MgWgwn8wj9k2"
      },
      "id": "MgWgwn8wj9k2",
      "execution_count": null,
      "outputs": []
    },
    {
      "cell_type": "code",
      "source": [
        "plt.scatter(x_test['Open'], y_pred6)\n",
        "plt.show()"
      ],
      "metadata": {
        "id": "IiVg5O_56m-6"
      },
      "id": "IiVg5O_56m-6",
      "execution_count": null,
      "outputs": []
    },
    {
      "cell_type": "code",
      "source": [
        "plt.scatter(x_test['Close'], y_pred6)\n",
        "plt.show()"
      ],
      "metadata": {
        "id": "dmOZnjEl6srH"
      },
      "id": "dmOZnjEl6srH",
      "execution_count": null,
      "outputs": []
    },
    {
      "cell_type": "code",
      "source": [
        "plt.scatter(x_test['Low'], y_pred6)\n",
        "plt.show()"
      ],
      "metadata": {
        "id": "SkZHPaQOIwU0"
      },
      "id": "SkZHPaQOIwU0",
      "execution_count": null,
      "outputs": []
    },
    {
      "cell_type": "code",
      "source": [
        "plt.scatter(x_test['High'], y_pred6)\n",
        "plt.show()"
      ],
      "metadata": {
        "id": "pgVSuXmZIwXl"
      },
      "id": "pgVSuXmZIwXl",
      "execution_count": null,
      "outputs": []
    },
    {
      "cell_type": "code",
      "source": [
        "print(\"Accuracy of K means:\",accuracy_score(y_test,y_pred6))"
      ],
      "metadata": {
        "id": "OsgVzj2VIwaT"
      },
      "id": "OsgVzj2VIwaT",
      "execution_count": null,
      "outputs": []
    },
    {
      "cell_type": "code",
      "source": [
        "print(\"K means:\",classification_report(y_test, y_pred6))"
      ],
      "metadata": {
        "id": "kO06dqzYIwdf"
      },
      "id": "kO06dqzYIwdf",
      "execution_count": null,
      "outputs": []
    },
    {
      "cell_type": "markdown",
      "metadata": {
        "id": "fDnvji90Y7z6"
      },
      "source": [
        "##Performance metric"
      ],
      "id": "fDnvji90Y7z6"
    },
    {
      "cell_type": "code",
      "execution_count": null,
      "metadata": {
        "id": "6k7ECXEhZBaC"
      },
      "outputs": [],
      "source": [
        "from sklearn.metrics import accuracy_score\n",
        "print(\"Accuracy of Naive Bayes:\",accuracy_score(y_test,y_pred4))\n",
        "print(\"Accuracy of Decision tree:\",accuracy_score(y_test,y_pred1))\n",
        "print(\"Accuracy of random forest:\",accuracy_score(y_test,y_pred2))\n",
        "print(\"Accuracy of KNN:\",accuracy_score(y_test,y_pred3))\n",
        "print(\"Accuracy of svc:\",accuracy_score(y_test,y_pred5))\n",
        "print(\"Accuracy of K means:\",accuracy_score(y_test,y_pred6))"
      ],
      "id": "6k7ECXEhZBaC"
    },
    {
      "cell_type": "code",
      "execution_count": null,
      "metadata": {
        "id": "myuS_0TWZBda"
      },
      "outputs": [],
      "source": [
        "from sklearn.metrics import classification_report, confusion_matrix\n",
        "print(\"naive bayes\")\n",
        "print(confusion_matrix(y_test, y_pred4))\n",
        "print(\"Decision tree\")\n",
        "print(confusion_matrix(y_test, y_pred1))\n",
        "print(\"Random forest\")\n",
        "print(confusion_matrix(y_test, y_pred2))\n",
        "print(\"Knn\")\n",
        "print(confusion_matrix(y_test, y_pred3))\n",
        "print(\"SVC\")\n",
        "print(confusion_matrix(y_test, y_pred5))\n",
        "print(\"K-means\")\n",
        "print(confusion_matrix(y_test, y_pred6))"
      ],
      "id": "myuS_0TWZBda"
    },
    {
      "cell_type": "code",
      "source": [
        "\n",
        "from sklearn.metrics import classification_report\n",
        "print(\"Naive Bayes:\",classification_report(y_test, y_pred4))\n",
        "print(\"Decision tree:\",classification_report(y_test, y_pred1))\n",
        "print(\"random forest:\",classification_report(y_test, y_pred2))\n",
        "print(\"KNN:\",classification_report(y_test, y_pred3))\n",
        "print(\"svc:\",classification_report(y_test, y_pred5))\n",
        "print(\"K means:\",classification_report(y_test, y_pred6))"
      ],
      "metadata": {
        "id": "o_j0gHSbtcZB"
      },
      "id": "o_j0gHSbtcZB",
      "execution_count": null,
      "outputs": []
    },
    {
      "cell_type": "markdown",
      "source": [
        "##Decision tree  has high accuracy than other models"
      ],
      "metadata": {
        "id": "3623QA2DhZ7g"
      },
      "id": "3623QA2DhZ7g"
    }
  ],
  "metadata": {
    "colab": {
      "provenance": []
    },
    "kernelspec": {
      "display_name": "Python 3 (ipykernel)",
      "language": "python",
      "name": "python3"
    },
    "language_info": {
      "codemirror_mode": {
        "name": "ipython",
        "version": 3
      },
      "file_extension": ".py",
      "mimetype": "text/x-python",
      "name": "python",
      "nbconvert_exporter": "python",
      "pygments_lexer": "ipython3",
      "version": "3.9.7"
    }
  },
  "nbformat": 4,
  "nbformat_minor": 5
}